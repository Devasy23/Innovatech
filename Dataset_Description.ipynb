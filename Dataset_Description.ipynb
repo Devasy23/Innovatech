{
  "nbformat": 4,
  "nbformat_minor": 0,
  "metadata": {
    "colab": {
      "provenance": []
    },
    "kernelspec": {
      "name": "python3",
      "display_name": "Python 3"
    },
    "language_info": {
      "name": "python"
    }
  },
  "cells": [
    {
      "cell_type": "markdown",
      "source": [
        "Different Columns"
      ],
      "metadata": {
        "id": "rpZVNr6241ON"
      }
    },
    {
      "cell_type": "code",
      "source": [
        "columns = [\n",
        "    \"REPORTNO\",\n",
        "    \"SHAPE\",\n",
        "    \"WEIGHT\",\n",
        "    \"CUT\",\n",
        "    \"POLISH\",\n",
        "    \"SYMN\",\n",
        "    \"COLOR\",\n",
        "    \"PURITY\",\n",
        "    \"FLUOR\",\n",
        "    \"MES1\",\n",
        "    \"MES2\",\n",
        "    \"MES3\",\n",
        "    \"TABLE\",\n",
        "    \"DEPTHPER\",\n",
        "    \"PRICE/CTS\",\n",
        "    \"TOTAL\",\n",
        "    \"VIDEOLINK\",\n",
        "    \"PDFLINK\",\n",
        "    \"CSTATUS\",\n",
        "    \"RATIO\",\n",
        "    \"CERT\",\n",
        "]"
      ],
      "metadata": {
        "id": "2NpofRVL45Dh"
      },
      "execution_count": null,
      "outputs": []
    },
    {
      "cell_type": "markdown",
      "source": [
        "Different values of Shape user can give"
      ],
      "metadata": {
        "id": "XF95vDiI4-Gc"
      }
    },
    {
      "cell_type": "code",
      "source": [
        "actual_shape_dict = {'ROUND':'RD', 'RD':'RD', 'R':'RD', 'BR':'RD', 'RB':'RD',\n",
        "          'ROUND BRILLIANT':'RD','ROUNDBRILLIANT':'RD', 'BRILLIANT':'RD',\n",
        "          'BRILLIANT CUT':'RD', 'BRILLIANTCUT':'RD', \n",
        "          'OVAL':'OV',  'OV':'OV', 'OC':'OV',  'OVEL':'OV', 'OL':'OV', \n",
        "          'EMERALD':'EM', 'EM':'EM', 'EMRD':'EM', 'EC':'EM', \n",
        "          'CUSHION MODIFIED':'CU', 'CMB':'CU','CM':'CU', 'CS':'CU', 'CUSHIONMODIFIED':'CU',\n",
        "          'CUSHION':'CU', 'CUS':'CU','CU':'CU',\n",
        "          'PRINCESS':'PR','PR':'PR','PC':'PR',\n",
        "          'PEAR':'PS','PAER':'PS', 'PER':'PS', 'PS':'PS',\n",
        "          'RADIANT':'RA', 'RAD':'RA', 'RA':'RA',          \n",
        "          'MARQUISE':'MQ', 'MR':'MQ', 'MQ':'MQ', 'MAR':'MQ',\n",
        "          'ASHCHER':'AS', 'AS':'AS', 'ASSCHER': 'AS',\n",
        "          'HEART':'HS','HRT':'HS', 'LOVE':'HS', 'HS':'HS', 'HR':'HS', 'HC':'HS',\n",
        "          'TRIANGLE':'TR', 'TRI': 'TR', 'TR':'TR'}\n",
        "\n",
        "shape_list = ['RD', 'OV', 'EM', 'CU', 'PR', 'PS', 'RA', 'MQ', 'AS', 'HS', 'TR']"
      ],
      "metadata": {
        "id": "LiBoaBg449VY"
      },
      "execution_count": null,
      "outputs": []
    },
    {
      "cell_type": "markdown",
      "source": [
        "Different values of color user can give"
      ],
      "metadata": {
        "id": "wu3e5e_97ivP"
      }
    },
    {
      "cell_type": "code",
      "source": [
        "actual_color_dict = {'D':'D', 'E':'E', 'F':'F', 'D-':'D', 'E-':'E', 'F-':'F','D+':'D', 'E+':'E', 'F+':'F',\n",
        "                     'G':'G', 'H':'H', 'I':'I', 'G-':'G', 'H-':'H', 'I-':'I', 'G+':'G', 'H+':'H', 'I+':'I',\n",
        "                     'J':'J', 'K':'K', 'L':'L', 'J-':'J', 'K-':'K', 'L-':'L', 'J+':'J', 'K+':'K', 'L+':'L',\n",
        "                     'M':'M', 'N':'N', 'O':'O', 'M-':'M', 'N-':'N', 'O-':'O', 'M+':'M', 'N+':'N', 'O+':'O',\n",
        "                     'P':'P', 'Q':'Q', 'P-':'P', 'Q-':'Q', 'Q+':'Q', 'P+':'P',\n",
        "                     'Q':'Q', 'R':'R', 'S':'S', 'T':'T', 'U':'U', 'V':'V',\n",
        "                     'W':'W', 'X':'X', 'Y':'Y', 'Z':'Z'}\n",
        "                     \n",
        "color_list = ['D', 'E', 'F', 'G', 'H', 'I', 'J', 'K', 'L', 'M', 'N', 'O', 'P', 'Q', 'R', 'S', 'T', 'U', 'V', 'W', 'X', 'Y', 'Z']"
      ],
      "metadata": {
        "id": "e_x803gG7g3H"
      },
      "execution_count": null,
      "outputs": []
    },
    {
      "cell_type": "markdown",
      "source": [
        "Different values of fluorescence user can give"
      ],
      "metadata": {
        "id": "ModeHMWx7x01"
      }
    },
    {
      "cell_type": "code",
      "source": [
        "actual_fluor_dict = {\n",
        "    'NONE':'N', 'NON':'N', 'N':'N', 'NO':'N', 'NAN':'N',\n",
        "    'FAINT':'F','FNT':'F', 'FAINT':'F', 'F': 'F',\n",
        "    'MEDIUM':'M','MED':'M', 'M':'M', 'MEDIUMYELLOW': 'M',\n",
        "    'STRONG':'S', 'STG':'S', 'S':'S', 'ST':'S', 'STRONGYELLOW':'S',\n",
        "    'VERY STRONG':'VS', 'VST':'VS', 'VSTG':'VS', 'VS':'VS', 'VERYSTRONG':'VS', 'VERYSTRONGBL': 'VS',\n",
        "    }\n",
        "# Fluor Count 5\n",
        "fluor_list = ['N', 'F', 'M', 'S', 'VS'] "
      ],
      "metadata": {
        "id": "iPbLiFvS8RmE"
      },
      "execution_count": null,
      "outputs": []
    },
    {
      "cell_type": "markdown",
      "source": [
        "Different values of clarity user can give"
      ],
      "metadata": {
        "id": "l8FBlaig8W7N"
      }
    },
    {
      "cell_type": "code",
      "source": [
        "actual_clarity_dict = {\n",
        "    'FL':'FL', 'IF':'IF', 'VVS1':'VVS1', 'VVS2':'VVS2', 'VS1':'VS1',\n",
        "    'FL-':'IF', 'IF-':'IF', 'VVS1-':'VVS1', 'VVS2-':'VVS2', 'VS1-':'VS1',\n",
        "    'FL+':'IF', 'IF+':'IF', 'VVS1+':'VVS1', 'VVS2+':'VVS2', 'VS1+':'VS1',\n",
        "    'VS2':'VS2', 'SI1':'SI1', 'SI2':'SI2', 'I1':'', 'I2':'', 'I3':'I3',\n",
        "    'VS2-':'VS2', 'SI1-':'SI1', 'SI2-':'SI2', 'I1-':'I1', 'I2-':'I2', 'I3-':'I3',\n",
        "    'VS2+':'VS2', 'SI1+':'SI1', 'SI2+':'SI2', 'I1+':'I1', 'I2+':'I2', 'I3+':'I3'}\n",
        "# Clarity Count 12\n",
        "clarity_list = ['FL', 'IF', 'VVS1', 'VVS2', 'VS1', 'VS2', 'SI1', 'SI2', 'I1', 'I2', 'I3', 'PK']"
      ],
      "metadata": {
        "id": "c2bCIZZy8WSy"
      },
      "execution_count": null,
      "outputs": []
    },
    {
      "cell_type": "markdown",
      "source": [
        "Different values of cut user can give"
      ],
      "metadata": {
        "id": "R4dB1oUH8n5o"
      }
    },
    {
      "cell_type": "code",
      "source": [
        "actual_cut_dict = {'EX':'X', 'VG':'VG', 'G': 'G', 'X':'X',\n",
        "                   'EX-':'X', 'VG-':'VG', 'G-': 'G',\n",
        "                   'EX+':'X', 'VG+':'VG', 'G+': 'G',\n",
        "                   'EXCELLENT':'X', 'VERY GOOD': 'VG', 'VERYGOOD': 'VG', 'GOOD': 'G',\n",
        "                   'F':'F','FAIR':'F','P':'P','POOR':'P',}\n",
        "# Cut Count 5\n",
        "cut_list = ['X', 'VG', 'G', 'F', 'P']"
      ],
      "metadata": {
        "id": "ZOUI89-v8yuO"
      },
      "execution_count": null,
      "outputs": []
    },
    {
      "cell_type": "markdown",
      "source": [
        "Different values of polish user can give"
      ],
      "metadata": {
        "id": "rq30SL6c813o"
      }
    },
    {
      "cell_type": "code",
      "source": [
        "actual_polish_dict = {'EX':'X', 'VG':'VG', 'G': 'G', 'X':'X',\n",
        "                   'EX-':'X', 'VG-':'VG', 'G-': 'G',\n",
        "                   'EX+':'X', 'VG+':'VG', 'G+': 'G',\n",
        "                   'EXCELLENT':'X', 'VERY GOOD': 'VG', 'VERYGOOD': 'VG', 'GOOD': 'G',\n",
        "                   'F':'F','FAIR':'F','P':'P','POOR':'P',}\n",
        "# Polish Count 5\n",
        "polish_list = ['X', 'VG', 'G', 'F', 'P']"
      ],
      "metadata": {
        "id": "U3DFWDrH9T41"
      },
      "execution_count": null,
      "outputs": []
    },
    {
      "cell_type": "markdown",
      "source": [
        "Different values of symmetry user can give"
      ],
      "metadata": {
        "id": "pltt7S7n9Vp1"
      }
    },
    {
      "cell_type": "code",
      "source": [
        "actual_sym_dict = {'EX':'X', 'VG':'VG', 'G': 'G', 'X':'X',\n",
        "                   'EX-':'X', 'VG-':'VG', 'G-': 'G',\n",
        "                   'EX+':'X', 'VG+':'VG', 'G+': 'G',\n",
        "                   'EXCELLENT':'X', 'VERY GOOD': 'VG', 'VERYGOOD': 'VG', 'GOOD': 'G',\n",
        "                   'F':'F','FAIR':'F','P':'P','POOR':'P',}\n",
        "# Symmetry Count 5\n",
        "sym_list = ['X', 'VG', 'G', 'F', 'P']"
      ],
      "metadata": {
        "id": "mvNfqq399gnF"
      },
      "execution_count": null,
      "outputs": []
    },
    {
      "cell_type": "markdown",
      "source": [
        "Columns which will have float values"
      ],
      "metadata": {
        "id": "R6BQlnNk9k-N"
      }
    },
    {
      "cell_type": "code",
      "source": [
        "FLOATCOLS = (\"MES1\", \"MES2\", \"MES3\", \"TABLE\", \"DEPTHPER\", \"PRICE/CTS\", \"TOTAL\", \"RATIO\")\n",
        "# weight(size) -> floating number between range of 0-15"
      ],
      "metadata": {
        "id": "Auq0BVsD9hkQ"
      },
      "execution_count": null,
      "outputs": []
    }
  ]
}
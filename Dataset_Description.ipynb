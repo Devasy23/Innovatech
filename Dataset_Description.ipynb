{
  "cells": [
    {
      "cell_type": "markdown",
      "metadata": {
        "id": "rpZVNr6241ON"
      },
      "source": [
        "Different Columns"
      ]
    },
    {
      "cell_type": "code",
      "execution_count": 1,
      "metadata": {
        "id": "2NpofRVL45Dh"
      },
      "outputs": [],
      "source": [
        "columns = [\n",
        "    \"REPORTNO\",\n",
        "    \"SHAPE\",\n",
        "    \"WEIGHT\",\n",
        "    \"CUT\",\n",
        "    \"POLISH\",\n",
        "    \"SYMN\",\n",
        "    \"COLOR\",\n",
        "    \"PURITY\",\n",
        "    \"FLUOR\",\n",
        "    \"MES1\",\n",
        "    \"MES2\",\n",
        "    \"MES3\",\n",
        "    \"TABLE\",\n",
        "    \"DEPTHPER\",\n",
        "    \"PRICE/CTS\",\n",
        "    \"TOTAL\",\n",
        "    \"VIDEOLINK\",\n",
        "    \"PDFLINK\",\n",
        "    \"CSTATUS\",\n",
        "    \"RATIO\",\n",
        "    \"CERT\",\n",
        "]"
      ]
    },
    {
      "cell_type": "markdown",
      "metadata": {
        "id": "XF95vDiI4-Gc"
      },
      "source": [
        "Different values of Shape user can give"
      ]
    },
    {
      "cell_type": "code",
      "execution_count": 2,
      "metadata": {
        "id": "LiBoaBg449VY"
      },
      "outputs": [],
      "source": [
        "actual_shape_dict = {'ROUND':'RD', 'RD':'RD', 'R':'RD', 'BR':'RD', 'RB':'RD',\n",
        "          'ROUND BRILLIANT':'RD','ROUNDBRILLIANT':'RD', 'BRILLIANT':'RD',\n",
        "          'BRILLIANT CUT':'RD', 'BRILLIANTCUT':'RD', \n",
        "          'OVAL':'OV',  'OV':'OV', 'OC':'OV',  'OVEL':'OV', 'OL':'OV', \n",
        "          'EMERALD':'EM', 'EM':'EM', 'EMRD':'EM', 'EC':'EM', \n",
        "          'CUSHION MODIFIED':'CU', 'CMB':'CU','CM':'CU', 'CS':'CU', 'CUSHIONMODIFIED':'CU',\n",
        "          'CUSHION':'CU', 'CUS':'CU','CU':'CU',\n",
        "          'PRINCESS':'PR','PR':'PR','PC':'PR',\n",
        "          'PEAR':'PS','PAER':'PS', 'PER':'PS', 'PS':'PS',\n",
        "          'RADIANT':'RA', 'RAD':'RA', 'RA':'RA',          \n",
        "          'MARQUISE':'MQ', 'MR':'MQ', 'MQ':'MQ', 'MAR':'MQ',\n",
        "          'ASHCHER':'AS', 'AS':'AS', 'ASSCHER': 'AS',\n",
        "          'HEART':'HS','HRT':'HS', 'LOVE':'HS', 'HS':'HS', 'HR':'HS', 'HC':'HS',\n",
        "          'TRIANGLE':'TR', 'TRI': 'TR', 'TR':'TR'}\n",
        "\n",
        "shape_list = ['RD', 'OV', 'EM', 'CU', 'PR', 'PS', 'RA', 'MQ', 'AS', 'HS', 'TR']"
      ]
    },
    {
      "cell_type": "markdown",
      "metadata": {
        "id": "wu3e5e_97ivP"
      },
      "source": [
        "Different values of color user can give"
      ]
    },
    {
      "cell_type": "code",
      "execution_count": 3,
      "metadata": {
        "id": "e_x803gG7g3H"
      },
      "outputs": [],
      "source": [
        "actual_color_dict = {'D':'D', 'E':'E', 'F':'F', 'D-':'D', 'E-':'E', 'F-':'F','D+':'D', 'E+':'E', 'F+':'F',\n",
        "                     'G':'G', 'H':'H', 'I':'I', 'G-':'G', 'H-':'H', 'I-':'I', 'G+':'G', 'H+':'H', 'I+':'I',\n",
        "                     'J':'J', 'K':'K', 'L':'L', 'J-':'J', 'K-':'K', 'L-':'L', 'J+':'J', 'K+':'K', 'L+':'L',\n",
        "                     'M':'M', 'N':'N', 'O':'O', 'M-':'M', 'N-':'N', 'O-':'O', 'M+':'M', 'N+':'N', 'O+':'O',\n",
        "                     'P':'P', 'Q':'Q', 'P-':'P', 'Q-':'Q', 'Q+':'Q', 'P+':'P',\n",
        "                     'Q':'Q', 'R':'R', 'S':'S', 'T':'T', 'U':'U', 'V':'V',\n",
        "                     'W':'W', 'X':'X', 'Y':'Y', 'Z':'Z'}\n",
        "                     \n",
        "color_list = ['D', 'E', 'F', 'G', 'H', 'I', 'J', 'K', 'L', 'M', 'N', 'O', 'P', 'Q', 'R', 'S', 'T', 'U', 'V', 'W', 'X', 'Y', 'Z']"
      ]
    },
    {
      "cell_type": "markdown",
      "metadata": {
        "id": "ModeHMWx7x01"
      },
      "source": [
        "Different values of fluorescence user can give"
      ]
    },
    {
      "cell_type": "code",
      "execution_count": 4,
      "metadata": {
        "id": "iPbLiFvS8RmE"
      },
      "outputs": [],
      "source": [
        "actual_fluor_dict = {\n",
        "    'NONE':'N', 'NON':'N', 'N':'N', 'NO':'N', 'NAN':'N',\n",
        "    'FAINT':'F','FNT':'F', 'FAINT':'F', 'F': 'F',\n",
        "    'MEDIUM':'M','MED':'M', 'M':'M', 'MEDIUMYELLOW': 'M',\n",
        "    'STRONG':'S', 'STG':'S', 'S':'S', 'ST':'S', 'STRONGYELLOW':'S',\n",
        "    'VERY STRONG':'VS', 'VST':'VS', 'VSTG':'VS', 'VS':'VS', 'VERYSTRONG':'VS', 'VERYSTRONGBL': 'VS',\n",
        "    }\n",
        "# Fluor Count 5\n",
        "fluor_list = ['N', 'F', 'M', 'S', 'VS'] "
      ]
    },
    {
      "cell_type": "markdown",
      "metadata": {
        "id": "l8FBlaig8W7N"
      },
      "source": [
        "Different values of clarity user can give"
      ]
    },
    {
      "cell_type": "code",
      "execution_count": 5,
      "metadata": {
        "id": "c2bCIZZy8WSy"
      },
      "outputs": [],
      "source": [
        "actual_clarity_dict = {\n",
        "    'FL':'FL', 'IF':'IF', 'VVS1':'VVS1', 'VVS2':'VVS2', 'VS1':'VS1',\n",
        "    'FL-':'IF', 'IF-':'IF', 'VVS1-':'VVS1', 'VVS2-':'VVS2', 'VS1-':'VS1',\n",
        "    'FL+':'IF', 'IF+':'IF', 'VVS1+':'VVS1', 'VVS2+':'VVS2', 'VS1+':'VS1',\n",
        "    'VS2':'VS2', 'SI1':'SI1', 'SI2':'SI2', 'I1':'', 'I2':'', 'I3':'I3',\n",
        "    'VS2-':'VS2', 'SI1-':'SI1', 'SI2-':'SI2', 'I1-':'I1', 'I2-':'I2', 'I3-':'I3',\n",
        "    'VS2+':'VS2', 'SI1+':'SI1', 'SI2+':'SI2', 'I1+':'I1', 'I2+':'I2', 'I3+':'I3'}\n",
        "# Clarity Count 12\n",
        "clarity_list = ['FL', 'IF', 'VVS1', 'VVS2', 'VS1', 'VS2', 'SI1', 'SI2', 'I1', 'I2', 'I3', 'PK']"
      ]
    },
    {
      "cell_type": "markdown",
      "metadata": {
        "id": "R4dB1oUH8n5o"
      },
      "source": [
        "Different values of cut user can give"
      ]
    },
    {
      "cell_type": "code",
      "execution_count": 6,
      "metadata": {
        "id": "ZOUI89-v8yuO"
      },
      "outputs": [],
      "source": [
        "actual_cut_dict = {'EX':'X', 'VG':'VG', 'G': 'G', 'X':'X',\n",
        "                   'EX-':'X', 'VG-':'VG', 'G-': 'G',\n",
        "                   'EX+':'X', 'VG+':'VG', 'G+': 'G',\n",
        "                   'EXCELLENT':'X', 'VERY GOOD': 'VG', 'VERYGOOD': 'VG', 'GOOD': 'G',\n",
        "                   'F':'F','FAIR':'F','P':'P','POOR':'P',}\n",
        "# Cut Count 5\n",
        "cut_list = ['X', 'VG', 'G', 'F', 'P']"
      ]
    },
    {
      "cell_type": "markdown",
      "metadata": {
        "id": "rq30SL6c813o"
      },
      "source": [
        "Different values of polish user can give"
      ]
    },
    {
      "cell_type": "code",
      "execution_count": 7,
      "metadata": {
        "id": "U3DFWDrH9T41"
      },
      "outputs": [],
      "source": [
        "actual_polish_dict = {'EX':'X', 'VG':'VG', 'G': 'G', 'X':'X',\n",
        "                   'EX-':'X', 'VG-':'VG', 'G-': 'G',\n",
        "                   'EX+':'X', 'VG+':'VG', 'G+': 'G',\n",
        "                   'EXCELLENT':'X', 'VERY GOOD': 'VG', 'VERYGOOD': 'VG', 'GOOD': 'G',\n",
        "                   'F':'F','FAIR':'F','P':'P','POOR':'P',}\n",
        "# Polish Count 5\n",
        "polish_list = ['X', 'VG', 'G', 'F', 'P']"
      ]
    },
    {
      "cell_type": "markdown",
      "metadata": {
        "id": "pltt7S7n9Vp1"
      },
      "source": [
        "Different values of symmetry user can give"
      ]
    },
    {
      "cell_type": "code",
      "execution_count": 8,
      "metadata": {
        "id": "mvNfqq399gnF"
      },
      "outputs": [],
      "source": [
        "actual_sym_dict = {'EX':'X', 'VG':'VG', 'G': 'G', 'X':'X',\n",
        "                   'EX-':'X', 'VG-':'VG', 'G-': 'G',\n",
        "                   'EX+':'X', 'VG+':'VG', 'G+': 'G',\n",
        "                   'EXCELLENT':'X', 'VERY GOOD': 'VG', 'VERYGOOD': 'VG', 'GOOD': 'G',\n",
        "                   'F':'F','FAIR':'F','P':'P','POOR':'P',}\n",
        "# Symmetry Count 5\n",
        "sym_list = ['X', 'VG', 'G', 'F', 'P']"
      ]
    },
    {
      "cell_type": "markdown",
      "metadata": {
        "id": "R6BQlnNk9k-N"
      },
      "source": [
        "Columns which will have float values"
      ]
    },
    {
      "cell_type": "code",
      "execution_count": 9,
      "metadata": {
        "id": "Auq0BVsD9hkQ"
      },
      "outputs": [],
      "source": [
        "FLOATCOLS = (\"MES1\", \"MES2\", \"MES3\", \"TABLE\", \"DEPTHPER\", \"PRICE/CTS\", \"TOTAL\", \"RATIO\")\n",
        "# weight(size) -> floating number between range of 0-15"
      ]
    },
    {
      "cell_type": "code",
      "execution_count": 13,
      "metadata": {},
      "outputs": [
        {
          "name": "stdout",
          "output_type": "stream",
          "text": [
            "PS 1.5-2ct si1+ vg+ vg+ h-j\n",
            "PS 0.5-1ct vs1+ ex ex d-f\n",
            "L marq 2-2.5ct vs2+ ex ex g-k none\n",
            "O emd 0.5-1ct si2+ ex ex d-j none\n",
            "L marq 1-1.5ct si1+ ex ex h-j none\n",
            "RB 2.5-3ct si2+ vg+ vg+ d-j\n",
            "ECU 0.5-1ct si1+ vg+ vg+ h-j\n",
            "MR 2.5-3ct si2+ vg+ vg+ d-j none\n",
            "PS 0.5-1ct vs1+ ex ex d-f\n",
            "H pear 1-1.5ct vs2+ vg+ vg+ g-k none\n"
          ]
        }
      ],
      "source": [
        "import random\n",
        "\n",
        "# Define the data ranges for each diamond characteristic\n",
        "carat_ranges = [\n",
        "    (0.5, 1),\n",
        "    (1, 1.5),\n",
        "    (1.5, 2),\n",
        "    (2, 2.5),\n",
        "    (2.5, 3)\n",
        "]\n",
        "\n",
        "color_clarity_ranges = [\n",
        "    ('d', 'f', 'vs1+'),\n",
        "    ('g', 'k', 'vs2+'),\n",
        "    ('h', 'j', 'si1+'),\n",
        "    ('d', 'j', 'si2+')\n",
        "]\n",
        "\n",
        "cut_ranges = [\n",
        "    ('ex', 'ex', 'ex'),\n",
        "    ('vg+', 'vg+', 'vg+')\n",
        "]\n",
        "\n",
        "shape_ranges = [\n",
        "    'RB',\n",
        "    'PS',\n",
        "    'ECU',\n",
        "    'H pear',\n",
        "    'L pear',\n",
        "    'P emd',\n",
        "    'O emd',\n",
        "    'ASSC',\n",
        "    'MR',\n",
        "    'L marq'\n",
        "]\n",
        "\n",
        "# Generate a random query\n",
        "def generate_query():\n",
        "    shape = random.choice(shape_ranges)\n",
        "    carat_range = random.choice(carat_ranges)\n",
        "    color_clarity_range = random.choice(color_clarity_ranges)\n",
        "    cut_range = random.choice(cut_ranges)\n",
        "    #randomly shuffle the order of the cut, color, clarity, shape in the query  \n",
        "    random.shuffle([cut_range, color_clarity_range, shape])\n",
        "    query = f\"{shape} {carat_range[0]}-{carat_range[1]}ct {color_clarity_range[2]} {cut_range[0]} {cut_range[1]} {color_clarity_range[0]}-{color_clarity_range[1]}\"\n",
        "    \n",
        "    # Add optional \"none\" parameter for shapes that don't have a cut or clarity\n",
        "    if shape in ['MR', 'ASSC', 'O emd', 'H pear', 'L marq']:\n",
        "        query += \" none\"\n",
        "    \n",
        "    return query\n",
        "\n",
        "# Generate multiple random queries\n",
        "num_queries = 10\n",
        "for i in range(num_queries):\n",
        "    print(generate_query())\n"
      ]
    },
    {
      "cell_type": "code",
      "execution_count": 12,
      "metadata": {},
      "outputs": [
        {
          "data": {
            "text/plain": [
              "\"SELECT * FROM diamonds WHERE shape = 'PR' AND color = 'J' AND clarity = 'I3' AND cut = 'X' AND polish = 'X' AND sym = 'P' AND fluor = 'M' AND carat BETWEEN 8.803875605467502 AND 8.823875605467501 AND price BETWEEN 294662 AND 294664 AND table BETWEEN 53.61502613582878 AND 53.635026135828774 AND depth BETWEEN 52.409741927871366 AND 52.42974192787136 AND ratio BETWEEN 1.530417587776215 AND 1.550417587776215 AND mes1 BETWEEN 7.870554419623027 AND 7.890554419623027 AND mes2 BETWEEN 1.082703848191453 AND 1.102703848191453 AND mes3 BETWEEN 5.683483656826526 AND 5.703483656826526 AND price_per_cts BETWEEN 44198.04084087839 AND 44198.060840878396 AND total BETWEEN 31854.905523047237 AND 31854.925523047234\""
            ]
          },
          "execution_count": 12,
          "metadata": {},
          "output_type": "execute_result"
        }
      ],
      "source": [
        "generate_random_query()"
      ]
    },
    {
      "cell_type": "code",
      "execution_count": 51,
      "metadata": {},
      "outputs": [
        {
          "name": "stdout",
          "output_type": "stream",
          "text": [
            "F 1.5-2ct X G polish HS shap Q color SI2\n",
            "X polish E color I1 VG 0.5-1ct VG HS shap\n",
            "X 0.5-1ct PR shap F polish X W color VVS2\n",
            "RD shap 0.5-1ct X R color IF VG X polish\n",
            "F RD shap 2-2.5ct X polish F O color PK\n",
            "F polish G 0.5-1ct PR shap Z color VVS2 G\n",
            "2.5-3ct P X W color I2 RA shap VG polish\n",
            "G F polish G 1-1.5ct EM shap O color VS2\n",
            "X polish F 1.5-2ct EM shap R color SI1 G\n",
            "MQ shap X 1-1.5ct VG polish Y color VVS1 P\n",
            "K color VS2 1-1.5ct F TR shap VG polish F\n",
            "G 0.5-1ct P polish E color VVS2 P TR shap\n",
            "F P 1.5-2ct X polish F color I3 PR shap\n",
            "F polish X Q color I2 VG 2.5-3ct EM shap\n",
            "VG polish 0.5-1ct VG OV shap U color VVS1 P\n",
            "Z color VS1 X P polish G EM shap 2.5-3ct\n",
            "D color FL P X polish 1-1.5ct F MQ shap\n",
            "2-2.5ct P G OV shap U color I2 VG polish\n",
            "P I color I2 1.5-2ct MQ shap VG polish G\n",
            "X X 2-2.5ct TR shap P polish U color VS2\n",
            "M color PK P CU shap 1.5-2ct G polish X\n",
            "X H color VVS2 X polish X 0.5-1ct HS shap\n",
            "G polish TR shap H color VVS2 X F 1-1.5ct\n",
            "Z color IF P P polish HS shap X 0.5-1ct\n",
            "F polish PS shap 1-1.5ct VG W color VVS2 G\n",
            "P W color IF EM shap G polish G 0.5-1ct\n",
            "P F VG polish L color VVS1 PR shap 2-2.5ct\n",
            "RA shap P polish 2-2.5ct F U color I2 G\n",
            "2.5-3ct N color FL VG polish G HS shap F\n",
            "P VG polish 2.5-3ct Q color SI1 VG PS shap\n",
            "G VG VG polish 2-2.5ct OV shap H color VVS1\n",
            "VG X T color PK TR shap 0.5-1ct F polish\n",
            "M color SI2 X polish X F MQ shap 2-2.5ct\n",
            "HS shap F color IF X 2-2.5ct VG F polish\n",
            "2.5-3ct F E color IF CU shap VG F polish\n",
            "0.5-1ct RA shap G X polish VG M color FL\n",
            "F MQ shap VG polish F G color SI2 1-1.5ct\n",
            "F polish F 0.5-1ct F N color SI1 AS shap\n",
            "F G W color I3 OV shap X polish 2-2.5ct\n",
            "AS shap VG 1-1.5ct G S color PK X polish\n",
            "1.5-2ct VG G Z color VVS2 X polish PS shap\n",
            "RA shap P 1-1.5ct T color VS1 G P polish\n",
            "P AS shap 1-1.5ct G polish H color IF VG\n",
            "EM shap D color VVS1 X G 0.5-1ct X polish\n",
            "HS shap VG 2-2.5ct K color SI1 VG polish P\n",
            "L color VVS1 CU shap X F polish 0.5-1ct G\n",
            "F 1-1.5ct VG Y color VVS1 CU shap F polish\n",
            "2.5-3ct F VG polish RD shap VG T color PK\n",
            "AS shap 0.5-1ct P VG polish X Q color SI1\n",
            "1.5-2ct X VG polish AS shap U color VS1 F\n",
            "K color VS2 0.5-1ct F polish PS shap P F\n",
            "1-1.5ct G X color I3 G OV shap F polish\n",
            "VG W color I2 VG polish MQ shap 0.5-1ct X\n",
            "VG G X polish PR shap 2-2.5ct K color VS2\n",
            "2-2.5ct EM shap Q color VVS2 VG F F polish\n",
            "2-2.5ct F F polish X CU shap V color VVS1\n",
            "1.5-2ct VG polish V color PK G EM shap VG\n",
            "1-1.5ct V color FL RD shap F X polish G\n",
            "AS shap X F F color PK G polish 2.5-3ct\n",
            "HS shap P 0.5-1ct F polish Z color SI1 G\n",
            "G polish OV shap 1.5-2ct VG J color SI2 X\n",
            "RA shap 1.5-2ct Z color SI2 F polish VG P\n",
            "AS shap VG polish S color IF 0.5-1ct G F\n",
            "EM shap O color VVS1 G polish X P 2.5-3ct\n",
            "1.5-2ct X G polish PR shap V color SI2 G\n",
            "F polish VG 2.5-3ct TR shap F G color VVS1\n",
            "X M color I1 1.5-2ct OV shap G VG polish\n",
            "RD shap W color I3 X 1-1.5ct X X polish\n",
            "2-2.5ct P polish U color I2 X MQ shap X\n",
            "0.5-1ct TR shap S color FL X polish F F\n",
            "2-2.5ct X polish VG P TR shap G color I1\n",
            "X polish P N color IF G RA shap 1.5-2ct\n",
            "MQ shap P 0.5-1ct P polish H color I1 P\n",
            "V color SI1 P OV shap F P polish 2-2.5ct\n",
            "F color PK VG F polish 1.5-2ct PS shap VG\n",
            "X G 1.5-2ct E color I1 OV shap VG polish\n",
            "P polish F PS shap V color SI2 G 2-2.5ct\n",
            "P P CU shap F color IF G polish 2-2.5ct\n",
            "VG polish G CU shap G S color PK 1.5-2ct\n",
            "P AS shap 2-2.5ct G polish Q color VVS2 F\n",
            "H color SI1 MQ shap VG polish 1-1.5ct VG VG\n",
            "X polish P color IF P 1.5-2ct P HS shap\n",
            "2.5-3ct F G Q color SI1 G polish HS shap\n",
            "P 2.5-3ct W color I2 G X polish RA shap\n",
            "X polish D color VVS1 PR shap G VG 2.5-3ct\n",
            "0.5-1ct G X MQ shap V color IF P polish\n",
            "V color VVS1 F P F polish HS shap 0.5-1ct\n",
            "N color I2 X polish 1-1.5ct AS shap VG VG\n",
            "X X polish 0.5-1ct EM shap F W color PK\n",
            "HS shap F polish P 2.5-3ct G F color SI2\n",
            "F E color SI1 0.5-1ct VG polish PS shap X\n",
            "VG 2-2.5ct P polish U color I1 F RD shap\n",
            "RD shap S color VVS1 VG polish 1.5-2ct G P\n",
            "VG polish G X P color I2 OV shap 0.5-1ct\n",
            "G P polish OV shap O color VVS2 2-2.5ct VG\n",
            "X polish X N color FL 2.5-3ct HS shap G\n",
            "MQ shap O color VVS1 F 2.5-3ct F polish X\n",
            "F 2.5-3ct RD shap G polish L color VVS2 G\n",
            "X RA shap F polish 2.5-3ct X I color SI2\n",
            "W color I2 G G PS shap 0.5-1ct X polish\n"
          ]
        }
      ],
      "source": [
        "import random\n",
        "columns = [\n",
        "    \"REPORTNO\", \"SHAPE\",\n",
        "    \"WEIGHT\",    \"CUT\",\n",
        "    \"POLISH\",    \"SYMN\",\n",
        "    \"COLOR\",    \"PURITY\",\n",
        "    \"FLUOR\",    \"MES1\",\n",
        "    \"MES2\",    \"MES3\",\n",
        "    \"TABLE\",\n",
        "    \"DEPTHPER\",    \"PRICE/CTS\",\n",
        "    \"TOTAL\",    \"VIDEOLINK\",\n",
        "    \"PDFLINK\",    \"CSTATUS\",\n",
        "    \"RATIO\",    \"CERT\",]\n",
        "actual_shape_dict = {'ROUND':'RD', 'RD':'RD', 'R':'RD', 'BR':'RD', 'RB':'RD',\n",
        "          'ROUND BRILLIANT':'RD','ROUNDBRILLIANT':'RD', 'BRILLIANT':'RD',\n",
        "          'BRILLIANT CUT':'RD', 'BRILLIANTCUT':'RD', \n",
        "          'OVAL':'OV',  'OV':'OV', 'OC':'OV',  'OVEL':'OV', 'OL':'OV', \n",
        "          'EMERALD':'EM', 'EM':'EM', 'EMRD':'EM', 'EC':'EM', \n",
        "          'CUSHION MODIFIED':'CU', 'CMB':'CU','CM':'CU', 'CS':'CU', 'CUSHIONMODIFIED':'CU',\n",
        "          'CUSHION':'CU', 'CUS':'CU','CU':'CU',\n",
        "          'PRINCESS':'PR','PR':'PR','PC':'PR',\n",
        "          'PEAR':'PS','PAER':'PS', 'PER':'PS', 'PS':'PS',\n",
        "          'RADIANT':'RA', 'RAD':'RA', 'RA':'RA',          \n",
        "          'MARQUISE':'MQ', 'MR':'MQ', 'MQ':'MQ', 'MAR':'MQ',\n",
        "          'ASHCHER':'AS', 'AS':'AS', 'ASSCHER': 'AS',\n",
        "          'HEART':'HS','HRT':'HS', 'LOVE':'HS', 'HS':'HS', 'HR':'HS', 'HC':'HS',\n",
        "          'TRIANGLE':'TR', 'TRI': 'TR', 'TR':'TR'}\n",
        "\n",
        "shape_list = ['RD', 'OV', 'EM', 'CU', 'PR', 'PS', 'RA', 'MQ', 'AS', 'HS', 'TR']\n",
        "actual_color_dict = {'D':'D', 'E':'E', 'F':'F', 'D-':'D', 'E-':'E', 'F-':'F','D+':'D', 'E+':'E', 'F+':'F',\n",
        "                     'G':'G', 'H':'H', 'I':'I', 'G-':'G', 'H-':'H', 'I-':'I', 'G+':'G', 'H+':'H', 'I+':'I',\n",
        "                     'J':'J', 'K':'K', 'L':'L', 'J-':'J', 'K-':'K', 'L-':'L', 'J+':'J', 'K+':'K', 'L+':'L',\n",
        "                     'M':'M', 'N':'N', 'O':'O', 'M-':'M', 'N-':'N', 'O-':'O', 'M+':'M', 'N+':'N', 'O+':'O',\n",
        "                     'P':'P', 'Q':'Q', 'P-':'P', 'Q-':'Q', 'Q+':'Q', 'P+':'P',\n",
        "                     'Q':'Q', 'R':'R', 'S':'S', 'T':'T', 'U':'U', 'V':'V',\n",
        "                     'W':'W', 'X':'X', 'Y':'Y', 'Z':'Z'}\n",
        "                     \n",
        "color_list = ['D', 'E', 'F', 'G', 'H', 'I', 'J', 'K', 'L', 'M', 'N', 'O', 'P', 'Q', 'R', 'S', 'T', 'U', 'V', 'W', 'X', 'Y', 'Z']\n",
        "actual_fluor_dict = {\n",
        "    'NONE':'N', 'NON':'N', 'N':'N', 'NO':'N', 'NAN':'N',\n",
        "    'FAINT':'F','FNT':'F', 'FAINT':'F', 'F': 'F',\n",
        "    'MEDIUM':'M','MED':'M', 'M':'M', 'MEDIUMYELLOW': 'M',\n",
        "    'STRONG':'S', 'STG':'S', 'S':'S', 'ST':'S', 'STRONGYELLOW':'S',\n",
        "    'VERY STRONG':'VS', 'VST':'VS', 'VSTG':'VS', 'VS':'VS', 'VERYSTRONG':'VS', 'VERYSTRONGBL': 'VS',\n",
        "    }\n",
        "# Fluor Count 5\n",
        "fluor_list = ['N', 'F', 'M', 'S', 'VS'] \n",
        "actual_clarity_dict = {\n",
        "    'FL':'FL', 'IF':'IF', 'VVS1':'VVS1', 'VVS2':'VVS2', 'VS1':'VS1',\n",
        "    'FL-':'IF', 'IF-':'IF', 'VVS1-':'VVS1', 'VVS2-':'VVS2', 'VS1-':'VS1',\n",
        "    'FL+':'IF', 'IF+':'IF', 'VVS1+':'VVS1', 'VVS2+':'VVS2', 'VS1+':'VS1',\n",
        "    'VS2':'VS2', 'SI1':'SI1', 'SI2':'SI2', 'I1':'', 'I2':'', 'I3':'I3',\n",
        "    'VS2-':'VS2', 'SI1-':'SI1', 'SI2-':'SI2', 'I1-':'I1', 'I2-':'I2', 'I3-':'I3',\n",
        "    'VS2+':'VS2', 'SI1+':'SI1', 'SI2+':'SI2', 'I1+':'I1', 'I2+':'I2', 'I3+':'I3'}\n",
        "# Clarity Count 12\n",
        "clarity_list = ['FL', 'IF', 'VVS1', 'VVS2', 'VS1', 'VS2', 'SI1', 'SI2', 'I1', 'I2', 'I3', 'PK']\n",
        "actual_cut_dict = {'EX':'X', 'VG':'VG', 'G': 'G', 'X':'X',\n",
        "                   'EX-':'X', 'VG-':'VG', 'G-': 'G',\n",
        "                   'EX+':'X', 'VG+':'VG', 'G+': 'G',\n",
        "                   'EXCELLENT':'X', 'VERY GOOD': 'VG', 'VERYGOOD': 'VG', 'GOOD': 'G',\n",
        "                   'F':'F','FAIR':'F','P':'P','POOR':'P',}\n",
        "# Cut Count 5\n",
        "cut_list = ['X', 'VG', 'G', 'F', 'P']\n",
        "actual_polish_dict = {'EX':'X', 'VG':'VG', 'G': 'G', 'X':'X',\n",
        "                   'EX-':'X', 'VG-':'VG', 'G-': 'G',\n",
        "                   'EX+':'X', 'VG+':'VG', 'G+': 'G',\n",
        "                   'EXCELLENT':'X', 'VERY GOOD': 'VG', 'VERYGOOD': 'VG', 'GOOD': 'G',\n",
        "                   'F':'F','FAIR':'F','P':'P','POOR':'P',}\n",
        "# Polish Count 5\n",
        "polish_list = ['X', 'VG', 'G', 'F', 'P']\n",
        "actual_sym_dict = {'EX':'X', 'VG':'VG', 'G': 'G', 'X':'X',\n",
        "                   'EX-':'X', 'VG-':'VG', 'G-': 'G',\n",
        "                   'EX+':'X', 'VG+':'VG', 'G+': 'G',\n",
        "                   'EXCELLENT':'X', 'VERY GOOD': 'VG', 'VERYGOOD': 'VG', 'GOOD': 'G',\n",
        "                   'F':'F','FAIR':'F','P':'P','POOR':'P',}\n",
        "# Symmetry Count 5\n",
        "sym_list = ['X', 'VG', 'G', 'F', 'P']\n",
        "\n",
        "def generate_questions():\n",
        "    '''Can you show me a pair of oval diamonds, each weighing 1.75 ct with VVS1 clarity, F color, and Good cut?\n",
        "    I'm looking for a pair of cushion cut diamonds, each weighing 1.5 ct with VS2 clarity, G color, and Very Good cut.\n",
        "    Can you find me a single marquise diamond with 2 ct weight, VVS2 clarity, E color, and Excellent cut?\n",
        "    I need a pair of RBs, each weighing 1.25 ct with VS1 clarity, J color, and Good cut.\n",
        "    Can you show me a pair of princess cut diamonds, each weighing 1.75 ct with VVS2 clarity, E color, and Very Good cut?\n",
        "    P emd 1-2ct ovl vs g-k\n",
        "    L pear 1.5-2.5ct vvs d-j vg+\n",
        "    RB 1-1.5ct vs1+ ex ex d-f\n",
        "    ECU 2-3ct vs2 h-j ex ex none\n",
        "    MR 0.5-1ct si2+ d-h vg+\n",
        "    PS 1-1.5ct vs1+ ex ex g-k\n",
        "    emd 2-3ct vs2+ d-k vg+\n",
        "    ASSC 1-2ct si2+ d-k ex ex none\n",
        "    O emd 0.75-1.25ct vs1+ ex ex d-j\n",
        "    H pear 1-2ct si2+ d-h ex ex none\n",
        "    P emd 2-3ct ov vs2 ex d-f vg+\n",
        "    MR 1-1.5ct si1+ ex ex g-k\n",
        "    RB 0.5-1ct vs2+ ex ex d-f\n",
        "    C emd 1-2ct vs2+ d-k vg+\n",
        "    ASSC 2-3ct si1+ d-k ex ex none\n",
        "    PS 0.5-1ct vs1+ ex ex d-f\n",
        "    L pear 1-1.5ct si2+ ex ex d-j\n",
        "    O emd 1-2ct vs1+ ex ex g-k\n",
        "    H oval 1.5-2ct vs2 ex ex d-f vg+\n",
        "    ECU 1-1.5ct vvs d-j ex ex none\n",
        "    RB 2-3ct vs1 ex ex d-f\n",
        "    MR 2-2.5ct si1+ d-h ex ex none\n",
        "    P emd 1ct+ vs2+ d-k ex ex none\n",
        "    PS 2-3ct vs2+ d-k ex ex none\n",
        "    C emd 1ct+ si1+ d-k ex ex none\n",
        "    H pear 2-3ct vs1+ ex ex d-k\n",
        "    L marq 1-2ct vs2+ d-k ex ex none\n",
        "    RB 1.5-2ct si1+ d-f ex ex none\n",
        "    ECU 1ct+ vs1 ex ex d-k\n",
        "    O emd 2-2.5ct vs2+ ex ex d-k vg+\n",
        "    '''\n",
        "    questions = []\n",
        "    for i in range(100):\n",
        "        questions.append(generate_question())\n",
        "    return questions\n",
        "\n",
        "def generate_question():\n",
        "    question = {}\n",
        "    question['shape'] = random.choice(shape_list)\n",
        "    question['carat'] = random.choice(carat_ranges)\n",
        "    question['color'] = random.choice(color_list)\n",
        "    question['clarity'] = random.choice(clarity_list)\n",
        "    question['cut'] = random.choice(cut_list)\n",
        "    question['polish'] = random.choice(polish_list)\n",
        "    question['sym'] = random.choice(sym_list)\n",
        "    return question\n",
        "\n",
        "def generate_question_string(question):\n",
        "    question_string = ''\n",
        "    question_string += 'Can you show me a '\n",
        "    question_string += question['shape']\n",
        "    question_string += ' diamond, weighing '\n",
        "    # get question carat range to append not tupples\n",
        "    question_string += str(question['carat'][0])\n",
        "    # question_string += question['carat']\n",
        "    question_string += ' with '\n",
        "    question_string += question['clarity']\n",
        "    question_string += ' clarity, '\n",
        "    question_string += question['color']\n",
        "    question_string += ' color, and '\n",
        "    question_string += question['cut']\n",
        "    question_string += ' cut?'\n",
        "    return question_string\n",
        " \n",
        " \n",
        "def generate_answer(question):\n",
        "    answer = {}\n",
        "    answer['shape'] = question['shape']\n",
        "    answer['carat'] = question['carat']\n",
        "    answer['color'] = question['color']\n",
        "    answer['clarity'] = question['clarity']\n",
        "    answer['cut'] = question['cut']\n",
        "    answer['polish'] = question['polish']\n",
        "    answer['sym'] = question['sym']\n",
        "    return answer\n",
        "\n",
        "# run the program\n",
        "if __name__ == '__main__':\n",
        "    questions = generate_questions()\n",
        "    for question in questions:\n",
        "        question_string = generate_question_string(question)\n",
        "    #     # answer = generate_answer(question)\n",
        "        # print(question)\n",
        "        print(generate_query(question))\n",
        "        # print(question_string)\n",
        "    #     # print(answer)\n",
        "    # print(question_string)\n"
      ]
    },
    {
      "cell_type": "code",
      "execution_count": 50,
      "metadata": {},
      "outputs": [],
      "source": [
        "import random\n",
        "\n",
        "def generate_query(query_dict):\n",
        "    query_params = []\n",
        "    \n",
        "    # check if shape exists and add to query params\n",
        "    if 'shape' in query_dict:\n",
        "        query_params.append(f\"{query_dict['shape']} shap\")\n",
        "    \n",
        "    # check if carat exists and add to query params\n",
        "    if 'carat' in query_dict:\n",
        "        carat_range = query_dict['carat']\n",
        "        query_params.append(f\"{carat_range[0]}-{carat_range[1]}ct\")\n",
        "    \n",
        "    # check if color and clarity exist and add to query params\n",
        "    if 'color' in query_dict and 'clarity' in query_dict:\n",
        "        color = query_dict['color']\n",
        "        clarity = query_dict['clarity']\n",
        "        query_params.append(f\"{color} color {clarity}\")\n",
        "    \n",
        "    # check if cut exists and add to query params\n",
        "    if 'cut' in query_dict:\n",
        "        query_params.append(query_dict['cut'])\n",
        "    \n",
        "    # check if polish exists and add to query params\n",
        "    if 'polish' in query_dict:\n",
        "        query_params.append(f\"{query_dict['polish']} polish\")\n",
        "    \n",
        "    # check if sym exists and add to query params\n",
        "    if 'sym' in query_dict:\n",
        "        query_params.append(query_dict['sym'])\n",
        "    \n",
        "    # randomly shuffle the order of the query parameters\n",
        "    random.shuffle(query_params)\n",
        "    \n",
        "    # join query parameters with spaces and return as a string\n",
        "    return \" \".join(query_params)\n"
      ]
    }
  ],
  "metadata": {
    "colab": {
      "provenance": []
    },
    "kernelspec": {
      "display_name": "Python 3",
      "name": "python3"
    },
    "language_info": {
      "codemirror_mode": {
        "name": "ipython",
        "version": 3
      },
      "file_extension": ".py",
      "mimetype": "text/x-python",
      "name": "python",
      "nbconvert_exporter": "python",
      "pygments_lexer": "ipython3",
      "version": "3.10.5"
    }
  },
  "nbformat": 4,
  "nbformat_minor": 0
}

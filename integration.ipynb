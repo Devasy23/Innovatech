{
 "cells": [
  {
   "cell_type": "code",
   "execution_count": 16,
   "metadata": {},
   "outputs": [
    {
     "ename": "TypeError",
     "evalue": "__init__() takes 1 positional argument but 2 were given",
     "output_type": "error",
     "traceback": [
      "\u001b[1;31m---------------------------------------------------------------------------\u001b[0m",
      "\u001b[1;31mTypeError\u001b[0m                                 Traceback (most recent call last)",
      "\u001b[1;32m~\\AppData\\Local\\Temp/ipykernel_26496/3194894238.py\u001b[0m in \u001b[0;36m<module>\u001b[1;34m\u001b[0m\n\u001b[0;32m     13\u001b[0m \u001b[1;31m# transport = cx.SessionsGrpcTransport(options=client_options)\u001b[0m\u001b[1;33m\u001b[0m\u001b[1;33m\u001b[0m\u001b[0m\n\u001b[0;32m     14\u001b[0m \u001b[1;33m\u001b[0m\u001b[0m\n\u001b[1;32m---> 15\u001b[1;33m \u001b[0msession_client\u001b[0m \u001b[1;33m=\u001b[0m \u001b[0mcx\u001b[0m\u001b[1;33m.\u001b[0m\u001b[0mSessionsClient\u001b[0m\u001b[1;33m(\u001b[0m\u001b[0mcredentials\u001b[0m\u001b[1;33m)\u001b[0m\u001b[1;33m\u001b[0m\u001b[1;33m\u001b[0m\u001b[0m\n\u001b[0m\u001b[0;32m     16\u001b[0m \u001b[1;33m\u001b[0m\u001b[0m\n\u001b[0;32m     17\u001b[0m \u001b[1;33m\u001b[0m\u001b[0m\n",
      "\u001b[1;31mTypeError\u001b[0m: __init__() takes 1 positional argument but 2 were given"
     ]
    }
   ],
   "source": [
    "import os\n",
    "from google.cloud import dialogflowcx_v3beta1 as cx\n",
    "from google.cloud import bigquery\n",
    "\n",
    "# Set up authentication and project ID\n",
    "#os.environ[\"GOOGLE_APPLICATION_CREDENTIALS\"] = \"C:\\Users\\DEVANSH\\Downloads\\Innovatech\\appointmentscheduler-krpj-060fd3aca9b9.json\"\n",
    "project_id = \"appointmentscheduler-krpj\"\n",
    "\n",
    "credentials = 'C:\\\\Users\\\\DEVANSH\\\\Downloads\\\\Innovatech\\\\appointmentscheduler-krpj-060fd3aca9b9.json'\n",
    "\n",
    "# client_options = {\"api_endpoint\": \"us-central1-dialogflow.googleapis.com\"}\n",
    "\n",
    "# transport = cx.SessionsGrpcTransport(options=client_options)\n",
    "\n",
    "session_client = cx.SessionsClient(credentials)\n",
    "\n",
    "\n",
    "# Set up Dialogflow CX client\n",
    "#session_client = cx.SessionsClient()\n",
    "session_path = session_client.session_path(project_id, \"my-session-id\")\n",
    "\n",
    "# Set up BigQuery client and query the database\n",
    "bq_client = bigquery.Client()\n",
    "query = \"\"\"\n",
    "    SELECT REPORTNO, WEIGHT, COLOR, PRICE/CTS\n",
    "    FROM my_dataset.my_table\n",
    "    WHERE COMPANY ID = 'my-company-id'\n",
    "\"\"\"\n",
    "query_job = bq_client.query(query)\n",
    "results = query_job.result()\n",
    "\n",
    "# Iterate through the results and send them to the user in the chatbot\n",
    "for row in results:\n",
    "    report_no = row[\"REPORTNO\"]\n",
    "    weight = row[\"WEIGHT\"]\n",
    "    color = row[\"COLOR\"]\n",
    "    price = row[\"PRICE/CTS\"]\n",
    "    text_input = cx.TextInput(text=f\"Report No: {report_no}, Weight: {weight}, Color: {color}, Price/Carat: {price}\")\n",
    "    query_input = cx.QueryInput(text=text_input)\n",
    "    response = session_client.detect_intent(session=session_path, query_input=query_input)\n",
    "    print(response.query_result.fulfillment_text)\n"
   ]
  },
  {
   "cell_type": "code",
   "execution_count": null,
   "metadata": {},
   "outputs": [],
   "source": []
  }
 ],
 "metadata": {
  "kernelspec": {
   "display_name": "base",
   "language": "python",
   "name": "python3"
  },
  "language_info": {
   "codemirror_mode": {
    "name": "ipython",
    "version": 3
   },
   "file_extension": ".py",
   "mimetype": "text/x-python",
   "name": "python",
   "nbconvert_exporter": "python",
   "pygments_lexer": "ipython3",
   "version": "3.9.7"
  },
  "orig_nbformat": 4
 },
 "nbformat": 4,
 "nbformat_minor": 2
}

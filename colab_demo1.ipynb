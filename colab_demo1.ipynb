{
  "cells": [
    {
      "cell_type": "markdown",
      "metadata": {
        "colab_type": "text",
        "id": "view-in-github"
      },
      "source": [
        "<a href=\"https://colab.research.google.com/github/Devasy23/Innovatech/blob/main/colab_demo1.ipynb\" target=\"_parent\"><img src=\"https://colab.research.google.com/assets/colab-badge.svg\" alt=\"Open In Colab\"/></a>"
      ]
    },
    {
      "cell_type": "code",
      "execution_count": 1,
      "metadata": {
        "id": "r-308lV1J_Re"
      },
      "outputs": [],
      "source": [
        "from IPython import display\n"
      ]
    },
    {
      "cell_type": "code",
      "execution_count": 14,
      "metadata": {
        "colab": {
          "base_uri": "https://localhost:8080/",
          "height": 452
        },
        "id": "l4Muh7KaEqY-",
        "outputId": "9977a66c-d4ac-4fa3-e765-797adf4c8ea3"
      },
      "outputs": [
        {
          "data": {
            "text/html": [
              "\n",
              "        <iframe\n",
              "            width=\"350\"\n",
              "            height=\"430\"\n",
              "            src=\"https://console.dialogflow.com/api-client/demo/embedded/bd9f99a2-3bf4-4161-bb34-df386a7fe733?allow=microphone%3B\"\n",
              "            frameborder=\"0\"\n",
              "            allowfullscreen\n",
              "        ></iframe>\n",
              "        "
            ],
            "text/plain": [
              "<IPython.lib.display.IFrame at 0x7f686ee85310>"
            ]
          },
          "execution_count": 14,
          "metadata": {},
          "output_type": "execute_result"
        }
      ],
      "source": [
        "display.IFrame(\n",
        "    allow=\"microphone;\",\n",
        "    width=\"350\",\n",
        "    height=\"430\",\n",
        "    src=\"https://console.dialogflow.com/api-client/demo/embedded/bd9f99a2-3bf4-4161-bb34-df386a7fe733\"\n",
        ")"
      ]
    },
    {
      "cell_type": "code",
      "execution_count": 2,
      "metadata": {
        "colab": {
          "base_uri": "https://localhost:8080/",
          "height": 622
        },
        "id": "Rs5Wx7uWJ_Rh",
        "outputId": "efdcef8f-f54b-4616-debe-6aeb009fa46c"
      },
      "outputs": [
        {
          "data": {
            "text/html": [
              "\n",
              "        <iframe\n",
              "            width=\"700\"\n",
              "            height=\"600\"\n",
              "            src=\"https://bot.dialogflow.com/a2a67de8-c7ca-467e-8965-79a2c3a15b80\"\n",
              "            frameborder=\"0\"\n",
              "            allowfullscreen\n",
              "        ></iframe>\n",
              "        "
            ],
            "text/plain": [
              "<IPython.lib.display.IFrame at 0x7f689c928820>"
            ]
          },
          "execution_count": 2,
          "metadata": {},
          "output_type": "execute_result"
        }
      ],
      "source": [
        "display.IFrame(src=\"https://bot.dialogflow.com/a2a67de8-c7ca-467e-8965-79a2c3a15b80\", width=700, height=600)"
      ]
    },
    {
      "cell_type": "code",
      "execution_count": 3,
      "metadata": {
        "colab": {
          "base_uri": "https://localhost:8080/",
          "height": 489
        },
        "id": "fohmeR25J_Ri",
        "outputId": "12d2b96f-9566-46e0-b3a1-552df4cb02fc"
      },
      "outputs": [
        {
          "name": "stderr",
          "output_type": "stream",
          "text": [
            "/usr/local/lib/python3.8/dist-packages/IPython/core/display.py:701: UserWarning: Consider using IPython.display.IFrame instead\n",
            "  warnings.warn(\"Consider using IPython.display.IFrame instead\")\n"
          ]
        },
        {
          "data": {
            "text/html": [
              "<iframe width=\"350\" height=\"430\" allow=\"microphone;\" src=\"https://console.dialogflow.com/api-client/demo/embedded/a2a67de8-c7ca-467e-8965-79a2c3a15b80\"></iframe>"
            ],
            "text/plain": [
              "<IPython.core.display.HTML object>"
            ]
          },
          "execution_count": 3,
          "metadata": {},
          "output_type": "execute_result"
        }
      ],
      "source": [
        "# <iframe height=\"430\" width=\"350\" src=\"https://bot.dialogflow.com/a2a67de8-c7ca-467e-8965-79a2c3a15b80\"></iframe>\n",
        "display.HTML('<iframe width=\"350\" height=\"430\" allow=\"microphone;\" src=\"https://console.dialogflow.com/api-client/demo/embedded/a2a67de8-c7ca-467e-8965-79a2c3a15b80\"></iframe>' )"
      ]
    },
    {
      "cell_type": "code",
      "execution_count": 4,
      "metadata": {
        "colab": {
          "base_uri": "https://localhost:8080/",
          "height": 0
        },
        "id": "c88gwSoLNIic",
        "outputId": "dc4694fa-1373-45c5-bf7b-ffdd8a897522"
      },
      "outputs": [
        {
          "name": "stdout",
          "output_type": "stream",
          "text": [
            "Looking in indexes: https://pypi.org/simple, https://us-python.pkg.dev/colab-wheels/public/simple/\n",
            "Requirement already satisfied: google-cloud-dialogflow in /usr/local/lib/python3.8/dist-packages (2.20.0)\n",
            "Requirement already satisfied: proto-plus<2.0.0dev,>=1.22.0 in /usr/local/lib/python3.8/dist-packages (from google-cloud-dialogflow) (1.22.2)\n",
            "Requirement already satisfied: google-api-core[grpc]!=2.0.*,!=2.1.*,!=2.10.*,!=2.2.*,!=2.3.*,!=2.4.*,!=2.5.*,!=2.6.*,!=2.7.*,!=2.8.*,!=2.9.*,<3.0.0dev,>=1.34.0 in /usr/local/lib/python3.8/dist-packages (from google-cloud-dialogflow) (2.11.0)\n",
            "Requirement already satisfied: protobuf!=3.20.0,!=3.20.1,!=4.21.0,!=4.21.1,!=4.21.2,!=4.21.3,!=4.21.4,!=4.21.5,<5.0.0dev,>=3.19.5 in /usr/local/lib/python3.8/dist-packages (from google-cloud-dialogflow) (3.19.6)\n",
            "Requirement already satisfied: requests<3.0.0dev,>=2.18.0 in /usr/local/lib/python3.8/dist-packages (from google-api-core[grpc]!=2.0.*,!=2.1.*,!=2.10.*,!=2.2.*,!=2.3.*,!=2.4.*,!=2.5.*,!=2.6.*,!=2.7.*,!=2.8.*,!=2.9.*,<3.0.0dev,>=1.34.0->google-cloud-dialogflow) (2.25.1)\n",
            "Requirement already satisfied: googleapis-common-protos<2.0dev,>=1.56.2 in /usr/local/lib/python3.8/dist-packages (from google-api-core[grpc]!=2.0.*,!=2.1.*,!=2.10.*,!=2.2.*,!=2.3.*,!=2.4.*,!=2.5.*,!=2.6.*,!=2.7.*,!=2.8.*,!=2.9.*,<3.0.0dev,>=1.34.0->google-cloud-dialogflow) (1.58.0)\n",
            "Requirement already satisfied: google-auth<3.0dev,>=2.14.1 in /usr/local/lib/python3.8/dist-packages (from google-api-core[grpc]!=2.0.*,!=2.1.*,!=2.10.*,!=2.2.*,!=2.3.*,!=2.4.*,!=2.5.*,!=2.6.*,!=2.7.*,!=2.8.*,!=2.9.*,<3.0.0dev,>=1.34.0->google-cloud-dialogflow) (2.16.1)\n",
            "Requirement already satisfied: grpcio<2.0dev,>=1.33.2 in /usr/local/lib/python3.8/dist-packages (from google-api-core[grpc]!=2.0.*,!=2.1.*,!=2.10.*,!=2.2.*,!=2.3.*,!=2.4.*,!=2.5.*,!=2.6.*,!=2.7.*,!=2.8.*,!=2.9.*,<3.0.0dev,>=1.34.0->google-cloud-dialogflow) (1.51.3)\n",
            "Requirement already satisfied: grpcio-status<2.0dev,>=1.33.2 in /usr/local/lib/python3.8/dist-packages (from google-api-core[grpc]!=2.0.*,!=2.1.*,!=2.10.*,!=2.2.*,!=2.3.*,!=2.4.*,!=2.5.*,!=2.6.*,!=2.7.*,!=2.8.*,!=2.9.*,<3.0.0dev,>=1.34.0->google-cloud-dialogflow) (1.48.2)\n",
            "Requirement already satisfied: rsa<5,>=3.1.4 in /usr/local/lib/python3.8/dist-packages (from google-auth<3.0dev,>=2.14.1->google-api-core[grpc]!=2.0.*,!=2.1.*,!=2.10.*,!=2.2.*,!=2.3.*,!=2.4.*,!=2.5.*,!=2.6.*,!=2.7.*,!=2.8.*,!=2.9.*,<3.0.0dev,>=1.34.0->google-cloud-dialogflow) (4.9)\n",
            "Requirement already satisfied: six>=1.9.0 in /usr/local/lib/python3.8/dist-packages (from google-auth<3.0dev,>=2.14.1->google-api-core[grpc]!=2.0.*,!=2.1.*,!=2.10.*,!=2.2.*,!=2.3.*,!=2.4.*,!=2.5.*,!=2.6.*,!=2.7.*,!=2.8.*,!=2.9.*,<3.0.0dev,>=1.34.0->google-cloud-dialogflow) (1.15.0)\n",
            "Requirement already satisfied: pyasn1-modules>=0.2.1 in /usr/local/lib/python3.8/dist-packages (from google-auth<3.0dev,>=2.14.1->google-api-core[grpc]!=2.0.*,!=2.1.*,!=2.10.*,!=2.2.*,!=2.3.*,!=2.4.*,!=2.5.*,!=2.6.*,!=2.7.*,!=2.8.*,!=2.9.*,<3.0.0dev,>=1.34.0->google-cloud-dialogflow) (0.2.8)\n",
            "Requirement already satisfied: cachetools<6.0,>=2.0.0 in /usr/local/lib/python3.8/dist-packages (from google-auth<3.0dev,>=2.14.1->google-api-core[grpc]!=2.0.*,!=2.1.*,!=2.10.*,!=2.2.*,!=2.3.*,!=2.4.*,!=2.5.*,!=2.6.*,!=2.7.*,!=2.8.*,!=2.9.*,<3.0.0dev,>=1.34.0->google-cloud-dialogflow) (5.3.0)\n",
            "Requirement already satisfied: urllib3<1.27,>=1.21.1 in /usr/local/lib/python3.8/dist-packages (from requests<3.0.0dev,>=2.18.0->google-api-core[grpc]!=2.0.*,!=2.1.*,!=2.10.*,!=2.2.*,!=2.3.*,!=2.4.*,!=2.5.*,!=2.6.*,!=2.7.*,!=2.8.*,!=2.9.*,<3.0.0dev,>=1.34.0->google-cloud-dialogflow) (1.26.14)\n",
            "Requirement already satisfied: chardet<5,>=3.0.2 in /usr/local/lib/python3.8/dist-packages (from requests<3.0.0dev,>=2.18.0->google-api-core[grpc]!=2.0.*,!=2.1.*,!=2.10.*,!=2.2.*,!=2.3.*,!=2.4.*,!=2.5.*,!=2.6.*,!=2.7.*,!=2.8.*,!=2.9.*,<3.0.0dev,>=1.34.0->google-cloud-dialogflow) (4.0.0)\n",
            "Requirement already satisfied: certifi>=2017.4.17 in /usr/local/lib/python3.8/dist-packages (from requests<3.0.0dev,>=2.18.0->google-api-core[grpc]!=2.0.*,!=2.1.*,!=2.10.*,!=2.2.*,!=2.3.*,!=2.4.*,!=2.5.*,!=2.6.*,!=2.7.*,!=2.8.*,!=2.9.*,<3.0.0dev,>=1.34.0->google-cloud-dialogflow) (2022.12.7)\n",
            "Requirement already satisfied: idna<3,>=2.5 in /usr/local/lib/python3.8/dist-packages (from requests<3.0.0dev,>=2.18.0->google-api-core[grpc]!=2.0.*,!=2.1.*,!=2.10.*,!=2.2.*,!=2.3.*,!=2.4.*,!=2.5.*,!=2.6.*,!=2.7.*,!=2.8.*,!=2.9.*,<3.0.0dev,>=1.34.0->google-cloud-dialogflow) (2.10)\n",
            "Requirement already satisfied: pyasn1<0.5.0,>=0.4.6 in /usr/local/lib/python3.8/dist-packages (from pyasn1-modules>=0.2.1->google-auth<3.0dev,>=2.14.1->google-api-core[grpc]!=2.0.*,!=2.1.*,!=2.10.*,!=2.2.*,!=2.3.*,!=2.4.*,!=2.5.*,!=2.6.*,!=2.7.*,!=2.8.*,!=2.9.*,<3.0.0dev,>=1.34.0->google-cloud-dialogflow) (0.4.8)\n"
          ]
        }
      ],
      "source": [
        "!pip install google-cloud-dialogflow"
      ]
    },
    {
      "cell_type": "code",
      "execution_count": 5,
      "metadata": {
        "colab": {
          "base_uri": "https://localhost:8080/",
          "height": 0
        },
        "id": "KrzSNDFpfXA9",
        "outputId": "f9340020-c6e6-40c5-afc6-50813a15ff24"
      },
      "outputs": [
        {
          "name": "stdout",
          "output_type": "stream",
          "text": [
            "Looking in indexes: https://pypi.org/simple, https://us-python.pkg.dev/colab-wheels/public/simple/\n",
            "Requirement already satisfied: google-api-python-client in /usr/local/lib/python3.8/dist-packages (2.70.0)\n",
            "Requirement already satisfied: google-auth-httplib2>=0.1.0 in /usr/local/lib/python3.8/dist-packages (from google-api-python-client) (0.1.0)\n",
            "Requirement already satisfied: uritemplate<5,>=3.0.1 in /usr/local/lib/python3.8/dist-packages (from google-api-python-client) (4.1.1)\n",
            "Requirement already satisfied: httplib2<1dev,>=0.15.0 in /usr/local/lib/python3.8/dist-packages (from google-api-python-client) (0.17.4)\n",
            "Requirement already satisfied: google-api-core!=2.0.*,!=2.1.*,!=2.2.*,!=2.3.0,<3.0.0dev,>=1.31.5 in /usr/local/lib/python3.8/dist-packages (from google-api-python-client) (2.11.0)\n",
            "Requirement already satisfied: google-auth<3.0.0dev,>=1.19.0 in /usr/local/lib/python3.8/dist-packages (from google-api-python-client) (2.16.1)\n",
            "Requirement already satisfied: protobuf!=3.20.0,!=3.20.1,!=4.21.0,!=4.21.1,!=4.21.2,!=4.21.3,!=4.21.4,!=4.21.5,<5.0.0dev,>=3.19.5 in /usr/local/lib/python3.8/dist-packages (from google-api-core!=2.0.*,!=2.1.*,!=2.2.*,!=2.3.0,<3.0.0dev,>=1.31.5->google-api-python-client) (3.19.6)\n",
            "Requirement already satisfied: googleapis-common-protos<2.0dev,>=1.56.2 in /usr/local/lib/python3.8/dist-packages (from google-api-core!=2.0.*,!=2.1.*,!=2.2.*,!=2.3.0,<3.0.0dev,>=1.31.5->google-api-python-client) (1.58.0)\n",
            "Requirement already satisfied: requests<3.0.0dev,>=2.18.0 in /usr/local/lib/python3.8/dist-packages (from google-api-core!=2.0.*,!=2.1.*,!=2.2.*,!=2.3.0,<3.0.0dev,>=1.31.5->google-api-python-client) (2.25.1)\n",
            "Requirement already satisfied: cachetools<6.0,>=2.0.0 in /usr/local/lib/python3.8/dist-packages (from google-auth<3.0.0dev,>=1.19.0->google-api-python-client) (5.3.0)\n",
            "Requirement already satisfied: pyasn1-modules>=0.2.1 in /usr/local/lib/python3.8/dist-packages (from google-auth<3.0.0dev,>=1.19.0->google-api-python-client) (0.2.8)\n",
            "Requirement already satisfied: rsa<5,>=3.1.4 in /usr/local/lib/python3.8/dist-packages (from google-auth<3.0.0dev,>=1.19.0->google-api-python-client) (4.9)\n",
            "Requirement already satisfied: six>=1.9.0 in /usr/local/lib/python3.8/dist-packages (from google-auth<3.0.0dev,>=1.19.0->google-api-python-client) (1.15.0)\n",
            "Requirement already satisfied: pyasn1<0.5.0,>=0.4.6 in /usr/local/lib/python3.8/dist-packages (from pyasn1-modules>=0.2.1->google-auth<3.0.0dev,>=1.19.0->google-api-python-client) (0.4.8)\n",
            "Requirement already satisfied: chardet<5,>=3.0.2 in /usr/local/lib/python3.8/dist-packages (from requests<3.0.0dev,>=2.18.0->google-api-core!=2.0.*,!=2.1.*,!=2.2.*,!=2.3.0,<3.0.0dev,>=1.31.5->google-api-python-client) (4.0.0)\n",
            "Requirement already satisfied: certifi>=2017.4.17 in /usr/local/lib/python3.8/dist-packages (from requests<3.0.0dev,>=2.18.0->google-api-core!=2.0.*,!=2.1.*,!=2.2.*,!=2.3.0,<3.0.0dev,>=1.31.5->google-api-python-client) (2022.12.7)\n",
            "Requirement already satisfied: urllib3<1.27,>=1.21.1 in /usr/local/lib/python3.8/dist-packages (from requests<3.0.0dev,>=2.18.0->google-api-core!=2.0.*,!=2.1.*,!=2.2.*,!=2.3.0,<3.0.0dev,>=1.31.5->google-api-python-client) (1.26.14)\n",
            "Requirement already satisfied: idna<3,>=2.5 in /usr/local/lib/python3.8/dist-packages (from requests<3.0.0dev,>=2.18.0->google-api-core!=2.0.*,!=2.1.*,!=2.2.*,!=2.3.0,<3.0.0dev,>=1.31.5->google-api-python-client) (2.10)\n"
          ]
        }
      ],
      "source": [
        "!pip install google-api-python-client"
      ]
    },
    {
      "cell_type": "code",
      "execution_count": 24,
      "metadata": {
        "colab": {
          "base_uri": "https://localhost:8080/",
          "height": 0
        },
        "id": "U6WhJ23pMG1U",
        "outputId": "e20fb53e-a2b1-46b2-ab04-d4e5c2bf765b"
      },
      "outputs": [
        {
          "name": "stdout",
          "output_type": "stream",
          "text": [
            "Enter your query: I'm looking for an oval diamond with 1.5 ct weight, VS2 clarity, and E color with price greater than 3000\n",
            "text {\n",
            "  text: \"I\\'m looking for an oval diamond with 1.5 ct weight, VS2 clarity,\\302\\240and\\302\\240E\\302\\240color with price greater than 3000\"\n",
            "  language_code: \"en\"\n",
            "}\n",
            "\n",
            "response_id: \"a8aa60ab-61d4-4234-afa9-0fd939b7fb02-18dedd3b\"\n",
            "query_result {\n",
            "  query_text: \"I\\'m looking for an oval diamond with 1.5 ct weight, VS2 clarity,\\302\\240and\\302\\240E\\302\\240color with price greater than 3000\"\n",
            "  parameters {\n",
            "    fields {\n",
            "      key: \"carat\"\n",
            "      value {\n",
            "        number_value: 1.5\n",
            "      }\n",
            "    }\n",
            "    fields {\n",
            "      key: \"ct_max\"\n",
            "      value {\n",
            "        string_value: \"10.5\"\n",
            "      }\n",
            "    }\n",
            "    fields {\n",
            "      key: \"ct_min\"\n",
            "      value {\n",
            "        string_value: \"0\"\n",
            "      }\n",
            "    }\n",
            "    fields {\n",
            "      key: \"diamond_clarity\"\n",
            "      value {\n",
            "        list_value {\n",
            "          values {\n",
            "            string_value: \"VS1\"\n",
            "          }\n",
            "          values {\n",
            "            string_value: \"I2\"\n",
            "          }\n",
            "        }\n",
            "      }\n",
            "    }\n",
            "    fields {\n",
            "      key: \"diamond_color\"\n",
            "      value {\n",
            "        list_value {\n",
            "          values {\n",
            "            string_value: \"E\"\n",
            "          }\n",
            "        }\n",
            "      }\n",
            "    }\n",
            "    fields {\n",
            "      key: \"diamond_cut\"\n",
            "      value {\n",
            "        string_value: \"\"\n",
            "      }\n",
            "    }\n",
            "    fields {\n",
            "      key: \"diamond_polish\"\n",
            "      value {\n",
            "        string_value: \"\"\n",
            "      }\n",
            "    }\n",
            "    fields {\n",
            "      key: \"diamond_shape\"\n",
            "      value {\n",
            "        list_value {\n",
            "          values {\n",
            "            string_value: \"OV\"\n",
            "          }\n",
            "        }\n",
            "      }\n",
            "    }\n",
            "    fields {\n",
            "      key: \"diamond_symmetry\"\n",
            "      value {\n",
            "        string_value: \"\"\n",
            "      }\n",
            "    }\n",
            "    fields {\n",
            "      key: \"number-integer\"\n",
            "      value {\n",
            "        string_value: \"\"\n",
            "      }\n",
            "    }\n",
            "    fields {\n",
            "      key: \"price_max\"\n",
            "      value {\n",
            "        string_value: \"40000\"\n",
            "      }\n",
            "    }\n",
            "    fields {\n",
            "      key: \"price_min\"\n",
            "      value {\n",
            "        string_value: \"3000\"\n",
            "      }\n",
            "    }\n",
            "  }\n",
            "  all_required_params_present: true\n",
            "  fulfillment_text: \"Sure! Here are the results.\"\n",
            "  fulfillment_messages {\n",
            "    text {\n",
            "      text: \"Sure! Here are the results.\"\n",
            "    }\n",
            "  }\n",
            "  intent {\n",
            "    name: \"projects/d360-thwj/agent/intents/23942633-8b41-4336-9b74-c5a51bdc6b59\"\n",
            "    display_name: \"diamond-identifier\"\n",
            "  }\n",
            "  intent_detection_confidence: 0.8366808295249939\n",
            "  language_code: \"en\"\n",
            "}\n",
            "\n"
          ]
        }
      ],
      "source": [
        "# Import necessary libraries\n",
        "import os\n",
        "from google.cloud import dialogflow\n",
        "import google.protobuf  as pf\n",
        "from google.protobuf.json_format import MessageToDict, MessageToJson\n",
        "from google.cloud.dialogflow import DetectIntentResponse\n",
        "from google.cloud import translate_v2 as translate\n",
        "# Set the environment variable for authentication\n",
        "\n",
        "os.environ[\"GOOGLE_APPLICATION_CREDENTIALS\"] = \"/content/d360-thwj-7bbe13019bb6.json\"\n",
        "\n",
        "# Set up the Dialogflow client\n",
        "project_id = \"d360-thwj\"\n",
        "session_id = \"116287996507186946778\"\n",
        "language_code = \"en\"\n",
        "session_client = dialogflow.SessionsClient()\n",
        "session_path = session_client.session_path(project_id, session_id)\n",
        "\n",
        "# Define a function for generating the chatbot's response\n",
        "def generate_response(query):\n",
        "    response = \"This is a response to your query: \" + query\n",
        "    return response\n",
        "\n",
        "# Prompt the user to enter their query\n",
        "flag=1\n",
        "user_query = input(\"Enter your query: \")\n",
        "# if (flag==1):\n",
        "#     user_query = translate.Client.from_service_account_json('/content/appointmentscheduler-krpj-46a2a76517a6.json')\n",
        "#     text_input = dialogflow.TextInput(text=str(user_query), language_code=language_code)\n",
        "# else:\n",
        "text_input = dialogflow.TextInput(text=user_query, language_code=language_code)\n",
        "query_input = dialogflow.QueryInput(text=text_input)\n",
        "print(query_input)\n",
        "# Send the user's query to Dialogflow and retrieve the response\n",
        "# response = session_client.detect_intent(session=session_path, query_input=query_input)\n",
        "# print(response)\n",
        "# assume that response_proto is a protobuf message of type DetectIntentResponse\n",
        "# response = DetectIntentResponse()\n",
        "response = session_client.detect_intent(session=session_path, query_input=query_input)\n",
        "print(response)\n",
        "response = DetectIntentResponse()\n",
        "response = session_client.detect_intent(session=session_path, query_input=query_input)\n",
        "\n",
        "# response = session_client.detect_intent(session=session_path, query_input=query_input)\n",
        "# print(response)"
      ]
    },
    {
      "cell_type": "code",
      "execution_count": 25,
      "metadata": {
        "colab": {
          "base_uri": "https://localhost:8080/"
        },
        "id": "2q0AKnALNrZU",
        "outputId": "00b35d58-2813-4a3d-e081-85fd1af1a406"
      },
      "outputs": [
        {
          "name": "stdout",
          "output_type": "stream",
          "text": [
            "<class 'google.cloud.dialogflow_v2.types.session.DetectIntentResponse'>\n"
          ]
        }
      ],
      "source": [
        "dicti = response\n",
        "print(type(dicti))"
      ]
    },
    {
      "cell_type": "code",
      "execution_count": 26,
      "metadata": {
        "colab": {
          "base_uri": "https://localhost:8080/",
          "height": 140
        },
        "id": "dtSrx_iqkJLt",
        "outputId": "c63ebb7a-8296-45b3-d520-e1a172e8ceab"
      },
      "outputs": [
        {
          "data": {
            "application/vnd.google.colaboratory.intrinsic+json": {
              "type": "string"
            },
            "text/plain": [
              "'{\\n  \"responseId\": \"32ad00bc-551a-40b9-ad5f-0e1f7943a44b-18dedd3b\",\\n  \"queryResult\": {\\n    \"queryText\": \"I\\'m looking for an oval diamond with 1.5 ct weight, VS2 clarity,\\\\u00a0and\\\\u00a0E\\\\u00a0color with price greater than 3000\",\\n    \"parameters\": {\\n      \"diamond_color\": [\\n        \"E\"\\n      ],\\n      \"ct_max\": \"10.5\",\\n      \"price_min\": \"3000\",\\n      \"diamond_clarity\": [\\n        \"VS1\",\\n        \"I2\"\\n      ],\\n      \"number-integer\": \"\",\\n      \"ct_min\": \"0\",\\n      \"diamond_polish\": \"\",\\n      \"diamond_shape\": [\\n        \"OV\"\\n      ],\\n      \"carat\": 1.5,\\n      \"diamond_symmetry\": \"\",\\n      \"diamond_cut\": \"\",\\n      \"price_max\": \"40000\"\\n    },\\n    \"allRequiredParamsPresent\": true,\\n    \"fulfillmentText\": \"Sure! Here are the results.\",\\n    \"fulfillmentMessages\": [\\n      {\\n        \"text\": {\\n          \"text\": [\\n            \"Sure! Here are the results.\"\\n          ]\\n        }\\n      }\\n    ],\\n    \"intent\": {\\n      \"name\": \"projects/d360-thwj/agent/intents/23942633-8b41-4336-9b74-c5a51bdc6b59\",\\n      \"displayName\": \"diamond-identifier\"\\n    },\\n    \"intentDetectionConfidence\": 0.8366808,\\n    \"languageCode\": \"en\"\\n  }\\n}'"
            ]
          },
          "execution_count": 26,
          "metadata": {},
          "output_type": "execute_result"
        }
      ],
      "source": [
        "json_response = MessageToJson(response._pb)\n",
        "json_response"
      ]
    },
    {
      "cell_type": "code",
      "execution_count": 27,
      "metadata": {
        "colab": {
          "base_uri": "https://localhost:8080/"
        },
        "id": "ghJebtLRkOxy",
        "outputId": "bac33dcf-62fa-4f29-af81-315fab137b03"
      },
      "outputs": [
        {
          "name": "stdout",
          "output_type": "stream",
          "text": [
            "<class 'str'>\n",
            "I'm looking for an oval diamond with 1.5 ct weight, VS2 clarity, and E color with price greater than 3000\n",
            "diamond-identifier\n"
          ]
        }
      ],
      "source": [
        "print(type(json_response))\n",
        "print(response.query_result.query_text)\n",
        "print(response.query_result.intent.display_name)\n",
        "params = response.query_result.parameters"
      ]
    },
    {
      "cell_type": "code",
      "execution_count": 28,
      "metadata": {
        "colab": {
          "base_uri": "https://localhost:8080/"
        },
        "id": "Q9PMM8kmkYrI",
        "outputId": "2cd5d122-757e-4207-914b-ae793fca5f79"
      },
      "outputs": [
        {
          "name": "stdout",
          "output_type": "stream",
          "text": [
            "diamond_color ['E']\n",
            "ct_max 10.5\n",
            "price_min 3000\n",
            "diamond_clarity ['VS1', 'I2']\n",
            "number-integer \n",
            "ct_min 0\n",
            "diamond_polish \n",
            "diamond_shape ['OV']\n",
            "carat 1.5\n",
            "diamond_symmetry \n",
            "diamond_cut \n",
            "price_max 40000\n"
          ]
        }
      ],
      "source": [
        "for i in params:\n",
        "    if i == \"diamond_color\":\n",
        "        if params[i]==\"colorless\":\n",
        "            diamond_color=['D','E','F']\n",
        "        elif params[i]=='near colorless':\n",
        "            diamond_color=['G','H','I','J']\n",
        "        elif params[i]=='faint':\n",
        "            diamond_color=['K','L','M']\n",
        "        elif params[i]=='very light':\n",
        "            diamond_color=['N','O','P','Q','R']\n",
        "        elif params[i]=='light':\n",
        "            diamond_color=['S','T','U','V','W','X','Y','Z']\n",
        "        \n",
        "    print(f'{i} {params[i]}')"
      ]
    },
    {
      "cell_type": "code",
      "execution_count": 33,
      "metadata": {
        "id": "QhkFVHRW7u9p"
      },
      "outputs": [],
      "source": [
        "from google.protobuf.struct_pb2 import NULL_VALUE\n",
        "dict1 = {\n",
        "    'diamond_color': \"\",\n",
        "    'ct_max' : 10.5,\n",
        "    'price_min': 0.0,\n",
        "    'diamond_clarity': \"\",\n",
        "    'number': 0,\n",
        "    'ct_min': 0,\n",
        "    'diamond_polish': \"\", \n",
        "    'diamond_shape': \"\",\n",
        "    'carat': -1,\n",
        "    'diamond_symmetry': \"\", \n",
        "    'diamond_cut' : \"\",\n",
        "    'price_max': 40000,\n",
        "}"
      ]
    },
    {
      "cell_type": "code",
      "execution_count": null,
      "metadata": {},
      "outputs": [],
      "source": [
        "import pandas as pd\n",
        "import numpy as np\n",
        "\n",
        "df= pd.read_csv('NewData.csv')\n",
        "\n",
        "dict={'diamond_color': ['E'],'ct_max': '10.5', 'price_min': '3000', 'diamond_clarity': ['VS1', 'I2'], 'number': 0, 'ct_min': '0', 'diamond_polish': '','diamond_shape': ['OV'], 'carat': 1.5, 'diamond_symmetry': '','diamond_cut': '', 'price_max': '40000','number-integer':''}\n",
        "dict\n",
        "temp=pd.DataFrame()\n",
        "flag=1\n",
        "if len(dict['diamond_color'])!=0:\n",
        "    temp=df[df['COLOR'].isin(dict['diamond_color'])]\n",
        "if len(dict['diamond_clarity'])!=0:\n",
        "    temp=temp[temp['PURITY'].isin(dict['diamond_clarity'])]\n",
        "    \n",
        "if len(dict['diamond_symmetry'])!=0:\n",
        "    temp=temp[temp['SYMN'].isin(dict['diamond_symmetry'])]\n",
        "    \n",
        "    \n",
        "if len(dict['diamond_shape'])!=0:\n",
        "    temp=temp[temp['SHAPE'].isin(dict['diamond_shape'])]\n",
        "if dict['ct_max']!='10.5':\n",
        "    temp=temp[(temp['WEIGHT']<=int(dict['ct_max']))]\n",
        "    flag=0\n",
        "if dict['ct_min']!='0' :\n",
        "    temp=temp[(temp['WEIGHT']>=int(dict['ct_min']))]\n",
        "    flag=0\n",
        "if dict['carat']!=0 and flag==1:\n",
        "    temp=temp[(temp['WEIGHT']==(dict['carat']))]\n",
        "if dict['diamond_polish']!='':\n",
        "    temp=temp[dict['diamond_polish'] == temp['POLISH']]\n",
        "temp=temp[temp['TOTAL'] >int( dict['price_min'])]\n",
        "temp=temp[temp['TOTAL'] < int(dict['price_max'])]\n",
        "\n",
        "np.mean(temp['TOTAL'])"
      ]
    }
  ],
  "metadata": {
    "colab": {
      "include_colab_link": true,
      "provenance": []
    },
    "kernelspec": {
      "display_name": "Python 3",
      "language": "python",
      "name": "python3"
    },
    "language_info": {
      "codemirror_mode": {
        "name": "ipython",
        "version": 3
      },
      "file_extension": ".py",
      "mimetype": "text/x-python",
      "name": "python",
      "nbconvert_exporter": "python",
      "pygments_lexer": "ipython3",
      "version": "3.10.5"
    },
    "orig_nbformat": 4
  },
  "nbformat": 4,
  "nbformat_minor": 0
}

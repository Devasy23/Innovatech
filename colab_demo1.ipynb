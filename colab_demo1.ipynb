{
  "cells": [
    {
      "cell_type": "markdown",
      "metadata": {
        "id": "view-in-github",
        "colab_type": "text"
      },
      "source": [
        "<a href=\"https://colab.research.google.com/github/Devasy23/Innovatech/blob/main/colab_demo1.ipynb\" target=\"_parent\"><img src=\"https://colab.research.google.com/assets/colab-badge.svg\" alt=\"Open In Colab\"/></a>"
      ]
    },
    {
      "cell_type": "code",
      "execution_count": 15,
      "metadata": {
        "id": "r-308lV1J_Re"
      },
      "outputs": [],
      "source": [
        "from IPython import display\n"
      ]
    },
    {
      "cell_type": "code",
      "execution_count": 16,
      "metadata": {
        "colab": {
          "base_uri": "https://localhost:8080/",
          "height": 452
        },
        "id": "l4Muh7KaEqY-",
        "outputId": "9642f719-dc1d-4e91-d77c-e03008a1ea06"
      },
      "outputs": [
        {
          "output_type": "execute_result",
          "data": {
            "text/plain": [
              "<IPython.lib.display.IFrame at 0x7f7be5166f70>"
            ],
            "text/html": [
              "\n",
              "        <iframe\n",
              "            width=\"350\"\n",
              "            height=\"430\"\n",
              "            src=\"https://console.dialogflow.com/api-client/demo/embedded/bd9f99a2-3bf4-4161-bb34-df386a7fe733?allow=microphone%3B\"\n",
              "            frameborder=\"0\"\n",
              "            allowfullscreen\n",
              "        ></iframe>\n",
              "        "
            ]
          },
          "metadata": {},
          "execution_count": 16
        }
      ],
      "source": [
        "display.IFrame(\n",
        "    allow=\"microphone;\",\n",
        "    width=\"350\",\n",
        "    height=\"430\",\n",
        "    src=\"https://console.dialogflow.com/api-client/demo/embedded/bd9f99a2-3bf4-4161-bb34-df386a7fe733\"\n",
        ")"
      ]
    },
    {
      "cell_type": "code",
      "execution_count": 18,
      "metadata": {
        "colab": {
          "base_uri": "https://localhost:8080/",
          "height": 489
        },
        "id": "fohmeR25J_Ri",
        "outputId": "15bc6fe1-dd86-49fc-d839-2cc058298ceb"
      },
      "outputs": [
        {
          "output_type": "stream",
          "name": "stderr",
          "text": [
            "/usr/local/lib/python3.8/dist-packages/IPython/core/display.py:701: UserWarning: Consider using IPython.display.IFrame instead\n",
            "  warnings.warn(\"Consider using IPython.display.IFrame instead\")\n"
          ]
        },
        {
          "output_type": "execute_result",
          "data": {
            "text/plain": [
              "<IPython.core.display.HTML object>"
            ],
            "text/html": [
              "<iframe width=\"350\" height=\"430\" allow=\"microphone;\" src=\"https://console.dialogflow.com/api-client/demo/embedded/a2a67de8-c7ca-467e-8965-79a2c3a15b80\"></iframe>"
            ]
          },
          "metadata": {},
          "execution_count": 18
        }
      ],
      "source": [
        "# <iframe height=\"430\" width=\"350\" src=\"https://bot.dialogflow.com/a2a67de8-c7ca-467e-8965-79a2c3a15b80\"></iframe>\n",
        "display.HTML('<iframe width=\"350\" height=\"430\" allow=\"microphone;\" src=\"https://console.dialogflow.com/api-client/demo/embedded/a2a67de8-c7ca-467e-8965-79a2c3a15b80\"></iframe>' )"
      ]
    },
    {
      "cell_type": "code",
      "execution_count": 19,
      "metadata": {
        "colab": {
          "base_uri": "https://localhost:8080/",
          "height": 522
        },
        "id": "c88gwSoLNIic",
        "outputId": "84e101b4-2113-4753-ce81-1186acb5a881"
      },
      "outputs": [
        {
          "output_type": "stream",
          "name": "stdout",
          "text": [
            "Looking in indexes: https://pypi.org/simple, https://us-python.pkg.dev/colab-wheels/public/simple/\n",
            "Collecting google-cloud-dialogflow\n",
            "  Downloading google_cloud_dialogflow-2.20.0-py2.py3-none-any.whl (1.4 MB)\n",
            "\u001b[2K     \u001b[90m━━━━━━━━━━━━━━━━━━━━━━━━━━━━━━━━━━━━━━━━\u001b[0m \u001b[32m1.4/1.4 MB\u001b[0m \u001b[31m16.5 MB/s\u001b[0m eta \u001b[36m0:00:00\u001b[0m\n",
            "\u001b[?25hRequirement already satisfied: protobuf!=3.20.0,!=3.20.1,!=4.21.0,!=4.21.1,!=4.21.2,!=4.21.3,!=4.21.4,!=4.21.5,<5.0.0dev,>=3.19.5 in /usr/local/lib/python3.8/dist-packages (from google-cloud-dialogflow) (3.19.6)\n",
            "Requirement already satisfied: google-api-core[grpc]!=2.0.*,!=2.1.*,!=2.10.*,!=2.2.*,!=2.3.*,!=2.4.*,!=2.5.*,!=2.6.*,!=2.7.*,!=2.8.*,!=2.9.*,<3.0.0dev,>=1.34.0 in /usr/local/lib/python3.8/dist-packages (from google-cloud-dialogflow) (2.11.0)\n",
            "Requirement already satisfied: proto-plus<2.0.0dev,>=1.22.0 in /usr/local/lib/python3.8/dist-packages (from google-cloud-dialogflow) (1.22.2)\n",
            "Requirement already satisfied: requests<3.0.0dev,>=2.18.0 in /usr/local/lib/python3.8/dist-packages (from google-api-core[grpc]!=2.0.*,!=2.1.*,!=2.10.*,!=2.2.*,!=2.3.*,!=2.4.*,!=2.5.*,!=2.6.*,!=2.7.*,!=2.8.*,!=2.9.*,<3.0.0dev,>=1.34.0->google-cloud-dialogflow) (2.25.1)\n",
            "Requirement already satisfied: google-auth<3.0dev,>=2.14.1 in /usr/local/lib/python3.8/dist-packages (from google-api-core[grpc]!=2.0.*,!=2.1.*,!=2.10.*,!=2.2.*,!=2.3.*,!=2.4.*,!=2.5.*,!=2.6.*,!=2.7.*,!=2.8.*,!=2.9.*,<3.0.0dev,>=1.34.0->google-cloud-dialogflow) (2.16.1)\n",
            "Requirement already satisfied: googleapis-common-protos<2.0dev,>=1.56.2 in /usr/local/lib/python3.8/dist-packages (from google-api-core[grpc]!=2.0.*,!=2.1.*,!=2.10.*,!=2.2.*,!=2.3.*,!=2.4.*,!=2.5.*,!=2.6.*,!=2.7.*,!=2.8.*,!=2.9.*,<3.0.0dev,>=1.34.0->google-cloud-dialogflow) (1.58.0)\n",
            "Requirement already satisfied: grpcio<2.0dev,>=1.33.2 in /usr/local/lib/python3.8/dist-packages (from google-api-core[grpc]!=2.0.*,!=2.1.*,!=2.10.*,!=2.2.*,!=2.3.*,!=2.4.*,!=2.5.*,!=2.6.*,!=2.7.*,!=2.8.*,!=2.9.*,<3.0.0dev,>=1.34.0->google-cloud-dialogflow) (1.51.3)\n",
            "Requirement already satisfied: grpcio-status<2.0dev,>=1.33.2 in /usr/local/lib/python3.8/dist-packages (from google-api-core[grpc]!=2.0.*,!=2.1.*,!=2.10.*,!=2.2.*,!=2.3.*,!=2.4.*,!=2.5.*,!=2.6.*,!=2.7.*,!=2.8.*,!=2.9.*,<3.0.0dev,>=1.34.0->google-cloud-dialogflow) (1.48.2)\n",
            "Requirement already satisfied: pyasn1-modules>=0.2.1 in /usr/local/lib/python3.8/dist-packages (from google-auth<3.0dev,>=2.14.1->google-api-core[grpc]!=2.0.*,!=2.1.*,!=2.10.*,!=2.2.*,!=2.3.*,!=2.4.*,!=2.5.*,!=2.6.*,!=2.7.*,!=2.8.*,!=2.9.*,<3.0.0dev,>=1.34.0->google-cloud-dialogflow) (0.2.8)\n",
            "Requirement already satisfied: six>=1.9.0 in /usr/local/lib/python3.8/dist-packages (from google-auth<3.0dev,>=2.14.1->google-api-core[grpc]!=2.0.*,!=2.1.*,!=2.10.*,!=2.2.*,!=2.3.*,!=2.4.*,!=2.5.*,!=2.6.*,!=2.7.*,!=2.8.*,!=2.9.*,<3.0.0dev,>=1.34.0->google-cloud-dialogflow) (1.15.0)\n",
            "Requirement already satisfied: cachetools<6.0,>=2.0.0 in /usr/local/lib/python3.8/dist-packages (from google-auth<3.0dev,>=2.14.1->google-api-core[grpc]!=2.0.*,!=2.1.*,!=2.10.*,!=2.2.*,!=2.3.*,!=2.4.*,!=2.5.*,!=2.6.*,!=2.7.*,!=2.8.*,!=2.9.*,<3.0.0dev,>=1.34.0->google-cloud-dialogflow) (5.3.0)\n",
            "Requirement already satisfied: rsa<5,>=3.1.4 in /usr/local/lib/python3.8/dist-packages (from google-auth<3.0dev,>=2.14.1->google-api-core[grpc]!=2.0.*,!=2.1.*,!=2.10.*,!=2.2.*,!=2.3.*,!=2.4.*,!=2.5.*,!=2.6.*,!=2.7.*,!=2.8.*,!=2.9.*,<3.0.0dev,>=1.34.0->google-cloud-dialogflow) (4.9)\n",
            "Requirement already satisfied: urllib3<1.27,>=1.21.1 in /usr/local/lib/python3.8/dist-packages (from requests<3.0.0dev,>=2.18.0->google-api-core[grpc]!=2.0.*,!=2.1.*,!=2.10.*,!=2.2.*,!=2.3.*,!=2.4.*,!=2.5.*,!=2.6.*,!=2.7.*,!=2.8.*,!=2.9.*,<3.0.0dev,>=1.34.0->google-cloud-dialogflow) (1.26.14)\n",
            "Requirement already satisfied: certifi>=2017.4.17 in /usr/local/lib/python3.8/dist-packages (from requests<3.0.0dev,>=2.18.0->google-api-core[grpc]!=2.0.*,!=2.1.*,!=2.10.*,!=2.2.*,!=2.3.*,!=2.4.*,!=2.5.*,!=2.6.*,!=2.7.*,!=2.8.*,!=2.9.*,<3.0.0dev,>=1.34.0->google-cloud-dialogflow) (2022.12.7)\n",
            "Requirement already satisfied: chardet<5,>=3.0.2 in /usr/local/lib/python3.8/dist-packages (from requests<3.0.0dev,>=2.18.0->google-api-core[grpc]!=2.0.*,!=2.1.*,!=2.10.*,!=2.2.*,!=2.3.*,!=2.4.*,!=2.5.*,!=2.6.*,!=2.7.*,!=2.8.*,!=2.9.*,<3.0.0dev,>=1.34.0->google-cloud-dialogflow) (4.0.0)\n",
            "Requirement already satisfied: idna<3,>=2.5 in /usr/local/lib/python3.8/dist-packages (from requests<3.0.0dev,>=2.18.0->google-api-core[grpc]!=2.0.*,!=2.1.*,!=2.10.*,!=2.2.*,!=2.3.*,!=2.4.*,!=2.5.*,!=2.6.*,!=2.7.*,!=2.8.*,!=2.9.*,<3.0.0dev,>=1.34.0->google-cloud-dialogflow) (2.10)\n",
            "Requirement already satisfied: pyasn1<0.5.0,>=0.4.6 in /usr/local/lib/python3.8/dist-packages (from pyasn1-modules>=0.2.1->google-auth<3.0dev,>=2.14.1->google-api-core[grpc]!=2.0.*,!=2.1.*,!=2.10.*,!=2.2.*,!=2.3.*,!=2.4.*,!=2.5.*,!=2.6.*,!=2.7.*,!=2.8.*,!=2.9.*,<3.0.0dev,>=1.34.0->google-cloud-dialogflow) (0.4.8)\n",
            "Installing collected packages: google-cloud-dialogflow\n",
            "Successfully installed google-cloud-dialogflow-2.20.0\n"
          ]
        },
        {
          "output_type": "display_data",
          "data": {
            "application/vnd.colab-display-data+json": {
              "pip_warning": {
                "packages": [
                  "google"
                ]
              }
            }
          },
          "metadata": {}
        }
      ],
      "source": [
        "!pip install google-cloud-dialogflow"
      ]
    },
    {
      "cell_type": "code",
      "execution_count": 20,
      "metadata": {
        "colab": {
          "base_uri": "https://localhost:8080/"
        },
        "id": "KrzSNDFpfXA9",
        "outputId": "44322362-ca29-4ea9-a7d4-8a43ea055f8a"
      },
      "outputs": [
        {
          "output_type": "stream",
          "name": "stdout",
          "text": [
            "Looking in indexes: https://pypi.org/simple, https://us-python.pkg.dev/colab-wheels/public/simple/\n",
            "Requirement already satisfied: google-api-python-client in /usr/local/lib/python3.8/dist-packages (2.70.0)\n",
            "Requirement already satisfied: httplib2<1dev,>=0.15.0 in /usr/local/lib/python3.8/dist-packages (from google-api-python-client) (0.17.4)\n",
            "Requirement already satisfied: google-auth-httplib2>=0.1.0 in /usr/local/lib/python3.8/dist-packages (from google-api-python-client) (0.1.0)\n",
            "Requirement already satisfied: uritemplate<5,>=3.0.1 in /usr/local/lib/python3.8/dist-packages (from google-api-python-client) (4.1.1)\n",
            "Requirement already satisfied: google-auth<3.0.0dev,>=1.19.0 in /usr/local/lib/python3.8/dist-packages (from google-api-python-client) (2.16.1)\n",
            "Requirement already satisfied: google-api-core!=2.0.*,!=2.1.*,!=2.2.*,!=2.3.0,<3.0.0dev,>=1.31.5 in /usr/local/lib/python3.8/dist-packages (from google-api-python-client) (2.11.0)\n",
            "Requirement already satisfied: protobuf!=3.20.0,!=3.20.1,!=4.21.0,!=4.21.1,!=4.21.2,!=4.21.3,!=4.21.4,!=4.21.5,<5.0.0dev,>=3.19.5 in /usr/local/lib/python3.8/dist-packages (from google-api-core!=2.0.*,!=2.1.*,!=2.2.*,!=2.3.0,<3.0.0dev,>=1.31.5->google-api-python-client) (3.19.6)\n",
            "Requirement already satisfied: requests<3.0.0dev,>=2.18.0 in /usr/local/lib/python3.8/dist-packages (from google-api-core!=2.0.*,!=2.1.*,!=2.2.*,!=2.3.0,<3.0.0dev,>=1.31.5->google-api-python-client) (2.25.1)\n",
            "Requirement already satisfied: googleapis-common-protos<2.0dev,>=1.56.2 in /usr/local/lib/python3.8/dist-packages (from google-api-core!=2.0.*,!=2.1.*,!=2.2.*,!=2.3.0,<3.0.0dev,>=1.31.5->google-api-python-client) (1.58.0)\n",
            "Requirement already satisfied: rsa<5,>=3.1.4 in /usr/local/lib/python3.8/dist-packages (from google-auth<3.0.0dev,>=1.19.0->google-api-python-client) (4.9)\n",
            "Requirement already satisfied: cachetools<6.0,>=2.0.0 in /usr/local/lib/python3.8/dist-packages (from google-auth<3.0.0dev,>=1.19.0->google-api-python-client) (5.3.0)\n",
            "Requirement already satisfied: six>=1.9.0 in /usr/local/lib/python3.8/dist-packages (from google-auth<3.0.0dev,>=1.19.0->google-api-python-client) (1.15.0)\n",
            "Requirement already satisfied: pyasn1-modules>=0.2.1 in /usr/local/lib/python3.8/dist-packages (from google-auth<3.0.0dev,>=1.19.0->google-api-python-client) (0.2.8)\n",
            "Requirement already satisfied: pyasn1<0.5.0,>=0.4.6 in /usr/local/lib/python3.8/dist-packages (from pyasn1-modules>=0.2.1->google-auth<3.0.0dev,>=1.19.0->google-api-python-client) (0.4.8)\n",
            "Requirement already satisfied: certifi>=2017.4.17 in /usr/local/lib/python3.8/dist-packages (from requests<3.0.0dev,>=2.18.0->google-api-core!=2.0.*,!=2.1.*,!=2.2.*,!=2.3.0,<3.0.0dev,>=1.31.5->google-api-python-client) (2022.12.7)\n",
            "Requirement already satisfied: urllib3<1.27,>=1.21.1 in /usr/local/lib/python3.8/dist-packages (from requests<3.0.0dev,>=2.18.0->google-api-core!=2.0.*,!=2.1.*,!=2.2.*,!=2.3.0,<3.0.0dev,>=1.31.5->google-api-python-client) (1.26.14)\n",
            "Requirement already satisfied: chardet<5,>=3.0.2 in /usr/local/lib/python3.8/dist-packages (from requests<3.0.0dev,>=2.18.0->google-api-core!=2.0.*,!=2.1.*,!=2.2.*,!=2.3.0,<3.0.0dev,>=1.31.5->google-api-python-client) (4.0.0)\n",
            "Requirement already satisfied: idna<3,>=2.5 in /usr/local/lib/python3.8/dist-packages (from requests<3.0.0dev,>=2.18.0->google-api-core!=2.0.*,!=2.1.*,!=2.2.*,!=2.3.0,<3.0.0dev,>=1.31.5->google-api-python-client) (2.10)\n"
          ]
        }
      ],
      "source": [
        "!pip install google-api-python-client"
      ]
    },
    {
      "cell_type": "code",
      "execution_count": 22,
      "metadata": {
        "colab": {
          "base_uri": "https://localhost:8080/"
        },
        "id": "U6WhJ23pMG1U",
        "outputId": "7e4fa731-bb41-4cab-c3e8-22f74a94ba09"
      },
      "outputs": [
        {
          "output_type": "stream",
          "name": "stdout",
          "text": [
            "Enter your query: 1.5 ct diamond colourless\n",
            "text {\n",
            "  text: \"1.5 ct diamond colourless\"\n",
            "  language_code: \"en\"\n",
            "}\n",
            "\n",
            "response_id: \"883eefdb-99ee-4add-8937-e377c5a90488-18dedd3b\"\n",
            "query_result {\n",
            "  query_text: \"1.5 ct diamond colourless\"\n",
            "  parameters {\n",
            "    fields {\n",
            "      key: \"ct_max\"\n",
            "      value {\n",
            "        string_value: \"10.5\"\n",
            "      }\n",
            "    }\n",
            "    fields {\n",
            "      key: \"ct_min\"\n",
            "      value {\n",
            "        string_value: \"0\"\n",
            "      }\n",
            "    }\n",
            "    fields {\n",
            "      key: \"diamond_clarity\"\n",
            "      value {\n",
            "        list_value {\n",
            "          values {\n",
            "            string_value: \"each\"\n",
            "          }\n",
            "        }\n",
            "      }\n",
            "    }\n",
            "    fields {\n",
            "      key: \"diamond_color\"\n",
            "      value {\n",
            "        list_value {\n",
            "          values {\n",
            "            string_value: \"colourless\"\n",
            "          }\n",
            "        }\n",
            "      }\n",
            "    }\n",
            "    fields {\n",
            "      key: \"diamond_cut\"\n",
            "      value {\n",
            "        string_value: \"all\"\n",
            "      }\n",
            "    }\n",
            "    fields {\n",
            "      key: \"diamond_polish\"\n",
            "      value {\n",
            "        string_value: \"all\"\n",
            "      }\n",
            "    }\n",
            "    fields {\n",
            "      key: \"diamond_shape\"\n",
            "      value {\n",
            "        list_value {\n",
            "          values {\n",
            "            string_value: \"every\"\n",
            "          }\n",
            "        }\n",
            "      }\n",
            "    }\n",
            "    fields {\n",
            "      key: \"diamond_symmetry\"\n",
            "      value {\n",
            "        string_value: \"all symmetry\"\n",
            "      }\n",
            "    }\n",
            "    fields {\n",
            "      key: \"number-integer\"\n",
            "      value {\n",
            "        string_value: \"\"\n",
            "      }\n",
            "    }\n",
            "    fields {\n",
            "      key: \"price_max\"\n",
            "      value {\n",
            "        string_value: \"40000\"\n",
            "      }\n",
            "    }\n",
            "    fields {\n",
            "      key: \"price_min\"\n",
            "      value {\n",
            "        string_value: \"0\"\n",
            "      }\n",
            "    }\n",
            "  }\n",
            "  all_required_params_present: true\n",
            "  fulfillment_text: \"Sure! every shaped diamonds with colourless colour range, all cut range  , having all polish and each clarity, of 0 to 10.5 carat in price range of 0 - 40000 .\"\n",
            "  fulfillment_messages {\n",
            "    text {\n",
            "      text: \"Sure! every shaped diamonds with colourless colour range, all cut range  , having all polish and each clarity, of 0 to 10.5 carat in price range of 0 - 40000 .\"\n",
            "    }\n",
            "  }\n",
            "  intent {\n",
            "    name: \"projects/d360-thwj/agent/intents/23942633-8b41-4336-9b74-c5a51bdc6b59\"\n",
            "    display_name: \"diamond-identifier\"\n",
            "  }\n",
            "  intent_detection_confidence: 0.6418299078941345\n",
            "  language_code: \"en\"\n",
            "}\n",
            "\n"
          ]
        }
      ],
      "source": [
        "# Import necessary libraries\n",
        "import os\n",
        "from google.cloud import dialogflow\n",
        "import google.protobuf  as pf\n",
        "from google.protobuf.json_format import MessageToDict, MessageToJson\n",
        "from google.cloud.dialogflow import DetectIntentResponse\n",
        "from google.cloud import translate_v2 as translate\n",
        "# Set the environment variable for authentication\n",
        "\n",
        "os.environ[\"GOOGLE_APPLICATION_CREDENTIALS\"] = \"/content/d360-thwj-7bbe13019bb6.json\"\n",
        "\n",
        "# Set up the Dialogflow client\n",
        "project_id = \"d360-thwj\"\n",
        "session_id = \"116287996507186946778\"\n",
        "language_code = \"en\"\n",
        "session_client = dialogflow.SessionsClient()\n",
        "session_path = session_client.session_path(project_id, session_id)\n",
        "\n",
        "# Define a function for generating the chatbot's response\n",
        "def generate_response(query):\n",
        "    response = \"This is a response to your query: \" + query\n",
        "    return response\n",
        "\n",
        "# Prompt the user to enter their query\n",
        "flag=1\n",
        "user_query = input(\"Enter your query: \")\n",
        "# if (flag==1):\n",
        "#     user_query = translate.Client.from_service_account_json('/content/appointmentscheduler-krpj-46a2a76517a6.json')\n",
        "#     text_input = dialogflow.TextInput(text=str(user_query), language_code=language_code)\n",
        "# else:\n",
        "text_input = dialogflow.TextInput(text=user_query, language_code=language_code)\n",
        "query_input = dialogflow.QueryInput(text=text_input)\n",
        "print(query_input)\n",
        "# Send the user's query to Dialogflow and retrieve the response\n",
        "# response = session_client.detect_intent(session=session_path, query_input=query_input)\n",
        "# print(response)\n",
        "# assume that response_proto is a protobuf message of type DetectIntentResponse\n",
        "# response = DetectIntentResponse()\n",
        "response = session_client.detect_intent(session=session_path, query_input=query_input)\n",
        "print(response)\n",
        "response = DetectIntentResponse()\n",
        "response = session_client.detect_intent(session=session_path, query_input=query_input)\n",
        "\n",
        "# response = session_client.detect_intent(session=session_path, query_input=query_input)\n",
        "# print(response)"
      ]
    },
    {
      "cell_type": "code",
      "execution_count": 23,
      "metadata": {
        "colab": {
          "base_uri": "https://localhost:8080/"
        },
        "id": "2q0AKnALNrZU",
        "outputId": "4a6d621c-d55e-4fb8-c5b2-1ee6b779da62"
      },
      "outputs": [
        {
          "output_type": "stream",
          "name": "stdout",
          "text": [
            "<class 'google.cloud.dialogflow_v2.types.session.DetectIntentResponse'>\n"
          ]
        }
      ],
      "source": [
        "dicti = response\n",
        "print(type(dicti))"
      ]
    },
    {
      "cell_type": "code",
      "execution_count": 24,
      "metadata": {
        "colab": {
          "base_uri": "https://localhost:8080/",
          "height": 140
        },
        "id": "dtSrx_iqkJLt",
        "outputId": "3a328d9d-932a-4ea9-fb7e-404dd5ffde18"
      },
      "outputs": [
        {
          "output_type": "execute_result",
          "data": {
            "text/plain": [
              "'{\\n  \"responseId\": \"efc67d8d-2460-4193-8eb5-245985a5b474-18dedd3b\",\\n  \"queryResult\": {\\n    \"queryText\": \"1.5 ct diamond colourless\",\\n    \"parameters\": {\\n      \"diamond_clarity\": [\\n        \"each\"\\n      ],\\n      \"price_max\": \"40000\",\\n      \"ct_min\": \"0\",\\n      \"diamond_polish\": \"all\",\\n      \"diamond_cut\": \"all\",\\n      \"diamond_shape\": [\\n        \"every\"\\n      ],\\n      \"diamond_symmetry\": \"all symmetry\",\\n      \"ct_max\": \"10.5\",\\n      \"price_min\": \"0\",\\n      \"diamond_color\": [\\n        \"colourless\"\\n      ],\\n      \"number-integer\": \"\"\\n    },\\n    \"allRequiredParamsPresent\": true,\\n    \"fulfillmentText\": \"Sure! every shaped diamonds with colourless colour range, all cut range  , having all polish and each clarity, of 0 to 10.5 carat in price range of 0 - 40000 .\",\\n    \"fulfillmentMessages\": [\\n      {\\n        \"text\": {\\n          \"text\": [\\n            \"Sure! every shaped diamonds with colourless colour range, all cut range  , having all polish and each clarity, of 0 to 10.5 carat in price range of 0 - 40000 .\"\\n          ]\\n        }\\n      }\\n    ],\\n    \"intent\": {\\n      \"name\": \"projects/d360-thwj/agent/intents/23942633-8b41-4336-9b74-c5a51bdc6b59\",\\n      \"displayName\": \"diamond-identifier\"\\n    },\\n    \"intentDetectionConfidence\": 0.6418299,\\n    \"languageCode\": \"en\"\\n  }\\n}'"
            ],
            "application/vnd.google.colaboratory.intrinsic+json": {
              "type": "string"
            }
          },
          "metadata": {},
          "execution_count": 24
        }
      ],
      "source": [
        "json_response = MessageToJson(response._pb)\n",
        "json_response"
      ]
    },
    {
      "cell_type": "code",
      "execution_count": 25,
      "metadata": {
        "colab": {
          "base_uri": "https://localhost:8080/"
        },
        "id": "ghJebtLRkOxy",
        "outputId": "7bed448f-0090-4713-bc35-f53a20243cba"
      },
      "outputs": [
        {
          "output_type": "stream",
          "name": "stdout",
          "text": [
            "<class 'str'>\n",
            "1.5 ct diamond colourless\n",
            "diamond-identifier\n"
          ]
        }
      ],
      "source": [
        "print(type(json_response))\n",
        "print(response.query_result.query_text)\n",
        "print(response.query_result.intent.display_name)\n",
        "params = response.query_result.parameters"
      ]
    },
    {
      "cell_type": "code",
      "execution_count": 29,
      "metadata": {
        "colab": {
          "base_uri": "https://localhost:8080/"
        },
        "id": "Q9PMM8kmkYrI",
        "outputId": "aaf0ef26-ba7e-44c6-c3f5-75eb2f595021"
      },
      "outputs": [
        {
          "output_type": "stream",
          "name": "stdout",
          "text": [
            "diamond_clarity ['each']\n",
            "price_max 40000\n",
            "ct_min 0\n",
            "diamond_polish all\n",
            "diamond_cut all\n",
            "diamond_shape ['every']\n",
            "diamond_symmetry all symmetry\n",
            "ct_max 10.5\n",
            "price_min 0\n",
            "diamond_color ['colourless']\n",
            "number-integer \n"
          ]
        }
      ],
      "source": [
        "for i in params:\n",
        "    if i == \"diamond_color\":\n",
        "        if params[i]==\"colorless\":\n",
        "            diamond_color=['D','E','F']\n",
        "        elif params[i]=='near colorless':\n",
        "            diamond_color=['G','H','I','J']\n",
        "        elif params[i]=='faint':\n",
        "            diamond_color=['K','L','M']\n",
        "        elif params[i]=='very light':\n",
        "            diamond_color=['N','O','P','Q','R']\n",
        "        elif params[i]=='light':\n",
        "            diamond_color=['S','T','U','V','W','X','Y','Z']\n",
        "        \n",
        "    print(f'{i} {params[i]}')"
      ]
    },
    {
      "cell_type": "code",
      "execution_count": 27,
      "metadata": {
        "id": "QhkFVHRW7u9p"
      },
      "outputs": [],
      "source": [
        "# from google.protobuf.struct_pb2 import NULL_VALUE\n",
        "# dict1 = {\n",
        "#     'diamond_color': \"\",\n",
        "#     'ct_max' : 10.5,\n",
        "#     'price_min': 0.0,\n",
        "#     'diamond_clarity': \"\",\n",
        "#     'number': 0,\n",
        "#     'ct_min': 0,\n",
        "#     'diamond_polish': \"\", \n",
        "#     'diamond_shape': \"\",\n",
        "#     'carat': -1,\n",
        "#     'diamond_symmetry': \"\", \n",
        "#     'diamond_cut' : \"\",\n",
        "#     'price_max': 40000,\n",
        "# }"
      ]
    },
    {
      "cell_type": "code",
      "execution_count": 30,
      "metadata": {
        "id": "3hoigq9x_Of7",
        "outputId": "6ed752ae-9b4d-4094-cc22-518a4796c691",
        "colab": {
          "base_uri": "https://localhost:8080/"
        }
      },
      "outputs": [
        {
          "output_type": "stream",
          "name": "stdout",
          "text": [
            "6855     6.213696e+09\n",
            "6856     3.385653e+09\n",
            "6857     6.217661e+09\n",
            "6858     6.382584e+09\n",
            "6859     7.371564e+09\n",
            "7734     2.386315e+09\n",
            "7738     2.387634e+09\n",
            "7740     3.385497e+09\n",
            "7745     7.388282e+09\n",
            "8418     6.381933e+09\n",
            "8424     7.381055e+09\n",
            "8425     1.387312e+09\n",
            "8890     1.388595e+09\n",
            "9001     2.414740e+09\n",
            "16727    6.213696e+09\n",
            "16728    3.385653e+09\n",
            "16729    6.217661e+09\n",
            "16730    6.382584e+09\n",
            "16731    7.371564e+09\n",
            "17606    2.386315e+09\n",
            "17610    2.387634e+09\n",
            "17612    3.385497e+09\n",
            "17617    7.388282e+09\n",
            "18290    6.381933e+09\n",
            "18296    7.381055e+09\n",
            "18297    1.387312e+09\n",
            "Name: REPORTNO, dtype: float64\n"
          ]
        }
      ],
      "source": [
        "import pandas as pd\n",
        "import numpy as np\n",
        "\n",
        "df= pd.read_csv('NewData.csv')\n",
        "\n",
        "dict={'diamond_color': ['E'],'ct_max': '10.5', 'price_min': '0', 'diamond_clarity': ['VS1', 'I2'], 'number': 0, 'ct_min': '0', 'diamond_polish': '','diamond_shape': ['OV'], 'carat': 1.5, 'diamond_symmetry': 'all symmetry','diamond_cut': 'all', 'price_max': '40000','number-integer':''}\n",
        "dict\n",
        "temp=pd.DataFrame()\n",
        "flag=1\n",
        "if dict['diamond_color'][0]!='all':\n",
        "    temp=df[df['COLOR'].isin(dict['diamond_color'])]\n",
        "if dict['diamond_clarity'][0]!='each':\n",
        "    temp=temp[temp['PURITY'].isin(dict['diamond_clarity'])]\n",
        "if dict['diamond_symmetry']!='all symmetry':\n",
        "    temp=temp[temp['SYMN'].isin(list(dict['diamond_symmetry']))]\n",
        "if dict['diamond_shape'][0]!='every':\n",
        "    temp=temp[temp['SHAPE'].isin(dict['diamond_shape'])]\n",
        "if dict['diamond_cut']!='all':\n",
        "    temp=temp[temp['CUT'].isin(list(dict['diamond_cut']))]\n",
        "if dict['ct_max']!=10.5:\n",
        "    temp=temp[(temp['WEIGHT']<=float(dict['ct_max']))]\n",
        "    flag=0\n",
        "    # print(temp.head())\n",
        "if dict['ct_min']!=0 :\n",
        "    temp=temp[(temp['WEIGHT']>=float(dict['ct_min']))]\n",
        "    flag=0\n",
        "    # print(temp.head())\n",
        "# if dict['carat']!=0 and flag==1:\n",
        "#     temp=temp[(temp['WEIGHT']==(dict['carat']))]\n",
        "if dict['diamond_polish']!='':\n",
        "    temp=temp[dict['diamond_polish'] == temp['POLISH']]\n",
        "temp=temp[temp['TOTAL'] >int( dict['price_min'])]\n",
        "temp=temp[temp['TOTAL'] < int(dict['price_max'])]\n",
        "print(temp['REPORTNO'])\n",
        "# np.mean(temp['TOTAL'])"
      ]
    },
    {
      "cell_type": "code",
      "execution_count": null,
      "metadata": {
        "id": "g6NLkT7p_Of7",
        "outputId": "76c70b90-b1c0-4aed-9ec3-8450d6befe24"
      },
      "outputs": [
        {
          "name": "stdout",
          "output_type": "stream",
          "text": [
            "<class 'int'>\n"
          ]
        }
      ],
      "source": []
    },
    {
      "cell_type": "code",
      "execution_count": null,
      "metadata": {
        "id": "NfGd2Ij8_Of7"
      },
      "outputs": [],
      "source": []
    }
  ],
  "metadata": {
    "colab": {
      "provenance": [],
      "include_colab_link": true
    },
    "kernelspec": {
      "display_name": "Python 3",
      "language": "python",
      "name": "python3"
    },
    "language_info": {
      "codemirror_mode": {
        "name": "ipython",
        "version": 3
      },
      "file_extension": ".py",
      "mimetype": "text/x-python",
      "name": "python",
      "nbconvert_exporter": "python",
      "pygments_lexer": "ipython3",
      "version": "3.9.7"
    },
    "orig_nbformat": 4
  },
  "nbformat": 4,
  "nbformat_minor": 0
}
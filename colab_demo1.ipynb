{
  "cells": [
    {
      "cell_type": "markdown",
      "metadata": {
        "id": "view-in-github",
        "colab_type": "text"
      },
      "source": [
        "<a href=\"https://colab.research.google.com/github/Devasy23/Innovatech/blob/main/colab_demo1.ipynb\" target=\"_parent\"><img src=\"https://colab.research.google.com/assets/colab-badge.svg\" alt=\"Open In Colab\"/></a>"
      ]
    },
    {
      "cell_type": "code",
      "execution_count": null,
      "metadata": {
        "id": "r-308lV1J_Re"
      },
      "outputs": [],
      "source": [
        "from IPython import display\n"
      ]
    },
    {
      "cell_type": "code",
      "execution_count": null,
      "metadata": {
        "colab": {
          "base_uri": "https://localhost:8080/",
          "height": 622
        },
        "id": "Rs5Wx7uWJ_Rh",
        "outputId": "3070fabd-6dab-4ca1-ff12-a0f5186ae0d4"
      },
      "outputs": [
        {
          "output_type": "execute_result",
          "data": {
            "text/plain": [
              "<IPython.lib.display.IFrame at 0x7fd47ccff700>"
            ],
            "text/html": [
              "\n",
              "        <iframe\n",
              "            width=\"700\"\n",
              "            height=\"600\"\n",
              "            src=\"https://bot.dialogflow.com/a2a67de8-c7ca-467e-8965-79a2c3a15b80\"\n",
              "            frameborder=\"0\"\n",
              "            allowfullscreen\n",
              "        ></iframe>\n",
              "        "
            ]
          },
          "metadata": {},
          "execution_count": 2
        }
      ],
      "source": [
        "display.IFrame(src=\"https://bot.dialogflow.com/a2a67de8-c7ca-467e-8965-79a2c3a15b80\", width=700, height=600)"
      ]
    },
    {
      "cell_type": "code",
      "execution_count": null,
      "metadata": {
        "colab": {
          "base_uri": "https://localhost:8080/",
          "height": 489
        },
        "id": "fohmeR25J_Ri",
        "outputId": "a5bf9795-1ed7-4c59-88d4-3a92f15917d7"
      },
      "outputs": [
        {
          "output_type": "stream",
          "name": "stderr",
          "text": [
            "/usr/local/lib/python3.8/dist-packages/IPython/core/display.py:701: UserWarning: Consider using IPython.display.IFrame instead\n",
            "  warnings.warn(\"Consider using IPython.display.IFrame instead\")\n"
          ]
        },
        {
          "output_type": "execute_result",
          "data": {
            "text/plain": [
              "<IPython.core.display.HTML object>"
            ],
            "text/html": [
              "<iframe width=\"350\" height=\"430\" allow=\"microphone;\" src=\"https://console.dialogflow.com/api-client/demo/embedded/a2a67de8-c7ca-467e-8965-79a2c3a15b80\"></iframe>"
            ]
          },
          "metadata": {},
          "execution_count": 5
        }
      ],
      "source": [
        "# <iframe height=\"430\" width=\"350\" src=\"https://bot.dialogflow.com/a2a67de8-c7ca-467e-8965-79a2c3a15b80\"></iframe>\n",
        "display.HTML('<iframe width=\"350\" height=\"430\" allow=\"microphone;\" src=\"https://console.dialogflow.com/api-client/demo/embedded/a2a67de8-c7ca-467e-8965-79a2c3a15b80\"></iframe>' )"
      ]
    },
    {
      "cell_type": "code",
      "source": [
        "!pip install google-cloud-dialogflow"
      ],
      "metadata": {
        "id": "c88gwSoLNIic",
        "outputId": "cefd3cd2-0d0d-4161-b904-063d76ccede8",
        "colab": {
          "base_uri": "https://localhost:8080/",
          "height": 522
        }
      },
      "execution_count": null,
      "outputs": [
        {
          "output_type": "stream",
          "name": "stdout",
          "text": [
            "Looking in indexes: https://pypi.org/simple, https://us-python.pkg.dev/colab-wheels/public/simple/\n",
            "Collecting google-cloud-dialogflow\n",
            "  Downloading google_cloud_dialogflow-2.20.0-py2.py3-none-any.whl (1.4 MB)\n",
            "\u001b[?25l     \u001b[90m━━━━━━━━━━━━━━━━━━━━━━━━━━━━━━━━━━━━━━━━\u001b[0m \u001b[32m0.0/1.4 MB\u001b[0m \u001b[31m?\u001b[0m eta \u001b[36m-:--:--\u001b[0m\r\u001b[2K     \u001b[90m━━━━━━━━━━━━━━━━━━━━━━━━━━━━━━━━━━━━━━━━\u001b[0m \u001b[32m1.4/1.4 MB\u001b[0m \u001b[31m53.7 MB/s\u001b[0m eta \u001b[36m0:00:00\u001b[0m\n",
            "\u001b[?25hRequirement already satisfied: proto-plus<2.0.0dev,>=1.22.0 in /usr/local/lib/python3.8/dist-packages (from google-cloud-dialogflow) (1.22.2)\n",
            "Requirement already satisfied: google-api-core[grpc]!=2.0.*,!=2.1.*,!=2.10.*,!=2.2.*,!=2.3.*,!=2.4.*,!=2.5.*,!=2.6.*,!=2.7.*,!=2.8.*,!=2.9.*,<3.0.0dev,>=1.34.0 in /usr/local/lib/python3.8/dist-packages (from google-cloud-dialogflow) (1.34.0)\n",
            "Requirement already satisfied: protobuf!=3.20.0,!=3.20.1,!=4.21.0,!=4.21.1,!=4.21.2,!=4.21.3,!=4.21.4,!=4.21.5,<5.0.0dev,>=3.19.5 in /usr/local/lib/python3.8/dist-packages (from google-cloud-dialogflow) (3.19.6)\n",
            "Requirement already satisfied: requests<3.0.0dev,>=2.18.0 in /usr/local/lib/python3.8/dist-packages (from google-api-core[grpc]!=2.0.*,!=2.1.*,!=2.10.*,!=2.2.*,!=2.3.*,!=2.4.*,!=2.5.*,!=2.6.*,!=2.7.*,!=2.8.*,!=2.9.*,<3.0.0dev,>=1.34.0->google-cloud-dialogflow) (2.25.1)\n",
            "Requirement already satisfied: google-auth<3.0dev,>=1.25.0 in /usr/local/lib/python3.8/dist-packages (from google-api-core[grpc]!=2.0.*,!=2.1.*,!=2.10.*,!=2.2.*,!=2.3.*,!=2.4.*,!=2.5.*,!=2.6.*,!=2.7.*,!=2.8.*,!=2.9.*,<3.0.0dev,>=1.34.0->google-cloud-dialogflow) (2.16.1)\n",
            "Requirement already satisfied: googleapis-common-protos<2.0dev,>=1.56.2 in /usr/local/lib/python3.8/dist-packages (from google-api-core[grpc]!=2.0.*,!=2.1.*,!=2.10.*,!=2.2.*,!=2.3.*,!=2.4.*,!=2.5.*,!=2.6.*,!=2.7.*,!=2.8.*,!=2.9.*,<3.0.0dev,>=1.34.0->google-cloud-dialogflow) (1.58.0)\n",
            "Requirement already satisfied: grpcio-status<2.0dev,>=1.33.2 in /usr/local/lib/python3.8/dist-packages (from google-api-core[grpc]!=2.0.*,!=2.1.*,!=2.10.*,!=2.2.*,!=2.3.*,!=2.4.*,!=2.5.*,!=2.6.*,!=2.7.*,!=2.8.*,!=2.9.*,<3.0.0dev,>=1.34.0->google-cloud-dialogflow) (1.48.2)\n",
            "Requirement already satisfied: grpcio<2.0dev,>=1.33.2 in /usr/local/lib/python3.8/dist-packages (from google-api-core[grpc]!=2.0.*,!=2.1.*,!=2.10.*,!=2.2.*,!=2.3.*,!=2.4.*,!=2.5.*,!=2.6.*,!=2.7.*,!=2.8.*,!=2.9.*,<3.0.0dev,>=1.34.0->google-cloud-dialogflow) (1.51.3)\n",
            "Requirement already satisfied: cachetools<6.0,>=2.0.0 in /usr/local/lib/python3.8/dist-packages (from google-auth<3.0dev,>=1.25.0->google-api-core[grpc]!=2.0.*,!=2.1.*,!=2.10.*,!=2.2.*,!=2.3.*,!=2.4.*,!=2.5.*,!=2.6.*,!=2.7.*,!=2.8.*,!=2.9.*,<3.0.0dev,>=1.34.0->google-cloud-dialogflow) (5.3.0)\n",
            "Requirement already satisfied: rsa<5,>=3.1.4 in /usr/local/lib/python3.8/dist-packages (from google-auth<3.0dev,>=1.25.0->google-api-core[grpc]!=2.0.*,!=2.1.*,!=2.10.*,!=2.2.*,!=2.3.*,!=2.4.*,!=2.5.*,!=2.6.*,!=2.7.*,!=2.8.*,!=2.9.*,<3.0.0dev,>=1.34.0->google-cloud-dialogflow) (4.9)\n",
            "Requirement already satisfied: pyasn1-modules>=0.2.1 in /usr/local/lib/python3.8/dist-packages (from google-auth<3.0dev,>=1.25.0->google-api-core[grpc]!=2.0.*,!=2.1.*,!=2.10.*,!=2.2.*,!=2.3.*,!=2.4.*,!=2.5.*,!=2.6.*,!=2.7.*,!=2.8.*,!=2.9.*,<3.0.0dev,>=1.34.0->google-cloud-dialogflow) (0.2.8)\n",
            "Requirement already satisfied: six>=1.9.0 in /usr/local/lib/python3.8/dist-packages (from google-auth<3.0dev,>=1.25.0->google-api-core[grpc]!=2.0.*,!=2.1.*,!=2.10.*,!=2.2.*,!=2.3.*,!=2.4.*,!=2.5.*,!=2.6.*,!=2.7.*,!=2.8.*,!=2.9.*,<3.0.0dev,>=1.34.0->google-cloud-dialogflow) (1.15.0)\n",
            "Requirement already satisfied: chardet<5,>=3.0.2 in /usr/local/lib/python3.8/dist-packages (from requests<3.0.0dev,>=2.18.0->google-api-core[grpc]!=2.0.*,!=2.1.*,!=2.10.*,!=2.2.*,!=2.3.*,!=2.4.*,!=2.5.*,!=2.6.*,!=2.7.*,!=2.8.*,!=2.9.*,<3.0.0dev,>=1.34.0->google-cloud-dialogflow) (4.0.0)\n",
            "Requirement already satisfied: urllib3<1.27,>=1.21.1 in /usr/local/lib/python3.8/dist-packages (from requests<3.0.0dev,>=2.18.0->google-api-core[grpc]!=2.0.*,!=2.1.*,!=2.10.*,!=2.2.*,!=2.3.*,!=2.4.*,!=2.5.*,!=2.6.*,!=2.7.*,!=2.8.*,!=2.9.*,<3.0.0dev,>=1.34.0->google-cloud-dialogflow) (1.26.14)\n",
            "Requirement already satisfied: certifi>=2017.4.17 in /usr/local/lib/python3.8/dist-packages (from requests<3.0.0dev,>=2.18.0->google-api-core[grpc]!=2.0.*,!=2.1.*,!=2.10.*,!=2.2.*,!=2.3.*,!=2.4.*,!=2.5.*,!=2.6.*,!=2.7.*,!=2.8.*,!=2.9.*,<3.0.0dev,>=1.34.0->google-cloud-dialogflow) (2022.12.7)\n",
            "Requirement already satisfied: idna<3,>=2.5 in /usr/local/lib/python3.8/dist-packages (from requests<3.0.0dev,>=2.18.0->google-api-core[grpc]!=2.0.*,!=2.1.*,!=2.10.*,!=2.2.*,!=2.3.*,!=2.4.*,!=2.5.*,!=2.6.*,!=2.7.*,!=2.8.*,!=2.9.*,<3.0.0dev,>=1.34.0->google-cloud-dialogflow) (2.10)\n",
            "Requirement already satisfied: pyasn1<0.5.0,>=0.4.6 in /usr/local/lib/python3.8/dist-packages (from pyasn1-modules>=0.2.1->google-auth<3.0dev,>=1.25.0->google-api-core[grpc]!=2.0.*,!=2.1.*,!=2.10.*,!=2.2.*,!=2.3.*,!=2.4.*,!=2.5.*,!=2.6.*,!=2.7.*,!=2.8.*,!=2.9.*,<3.0.0dev,>=1.34.0->google-cloud-dialogflow) (0.4.8)\n",
            "Installing collected packages: google-cloud-dialogflow\n",
            "Successfully installed google-cloud-dialogflow-2.20.0\n"
          ]
        },
        {
          "output_type": "display_data",
          "data": {
            "application/vnd.colab-display-data+json": {
              "pip_warning": {
                "packages": [
                  "google"
                ]
              }
            }
          },
          "metadata": {}
        }
      ]
    },
    {
      "cell_type": "code",
      "source": [
        "!pip install google-api-python-client"
      ],
      "metadata": {
        "id": "KrzSNDFpfXA9",
        "outputId": "8987d017-c3fb-4b24-8e43-8d4b93b4599e",
        "colab": {
          "base_uri": "https://localhost:8080/"
        }
      },
      "execution_count": null,
      "outputs": [
        {
          "output_type": "stream",
          "name": "stdout",
          "text": [
            "Looking in indexes: https://pypi.org/simple, https://us-python.pkg.dev/colab-wheels/public/simple/\n",
            "Requirement already satisfied: google-api-python-client in /usr/local/lib/python3.8/dist-packages (2.70.0)\n",
            "Requirement already satisfied: google-auth<3.0.0dev,>=1.19.0 in /usr/local/lib/python3.8/dist-packages (from google-api-python-client) (2.16.1)\n",
            "Requirement already satisfied: uritemplate<5,>=3.0.1 in /usr/local/lib/python3.8/dist-packages (from google-api-python-client) (4.1.1)\n",
            "Requirement already satisfied: google-auth-httplib2>=0.1.0 in /usr/local/lib/python3.8/dist-packages (from google-api-python-client) (0.1.0)\n",
            "Requirement already satisfied: google-api-core!=2.0.*,!=2.1.*,!=2.2.*,!=2.3.0,<3.0.0dev,>=1.31.5 in /usr/local/lib/python3.8/dist-packages (from google-api-python-client) (1.34.0)\n",
            "Requirement already satisfied: httplib2<1dev,>=0.15.0 in /usr/local/lib/python3.8/dist-packages (from google-api-python-client) (0.17.4)\n",
            "Requirement already satisfied: googleapis-common-protos<2.0dev,>=1.56.2 in /usr/local/lib/python3.8/dist-packages (from google-api-core!=2.0.*,!=2.1.*,!=2.2.*,!=2.3.0,<3.0.0dev,>=1.31.5->google-api-python-client) (1.58.0)\n",
            "Requirement already satisfied: protobuf!=3.20.0,!=3.20.1,!=4.21.0,!=4.21.1,!=4.21.2,!=4.21.3,!=4.21.4,!=4.21.5,<4.0.0dev,>=3.19.5 in /usr/local/lib/python3.8/dist-packages (from google-api-core!=2.0.*,!=2.1.*,!=2.2.*,!=2.3.0,<3.0.0dev,>=1.31.5->google-api-python-client) (3.19.6)\n",
            "Requirement already satisfied: requests<3.0.0dev,>=2.18.0 in /usr/local/lib/python3.8/dist-packages (from google-api-core!=2.0.*,!=2.1.*,!=2.2.*,!=2.3.0,<3.0.0dev,>=1.31.5->google-api-python-client) (2.25.1)\n",
            "Requirement already satisfied: six>=1.9.0 in /usr/local/lib/python3.8/dist-packages (from google-auth<3.0.0dev,>=1.19.0->google-api-python-client) (1.15.0)\n",
            "Requirement already satisfied: pyasn1-modules>=0.2.1 in /usr/local/lib/python3.8/dist-packages (from google-auth<3.0.0dev,>=1.19.0->google-api-python-client) (0.2.8)\n",
            "Requirement already satisfied: rsa<5,>=3.1.4 in /usr/local/lib/python3.8/dist-packages (from google-auth<3.0.0dev,>=1.19.0->google-api-python-client) (4.9)\n",
            "Requirement already satisfied: cachetools<6.0,>=2.0.0 in /usr/local/lib/python3.8/dist-packages (from google-auth<3.0.0dev,>=1.19.0->google-api-python-client) (5.3.0)\n",
            "Requirement already satisfied: pyasn1<0.5.0,>=0.4.6 in /usr/local/lib/python3.8/dist-packages (from pyasn1-modules>=0.2.1->google-auth<3.0.0dev,>=1.19.0->google-api-python-client) (0.4.8)\n",
            "Requirement already satisfied: urllib3<1.27,>=1.21.1 in /usr/local/lib/python3.8/dist-packages (from requests<3.0.0dev,>=2.18.0->google-api-core!=2.0.*,!=2.1.*,!=2.2.*,!=2.3.0,<3.0.0dev,>=1.31.5->google-api-python-client) (1.26.14)\n",
            "Requirement already satisfied: idna<3,>=2.5 in /usr/local/lib/python3.8/dist-packages (from requests<3.0.0dev,>=2.18.0->google-api-core!=2.0.*,!=2.1.*,!=2.2.*,!=2.3.0,<3.0.0dev,>=1.31.5->google-api-python-client) (2.10)\n",
            "Requirement already satisfied: certifi>=2017.4.17 in /usr/local/lib/python3.8/dist-packages (from requests<3.0.0dev,>=2.18.0->google-api-core!=2.0.*,!=2.1.*,!=2.2.*,!=2.3.0,<3.0.0dev,>=1.31.5->google-api-python-client) (2022.12.7)\n",
            "Requirement already satisfied: chardet<5,>=3.0.2 in /usr/local/lib/python3.8/dist-packages (from requests<3.0.0dev,>=2.18.0->google-api-core!=2.0.*,!=2.1.*,!=2.2.*,!=2.3.0,<3.0.0dev,>=1.31.5->google-api-python-client) (4.0.0)\n"
          ]
        }
      ]
    },
    {
      "cell_type": "code",
      "source": [
        "# Import necessary libraries\n",
        "import os\n",
        "from google.cloud import dialogflow\n",
        "import google.protobuf  as pf\n",
        "from google.cloud.dialogflow import DetectIntentResponse\n",
        "from google.cloud import translate_v2 as translate\n",
        "# Set the environment variable for authentication\n",
        "os.environ[\"GOOGLE_APPLICATION_CREDENTIALS\"] = \"/content/d-3601-exrp-53f67a9b495c.json\"\n",
        "\n",
        "# Set up the Dialogflow client\n",
        "project_id = \"d-3601-exrp\"\n",
        "session_id = \"y123\"\n",
        "language_code = \"en\"\n",
        "session_client = dialogflow.SessionsClient()\n",
        "session_path = session_client.session_path(project_id, session_id)\n",
        "\n",
        "# Define a function for generating the chatbot's response\n",
        "def generate_response(query):\n",
        "    response = \"This is a response to your query: \" + query\n",
        "    return response\n",
        "\n",
        "# Prompt the user to enter their query\n",
        "flag=1\n",
        "user_query = input(\"Enter your query: \")\n",
        "if (flag==1):\n",
        "    user_query = translate.Client.from_service_account_json('/content/appointmentscheduler-krpj-46a2a76517a6.json')\n",
        "    text_input = dialogflow.TextInput(text=str(user_query), language_code=language_code)\n",
        "else:\n",
        "    text_input = dialogflow.TextInput(text=user_query, language_code=language_code)\n",
        "query_input = dialogflow.QueryInput(text=text_input)\n",
        "\n",
        "# Send the user's query to Dialogflow and retrieve the response\n",
        "response = session_client.detect_intent(session=session_path, query_input=query_input)\n",
        "print(response)\n",
        "# assume that response_proto is a protobuf message of type DetectIntentResponse\n",
        "# response = DetectIntentResponse()\n",
        "\n",
        "# response = session_client.detect_intent(session=session_path, query_input=query_input)"
      ],
      "metadata": {
        "id": "U6WhJ23pMG1U",
        "outputId": "18daecee-3d44-478b-b842-571fcc363011",
        "colab": {
          "base_uri": "https://localhost:8080/"
        }
      },
      "execution_count": 30,
      "outputs": [
        {
          "output_type": "stream",
          "name": "stdout",
          "text": [
            "Enter your query: can i get colourless diamonds with vvs2+ category and rb shape with 2 ct\n",
            "response_id: \"9218de92-1ae4-4600-8b24-af6f38b3eafe-18dedd3b\"\n",
            "query_result {\n",
            "  query_text: \"<google.cloud.translate_v2.client.Client object at 0x7f0c62070820>\"\n",
            "  action: \"input.unknown\"\n",
            "  parameters {\n",
            "  }\n",
            "  all_required_params_present: true\n",
            "  fulfillment_text: \"I missed what you said. What was that?\"\n",
            "  fulfillment_messages {\n",
            "    text {\n",
            "      text: \"I missed what you said. What was that?\"\n",
            "    }\n",
            "  }\n",
            "  output_contexts {\n",
            "    name: \"projects/d-3601-exrp/agent/sessions/y123/contexts/__system_counters__\"\n",
            "    lifespan_count: 1\n",
            "    parameters {\n",
            "      fields {\n",
            "        key: \"no-input\"\n",
            "        value {\n",
            "          number_value: 0.0\n",
            "        }\n",
            "      }\n",
            "      fields {\n",
            "        key: \"no-match\"\n",
            "        value {\n",
            "          number_value: 5.0\n",
            "        }\n",
            "      }\n",
            "    }\n",
            "  }\n",
            "  intent {\n",
            "    name: \"projects/d-3601-exrp/agent/intents/56d43c09-0a2f-4067-b193-cdfb77309a8a\"\n",
            "    display_name: \"Default Fallback Intent\"\n",
            "    is_fallback: true\n",
            "  }\n",
            "  intent_detection_confidence: 1.0\n",
            "  language_code: \"en\"\n",
            "}\n",
            "\n"
          ]
        }
      ]
    },
    {
      "cell_type": "code",
      "source": [
        "dicti = response\n",
        "print(type(dicti))"
      ],
      "metadata": {
        "id": "2q0AKnALNrZU",
        "outputId": "2d9b5b78-bf1a-4443-85f4-39a54703764f",
        "colab": {
          "base_uri": "https://localhost:8080/"
        }
      },
      "execution_count": 23,
      "outputs": [
        {
          "output_type": "stream",
          "name": "stdout",
          "text": [
            "<class 'google.cloud.dialogflow_v2.types.session.DetectIntentResponse'>\n"
          ]
        }
      ]
    },
    {
      "cell_type": "code",
      "source": [
        "json_response = MessageToJson(response._pb)\n",
        "json_response"
      ],
      "metadata": {
        "id": "dtSrx_iqkJLt",
        "outputId": "ff897751-596f-4bc0-9b24-e2bfd1f906b9",
        "colab": {
          "base_uri": "https://localhost:8080/",
          "height": 140
        }
      },
      "execution_count": 25,
      "outputs": [
        {
          "output_type": "execute_result",
          "data": {
            "text/plain": [
              "'{\\n  \"responseId\": \"780dc01a-42c2-4e8c-823d-3e66292737a9-18dedd3b\",\\n  \"queryResult\": {\\n    \"queryText\": \"<google.cloud.translate_v2.client.Client object at 0x7f0c69d2bee0>\",\\n    \"action\": \"input.unknown\",\\n    \"parameters\": {},\\n    \"allRequiredParamsPresent\": true,\\n    \"fulfillmentText\": \"Say that one more time?\",\\n    \"fulfillmentMessages\": [\\n      {\\n        \"text\": {\\n          \"text\": [\\n            \"Say that one more time?\"\\n          ]\\n        }\\n      }\\n    ],\\n    \"outputContexts\": [\\n      {\\n        \"name\": \"projects/d-3601-exrp/agent/sessions/y123/contexts/__system_counters__\",\\n        \"lifespanCount\": 1,\\n        \"parameters\": {\\n          \"no-input\": 0.0,\\n          \"no-match\": 2.0\\n        }\\n      }\\n    ],\\n    \"intent\": {\\n      \"name\": \"projects/d-3601-exrp/agent/intents/56d43c09-0a2f-4067-b193-cdfb77309a8a\",\\n      \"displayName\": \"Default Fallback Intent\",\\n      \"isFallback\": true\\n    },\\n    \"intentDetectionConfidence\": 1.0,\\n    \"languageCode\": \"en\"\\n  }\\n}'"
            ],
            "application/vnd.google.colaboratory.intrinsic+json": {
              "type": "string"
            }
          },
          "metadata": {},
          "execution_count": 25
        }
      ]
    },
    {
      "cell_type": "code",
      "source": [
        "print(type(json_response))\n",
        "print(response.query_result.query_text)\n",
        "print(response.query_result.intent.display_name)\n",
        "params = response.query_result.parameters"
      ],
      "metadata": {
        "id": "ghJebtLRkOxy",
        "outputId": "6a682af0-7666-42fb-e9c1-bcd9e04fba51",
        "colab": {
          "base_uri": "https://localhost:8080/"
        }
      },
      "execution_count": 26,
      "outputs": [
        {
          "output_type": "stream",
          "name": "stdout",
          "text": [
            "<class 'str'>\n",
            "<google.cloud.translate_v2.client.Client object at 0x7f0c69d2bee0>\n",
            "Default Fallback Intent\n"
          ]
        }
      ]
    },
    {
      "cell_type": "code",
      "source": [
        "for i in params:\n",
        "  print(f'{i} {params[i]}')"
      ],
      "metadata": {
        "id": "Q9PMM8kmkYrI"
      },
      "execution_count": 27,
      "outputs": []
    },
    {
      "cell_type": "code",
      "source": [],
      "metadata": {
        "id": "QhkFVHRW7u9p"
      },
      "execution_count": null,
      "outputs": []
    }
  ],
  "metadata": {
    "kernelspec": {
      "display_name": "Python 3",
      "language": "python",
      "name": "python3"
    },
    "language_info": {
      "codemirror_mode": {
        "name": "ipython",
        "version": 3
      },
      "file_extension": ".py",
      "mimetype": "text/x-python",
      "name": "python",
      "nbconvert_exporter": "python",
      "pygments_lexer": "ipython3",
      "version": "3.10.5"
    },
    "orig_nbformat": 4,
    "colab": {
      "provenance": [],
      "include_colab_link": true
    }
  },
  "nbformat": 4,
  "nbformat_minor": 0
}
{
 "cells": [
  {
   "cell_type": "code",
   "execution_count": 15,
   "metadata": {},
   "outputs": [],
   "source": [
    "import random"
   ]
  },
  {
   "cell_type": "code",
   "execution_count": 30,
   "metadata": {},
   "outputs": [],
   "source": [
    "def shape_generator():\n",
    "    actual_shape_dict = {'ROUND':'RD', 'RD':'RD', 'R':'RD', 'BR':'RD', 'RB':'RD',\n",
    "        'ROUND BRILLIANT':'RD','ROUNDBRILLIANT':'RD', 'BRILLIANT':'RD',\n",
    "        'BRILLIANT CUT':'RD', 'BRILLIANTCUT':'RD', \n",
    "        'OVAL':'OV',  'OV':'OV', 'OC':'OV',  'OVEL':'OV', 'OL':'OV', \n",
    "        'EMERALD':'EM', 'EM':'EM', 'EMRD':'EM', 'EC':'EM', \n",
    "        'CUSHION MODIFIED':'CU', 'CMB':'CU','CM':'CU', 'CS':'CU', 'CUSHIONMODIFIED':'CU',\n",
    "        'CUSHION':'CU', 'CUS':'CU','CU':'CU',\n",
    "        'PRINCESS':'PR','PR':'PR','PC':'PR',\n",
    "        'PEAR':'PS','PAER':'PS', 'PER':'PS', 'PS':'PS',\n",
    "        'RADIANT':'RA', 'RAD':'RA', 'RA':'RA',          \n",
    "        'MARQUISE':'MQ', 'MR':'MQ', 'MQ':'MQ', 'MAR':'MQ',\n",
    "        'ASHCHER':'AS', 'AS':'AS', 'ASSCHER': 'AS',\n",
    "        'HEART':'HS','HRT':'HS', 'LOVE':'HS', 'HS':'HS', 'HR':'HS', 'HC':'HS',\n",
    "        'TRIANGLE':'TR', 'TRI': 'TR', 'TR':'TR'}\n",
    "    # randomly generate a shape\n",
    "    random_shape = random.choice(list(actual_shape_dict.keys()))\n",
    "    # map the randomly generated shape to one of the shapes in the shape_list\n",
    "    mapped_shape = actual_shape_dict[random_shape]\n",
    "    random_shape_str=\"\"\n",
    "    for char in random_shape:\n",
    "        if random.randint(0, 1):\n",
    "            random_shape_str += char.upper()\n",
    "        else:\n",
    "            random_shape_str += char.lower()\n",
    "    lst = ['shape','ShaPE',\"\", \"shp\",\"SpE\"]\n",
    "    tmp = random.choice(lst)\n",
    "    return tmp + \" \" + random_shape_str\n",
    "    # output the generated shape\n",
    "    #print(f\"Generated shape: {random_shape_str}\")"
   ]
  },
  {
   "cell_type": "code",
   "execution_count": null,
   "metadata": {},
   "outputs": [],
   "source": [
    "for i in range(1,100):\n",
    "    ans = shape_generator()\n",
    "    print(ans)"
   ]
  },
  {
   "cell_type": "code",
   "execution_count": 46,
   "metadata": {},
   "outputs": [],
   "source": [
    "def color_generator():\n",
    "    actual_color_dict = {'D':'D', 'E':'E', 'F':'F', 'D-':'D', 'E-':'E', 'F-':'F','D+':'D', 'E+':'E', 'F+':'F',\n",
    "                        'G':'G', 'H':'H', 'I':'I', 'G-':'G', 'H-':'H', 'I-':'I', 'G+':'G', 'H+':'H', 'I+':'I',\n",
    "                        'J':'J', 'K':'K', 'L':'L', 'J-':'J', 'K-':'K', 'L-':'L', 'J+':'J', 'K+':'K', 'L+':'L',\n",
    "                        'M':'M', 'N':'N', 'O':'O', 'M-':'M', 'N-':'N', 'O-':'O', 'M+':'M', 'N+':'N', 'O+':'O',\n",
    "                        'P':'P', 'Q':'Q', 'P-':'P', 'Q-':'Q', 'Q+':'Q', 'P+':'P',\n",
    "                        'Q':'Q', 'R':'R', 'S':'S', 'T':'T', 'U':'U', 'V':'V',\n",
    "                        'W':'W', 'X':'X', 'Y':'Y', 'Z':'Z'}\n",
    "    random_clr = random.choice(list(actual_color_dict.keys()))\n",
    "    #print(random_clr)\n",
    "    # map the randomly generated shape to one of the shapes in the shape_list\n",
    "    random_clr_str=\"\"\n",
    "    for char in random_clr:\n",
    "        k = random.randint(0,1)\n",
    "        if k==0:\n",
    "        # if random.randint(0, 1):\n",
    "            random_clr_str += char.upper()\n",
    "        else:\n",
    "            random_clr_str += char.lower()\n",
    "    lst = ['CLor','ColOUR',\"\", \"Colour\",\"ClR\"]\n",
    "    tmp = random.choice(lst)\n",
    "    return tmp + \" \" + random_clr_str\n",
    "    # output the generated shape\n",
    "    # print(f\"Generated color: {random_clr_str}\")"
   ]
  },
  {
   "cell_type": "code",
   "execution_count": 33,
   "metadata": {},
   "outputs": [
    {
     "name": "stdout",
     "output_type": "stream",
     "text": [
      "I\n"
     ]
    },
    {
     "data": {
      "text/plain": [
       "'ClR i'"
      ]
     },
     "execution_count": 33,
     "metadata": {},
     "output_type": "execute_result"
    }
   ],
   "source": [
    "color_generator()"
   ]
  },
  {
   "cell_type": "code",
   "execution_count": 34,
   "metadata": {},
   "outputs": [],
   "source": [
    "def Fluorescence():\n",
    "    actual_fluor_dict = {\n",
    "    'NONE':'N', 'NON':'N', 'N':'N', 'NO':'N', 'NAN':'N',\n",
    "    'FAINT':'F','FNT':'F', 'FAINT':'F', 'F': 'F',\n",
    "    'MEDIUM':'M','MED':'M', 'M':'M', 'MEDIUMYELLOW': 'M',\n",
    "    'STRONG':'S', 'STG':'S', 'S':'S', 'ST':'S', 'STRONGYELLOW':'S',\n",
    "    'VERY STRONG':'VS', 'VST':'VS', 'VSTG':'VS', 'VS':'VS', 'VERYSTRONG':'VS', 'VERYSTRONGBL': 'VS',\n",
    "    }\n",
    "    frandom = random.choice(list(actual_fluor_dict.keys()))\n",
    "    #print(frandom)\n",
    "    # map the randomly generated shape to one of the shapes in the shape_list\n",
    "    f=\"\"\n",
    "    for char in frandom:\n",
    "        k = random.randint(0,1)\n",
    "        if k==0:\n",
    "        # if random.randint(0, 1):\n",
    "            f += char.upper()\n",
    "        else:\n",
    "            f += char.lower()\n",
    "    lst = ['Fluorescence', 'Fluor', 'FloR']\n",
    "    tmp = random.choice(lst)\n",
    "    return tmp + \" \" + f\n",
    "    # output the generated shape\n",
    "    # print(f\"Generated color: {f}\")"
   ]
  },
  {
   "cell_type": "code",
   "execution_count": 35,
   "metadata": {},
   "outputs": [],
   "source": [
    "for i in range(100):\n",
    "    Fluorescence()"
   ]
  },
  {
   "cell_type": "code",
   "execution_count": 37,
   "metadata": {},
   "outputs": [],
   "source": [
    "def clarity():\n",
    "    actual_clarity_dict = {\n",
    "    'FL':'FL', 'IF':'IF', 'VVS1':'VVS1', 'VVS2':'VVS2', 'VS1':'VS1',\n",
    "    'FL-':'IF', 'IF-':'IF', 'VVS1-':'VVS1', 'VVS2-':'VVS2', 'VS1-':'VS1',\n",
    "    'FL+':'IF', 'IF+':'IF', 'VVS1+':'VVS1', 'VVS2+':'VVS2', 'VS1+':'VS1',\n",
    "    'VS2':'VS2', 'SI1':'SI1', 'SI2':'SI2', 'I1':'', 'I2':'', 'I3':'I3',\n",
    "    'VS2-':'VS2', 'SI1-':'SI1', 'SI2-':'SI2', 'I1-':'I1', 'I2-':'I2', 'I3-':'I3',\n",
    "    'VS2+':'VS2', 'SI1+':'SI1', 'SI2+':'SI2', 'I1+':'I1', 'I2+':'I2', 'I3+':'I3'}\n",
    "    temp_random = random.choice(list(actual_clarity_dict.keys()))\n",
    "    #print(temp_random)\n",
    "    # map the randomly generated shape to one of the shapes in the shape_list\n",
    "    f=\"\"\n",
    "    for char in temp_random:\n",
    "        k = random.randint(0,1)\n",
    "        if k==0:\n",
    "        # if random.randint(0, 1):\n",
    "            f += char.upper()\n",
    "        else:\n",
    "            f += char.lower()\n",
    "    lst = ['Clarity', 'CLaR', 'CltY']\n",
    "    tmp = random.choice(lst)\n",
    "    return tmp + \" \" + f"
   ]
  },
  {
   "cell_type": "code",
   "execution_count": 38,
   "metadata": {},
   "outputs": [
    {
     "data": {
      "text/plain": [
       "'CltY sI1+'"
      ]
     },
     "execution_count": 38,
     "metadata": {},
     "output_type": "execute_result"
    }
   ],
   "source": [
    "ans = clarity()\n",
    "ans"
   ]
  },
  {
   "cell_type": "code",
   "execution_count": 39,
   "metadata": {},
   "outputs": [],
   "source": [
    "def cut():\n",
    "    actual_cut_dict = {'EX':'X', 'VG':'VG', 'G': 'G', 'X':'X',\n",
    "                   'EX-':'X', 'VG-':'VG', 'G-': 'G',\n",
    "                   'EX+':'X', 'VG+':'VG', 'G+': 'G',\n",
    "                   'EXCELLENT':'X', 'VERY GOOD': 'VG', 'VERYGOOD': 'VG', 'GOOD': 'G',\n",
    "                   'F':'F','FAIR':'F','P':'P','POOR':'P'}\n",
    "    temp_random = random.choice(list(actual_cut_dict.keys()))\n",
    "    #print(temp_random)\n",
    "    # map the randomly generated shape to one of the shapes in the shape_list\n",
    "    f=\"\"\n",
    "    for char in temp_random:\n",
    "        k = random.randint(0,1)\n",
    "        if k==0:\n",
    "        # if random.randint(0, 1):\n",
    "            f += char.upper()\n",
    "        else:\n",
    "            f += char.lower()\n",
    "    lst = ['CuT', 'CT']\n",
    "    tmp = random.choice(lst)\n",
    "    return tmp + \" \" + f"
   ]
  },
  {
   "cell_type": "code",
   "execution_count": 40,
   "metadata": {},
   "outputs": [],
   "source": [
    "def polish():\n",
    "    actual_polish_dict = {'EX':'X', 'VG':'VG', 'G': 'G', 'X':'X',\n",
    "                   'EX-':'X', 'VG-':'VG', 'G-': 'G',\n",
    "                   'EX+':'X', 'VG+':'VG', 'G+': 'G',\n",
    "                   'EXCELLENT':'X', 'VERY GOOD': 'VG', 'VERYGOOD': 'VG', 'GOOD': 'G',\n",
    "                   'F':'F','FAIR':'F','P':'P','POOR':'P'}\n",
    "    temp_random = random.choice(list(actual_polish_dict.keys()))\n",
    "    #print(temp_random)\n",
    "    # map the randomly generated shape to one of the shapes in the shape_list\n",
    "    f=\"\"\n",
    "    for char in temp_random:\n",
    "        k = random.randint(0,1)\n",
    "        if k==0:\n",
    "        # if random.randint(0, 1):\n",
    "            f += char.upper()\n",
    "        else:\n",
    "            f += char.lower()\n",
    "    lst = ['Polish','PlSH','PolsH']\n",
    "    tmp = random.choice(lst)\n",
    "    return tmp + \" \" + f"
   ]
  },
  {
   "cell_type": "code",
   "execution_count": 41,
   "metadata": {},
   "outputs": [],
   "source": [
    "def symmetry():\n",
    "    actual_sym_dict = {'EX':'X', 'VG':'VG', 'G': 'G', 'X':'X',\n",
    "                   'EX-':'X', 'VG-':'VG', 'G-': 'G',\n",
    "                   'EX+':'X', 'VG+':'VG', 'G+': 'G',\n",
    "                   'EXCELLENT':'X', 'VERY GOOD': 'VG', 'VERYGOOD': 'VG', 'GOOD': 'G',\n",
    "                   'F':'F','FAIR':'F','P':'P','POOR':'P'}\n",
    "    temp_random = random.choice(list(actual_sym_dict.keys()))\n",
    "    #print(temp_random)\n",
    "    # map the randomly generated shape to one of the shapes in the shape_list\n",
    "    f=\"\"\n",
    "    for char in temp_random:\n",
    "        k = random.randint(0,1)\n",
    "        if k==0:\n",
    "        # if random.randint(0, 1):\n",
    "            f += char.upper()\n",
    "        else:\n",
    "            f += char.lower()\n",
    "    lst = ['SymmetrY','SyM']\n",
    "    tmp = random.choice(lst)\n",
    "    return tmp + \" \" + f"
   ]
  },
  {
   "cell_type": "code",
   "execution_count": 47,
   "metadata": {},
   "outputs": [
    {
     "name": "stdout",
     "output_type": "stream",
     "text": [
      "Colour k- shp heaRt CT G+ Clarity vs1+ PlSH POOr Fluorescence s SyM eX+ \n",
      "Polish Vg+ SyM x shp rAD CuT ExcellENt Clarity VVS1 Fluor f Colour s \n",
      "Fluorescence fAint  G- PolsH verY GoOd CltY fl SymmetrY PoOR shape hc CuT g+ \n",
      "SyM Ex CLaR Si1+ ColOUR I Fluorescence STroNGYELloW shape eMrD PlSH ex- CT vEry gooD \n",
      "Fluor n  e SyM x CuT eX+ CLaR VS2-  oVEL PolsH g+ \n",
      "Colour G- shp R FloR veRy sTrong Clarity Fl+ PlSH POOr SyM F CuT P \n",
      "CLaR VVS2 CuT EX+  G+ SpE cs SyM P PolsH G Fluor sTroNG \n",
      "CltY IF Fluorescence sT ColOUR J- CT eX+ SyM pOor SpE RB Polish F \n",
      "ColOUR G+ SyM f PlSH X  RB CltY I1 FloR NOn CT F \n",
      "CuT G- SymmetrY EXCEllENt shape Mq ColOUR m- CltY si1 Fluorescence NoN Polish P \n",
      "Colour d  pear SyM Vg+ FloR F CuT g- PolsH f CLaR Fl+ \n",
      "CT VErY goOd Polish Ex- Fluor VStG  i+ CltY Vs1+ shp rA SymmetrY vERY gOoD \n",
      "ColOUR Q Fluor VERysTRoNg SymmetrY F SpE TR CT P CLaR i3- Polish vEry gOod \n",
      "CLaR vvS2+  M- SyM ex- CT p ShaPE ASsCheR Fluorescence vstg PolsH Vg \n",
      "Fluor VErYstrOnG PlSH VG shape CU  J+ CuT GoOD Clarity vs1 SyM eX+ \n",
      "ShaPE cUshion moDIfiEd PlSH GoOd CLaR Si1+ SymmetrY EX Colour i+ Fluorescence STRONgYeLLOw CuT X \n",
      "SpE mARquISe Fluor non PolsH g- CuT Vg ColOUR t SymmetrY pOoR Clarity if \n",
      "FloR FAINt SyM vg+ ColOUR K- shape PS CltY fL+ CT Ex- Polish ex+ \n",
      " M- CltY fl- Fluorescence NaN CT EX SpE hc SyM g- PlSH poor \n",
      "CLaR Vvs1+ CT vG+ Fluorescence N shape TrI ColOUR w SyM vg+ PlSH G- \n",
      " W SyM ex Fluorescence nONe shp rD CT vg Clarity Si1- PolsH pOOR \n",
      " D- PlSH x FloR VsT SyM F CLaR i2- CT Ex+  EMerAlD \n",
      "CLor I+ CltY vvs1 CT vG- SymmetrY ex- Fluorescence VeRYStrOng  CMb PolsH g+ \n",
      "CuT eXceLlEnT CLor K CLaR vs1- ShaPE Hrt Fluor FainT Polish vEry GOOD SymmetrY G- \n",
      "Fluor naN CuT g- SymmetrY poOR CLor D+ SpE brillIaNt CLaR i2+ PlSH ex- \n",
      "CLor Q PlSH VEry GooD CT vERYgoOD Clarity Fl shape cU FloR Medium SyM p \n",
      "ColOUR w SpE ASHcher PlSH g- FloR vErYstRONGbl SymmetrY pooR CltY i1 CT x \n",
      "Colour d- Clarity i3+ SyM vg+ PlSH gOoD shape Pr CuT G+ FloR vsT \n",
      "Polish g- CltY fL+ SyM P  cUShioNModIFieD CT exCelleNt Fluor nO Colour p \n",
      "CT G Polish F Clarity SI2+ CLor L- Fluorescence fAINt  Cus SyM Vg+ \n",
      "Colour m+ ShaPE bR PolsH fair CuT vg+ Fluorescence nO CLaR VVS1 SyM p \n",
      "ColOUR E- FloR medIumYelLOW SymmetrY G CuT ex+ PlSH F  rD Clarity I3- \n",
      "SymmetrY pOOR Polish G ClR u CltY Fl CuT EXceLLENt FloR Fnt shape Pc \n",
      "CltY VvS1- SymmetrY G Polish Vg FloR strOng shape pER Colour J+ CT pOor \n",
      "PlSH eX CuT g+ CltY FL Fluor STROnG SpE EmRd SymmetrY FAir ColOUR f \n",
      "PlSH vG+ shp emERALD SymmetrY EXcElLent CuT vG+ ColOUR V Fluorescence vsTg CltY VS1 \n",
      "CLaR Si1 Fluor noNe CT g+  PR PolsH p SyM VERY GOod  v \n",
      "ShaPE maR CLaR I2 Fluor VErY strOng ClR f+ SymmetrY Good CuT EX+ Polish vG+ \n",
      "Fluorescence vsTG Colour J+ Clarity VS2  eMrD Polish FAIR SymmetrY G CT GOoD \n",
      "CuT VG CLaR Vs1 PolsH EX+ SymmetrY EX+ shape cUSHIonMOdIFiEd Fluor nAN  E- \n",
      "shp AShCHeR ColOUR I Clarity vVS2 Fluor NO SyM poOr CT f PolsH f \n",
      "CltY SI2+ SymmetrY FaiR  Rb ClR I+ Fluor VSt PlSH x CT POOr \n",
      "SyM GoOd FloR s PlSH Ex+ CT ExceLlENt Colour q SpE Hrt CLaR i2 \n",
      "CLor p+ CT P Fluorescence nONe PlSH FAiR CLaR sI1  Mar SymmetrY GoOD \n",
      "SyM F Fluor Faint CuT pOOr Clarity VvS2+ Polish vEry GOOd SpE HeArT ColOUR K- \n",
      "Fluorescence verYstronG ShaPE PEaR CLaR fl+ CT X CLor n SyM vERY good PolsH VErYgOod \n",
      "CuT Ex PolsH Vg- Fluorescence vst CLaR sI1+  Hrt  j+ SymmetrY EXCellEnt \n",
      "SymmetrY g Colour H+ CT vERYGoOd Clarity vVS1+ Fluorescence VS shape Cu PolsH Vg+ \n",
      "FloR fNt SymmetrY X Clarity vs2- SpE OvEL PlSH faIr ClR J- CT VeRYgoOD \n",
      "Polish VERygOoD CuT Ex- ClR j+ Fluor verY sTRoNg SyM Ex+ shp lOvE CLaR I3 \n",
      "CuT VG- ShaPE RD PlSH Verygood Fluor m SymmetrY fair Clarity vS2-  N \n",
      "SymmetrY gOod ClR G- CLaR Vs2 FloR MEDIumYeLLOW shape AsHcheR CT Vg PlSH g \n",
      "Fluorescence STG  g- SpE Hr PlSH g- Clarity I1 CuT ex SymmetrY GOod \n",
      "Fluorescence meDiumYelLOw ShaPE hRT Polish G- CT goOD Colour s SyM gOOd CltY si1 \n",
      "Polish vErygoOd CLaR Si2+ FloR stg CLor r CT faIr shp cuSHIoNmodIfIeD SymmetrY F \n",
      "shape emrd CT FAIR SymmetrY VG+ Polish p CLaR i1 Colour D Fluor StroNg \n",
      "Fluorescence vErY StRoNG SymmetrY VG+ Polish veRY GOOd SpE CUShIOn CltY vS2- Colour g- CuT Vg+ \n",
      "Fluor MEd CLor i+ Polish gOod CLaR Si2- CT POOR  PEr SyM ex+ \n",
      "Colour K+ SyM P Polish vg+ shape HEArT FloR vStG Clarity I2- CT EX+ \n",
      "SyM P CT eX ShaPE oc Colour M- Polish exCelleNT FloR VS CltY VVS2- \n",
      "SpE rD PlSH EXcELLenT CuT F Colour i SymmetrY G Fluorescence None CLaR VvS1+ \n",
      "Fluorescence STG Clarity VVS1- ShaPE BrilliaNT  t CuT X Polish Vg- SymmetrY F \n",
      "Clarity IF FloR NOn  g+ CuT Ex- Polish eXCelLent shape ol SymmetrY vg- \n",
      "ShaPE brILLIAnt CuT EXCELLeNT CLor k SyM VG CLaR I1+ PlSH EX+ Fluor St \n",
      "SpE peaR  L- SymmetrY g- FloR NONe Polish eX CLaR i3 CT excELLEnt \n",
      "CLaR sI1+ ColOUR i+ CuT g SyM pOor ShaPE PER PolsH x FloR S \n",
      "SyM G  rA Clarity Si1- CuT x PolsH vg+ ColOUR O+ Fluor med \n",
      "CLaR sI2+ FloR fnT Colour L shp ra CT g+ Polish g SymmetrY VG- \n",
      "CT F Clarity i2+ PlSH EX SpE Hc Fluorescence StRONGYeLlow Colour I+ SyM vG \n",
      "CT EX- SymmetrY X  Ov  J- PolsH VErygOOd CltY VS1+ Fluorescence VSTG \n",
      " U Fluorescence NAn CuT f PolsH g+ ShaPE ROUnD BrillIANt CltY If+ SyM EX \n",
      "shp em Polish ExCeLLeNt CuT EX+ ColOUR P- Clarity vvS2+ Fluorescence vsT SymmetrY FAIr \n",
      "Polish VERy gOOD SymmetrY VG- Clarity I1+ CuT exCELLEnt FloR VeRysTRoNG ClR P SpE eMeralD \n",
      "SyM G CLor h CuT FaIr CLaR i2- shape mq Fluor VSt PlSH Ex- \n",
      "PlSH G- CLor E+ CuT F SpE hRt Fluorescence F SymmetrY Ex+ CLaR Vs2+ \n",
      "SymmetrY POoR Clarity SI2+ CuT vg PlSH EX- shape CusHIONmOdified CLor h- Fluor sTRonGYelLOw \n",
      "CT GooD ClR e+ CLaR IF+ SyM g shp rA FloR VsTg Polish P \n",
      "Polish Vg- SpE TR ColOUR f- SymmetrY EXCElLEnT FloR FAINt CltY SI1+ CuT g \n",
      "ShaPE oc PlSH VG CLaR VVS2 CuT g- Colour I+ SyM ex Fluor F \n",
      "ShaPE hR CT gooD ClR k SyM G- CltY vS2- PolsH faiR Fluor VeRySTronG \n",
      "CuT P  k+ FloR n shp OL CLaR sI1 SymmetrY G- PlSH ex \n",
      "PlSH g+ CuT Ex Fluorescence M CltY I2- SymmetrY g+ SpE ov ClR d \n",
      "CLor E- PolsH F shape Tri CltY i2- SyM vERyGOOd Fluor vsT CuT Very goOd \n",
      "Fluor fnt CT f shape cs PlSH g Colour Z Clarity I2- SyM vG \n",
      "FloR MEd ClR W PlSH VerYGooD SyM fAIR CltY FL CT G+  PC \n",
      "ClR D- Clarity VS2- SyM G+ FloR STG shp Em CT eX+ Polish vEry gOOd \n",
      "Clarity Fl- SyM ex- Polish VERygoOd ColOUR D- CT vErY gOOD Fluorescence noNe shape Mq \n",
      "Clarity fL- Fluorescence M CuT VEryGooD SpE ovEL SyM eX+ PolsH vg ColOUR I \n",
      "CuT vg+ Polish f SyM X Fluor s shape cM ColOUR p CltY Fl- \n",
      "PlSH FAiR CT poOr Colour D- SyM g+ Fluor MeDIUmyeLLOW Clarity VS2+ SpE TRiAnGle \n",
      "PolsH X SyM VG SpE PaEr Fluorescence Fnt CuT F  y CLaR vVs2- \n",
      "CLaR VS2  H- Fluor vERy StRONG CT ex-  BrILliaNTcUT SymmetrY G PolsH p \n",
      " hRt Colour r CLaR VS2 Polish Excellent CT P SyM g+ FloR vStG \n",
      "Polish Ex- SyM gOoD CuT vERYGOOD  ov Clarity i1 Fluor vS ColOUR h+ \n",
      "CLor M+ CuT ExcELLENt Clarity I2- PolsH Vg SymmetrY F Fluor nan shape r \n",
      " j+  loVE CuT Vg- SymmetrY GOOd CltY vS2 PolsH EX FloR n \n",
      "shp ROUNd BRillIANt Colour F CLaR SI2 Fluor StROng Polish P SyM eX CuT x \n",
      "shp mARQUiSE Clarity Vs1 SyM G CuT EX PolsH vERY GOoD Fluorescence veRysTrONgBl ColOUR m- \n",
      " cus CltY vVS2- CuT Ex SyM P Fluorescence stg PlSH P ClR T \n",
      "PolsH vG- FloR StroNGYELLOW CLor f- SpE RB SymmetrY P CLaR IF CuT x \n"
     ]
    }
   ],
   "source": [
    "for i in range(100):\n",
    "    lst = []\n",
    "    lst.append(shape_generator())\n",
    "    lst.append(color_generator())\n",
    "    lst.append(Fluorescence())\n",
    "    lst.append(clarity())\n",
    "    lst.append(cut())\n",
    "    lst.append(polish())\n",
    "    lst.append(symmetry())\n",
    "    random.shuffle(lst)\n",
    "    query=\"\"\n",
    "    for i in lst:\n",
    "        query+=i\n",
    "        query+=\" \"\n",
    "    print(query)\n"
   ]
  },
  {
   "cell_type": "code",
   "execution_count": null,
   "metadata": {},
   "outputs": [],
   "source": []
  }
 ],
 "metadata": {
  "kernelspec": {
   "display_name": "base",
   "language": "python",
   "name": "python3"
  },
  "language_info": {
   "codemirror_mode": {
    "name": "ipython",
    "version": 3
   },
   "file_extension": ".py",
   "mimetype": "text/x-python",
   "name": "python",
   "nbconvert_exporter": "python",
   "pygments_lexer": "ipython3",
   "version": "3.9.7"
  },
  "orig_nbformat": 4
 },
 "nbformat": 4,
 "nbformat_minor": 2
}

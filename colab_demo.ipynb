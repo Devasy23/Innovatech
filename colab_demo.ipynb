{
  "cells": [
    {
      "cell_type": "code",
      "execution_count": 1,
      "metadata": {
        "id": "r-308lV1J_Re"
      },
      "outputs": [],
      "source": [
        "from IPython import display\n"
      ]
    },
    {
      "cell_type": "code",
      "execution_count": 2,
      "metadata": {
        "colab": {
          "base_uri": "https://localhost:8080/",
          "height": 622
        },
        "id": "Rs5Wx7uWJ_Rh",
        "outputId": "3070fabd-6dab-4ca1-ff12-a0f5186ae0d4"
      },
      "outputs": [
        {
          "output_type": "execute_result",
          "data": {
            "text/plain": [
              "<IPython.lib.display.IFrame at 0x7fd47ccff700>"
            ],
            "text/html": [
              "\n",
              "        <iframe\n",
              "            width=\"700\"\n",
              "            height=\"600\"\n",
              "            src=\"https://bot.dialogflow.com/a2a67de8-c7ca-467e-8965-79a2c3a15b80\"\n",
              "            frameborder=\"0\"\n",
              "            allowfullscreen\n",
              "        ></iframe>\n",
              "        "
            ]
          },
          "metadata": {},
          "execution_count": 2
        }
      ],
      "source": [
        "display.IFrame(src=\"https://bot.dialogflow.com/a2a67de8-c7ca-467e-8965-79a2c3a15b80\", width=700, height=600)"
      ]
    },
    {
      "cell_type": "code",
      "execution_count": 5,
      "metadata": {
        "colab": {
          "base_uri": "https://localhost:8080/",
          "height": 489
        },
        "id": "fohmeR25J_Ri",
        "outputId": "a5bf9795-1ed7-4c59-88d4-3a92f15917d7"
      },
      "outputs": [
        {
          "output_type": "stream",
          "name": "stderr",
          "text": [
            "/usr/local/lib/python3.8/dist-packages/IPython/core/display.py:701: UserWarning: Consider using IPython.display.IFrame instead\n",
            "  warnings.warn(\"Consider using IPython.display.IFrame instead\")\n"
          ]
        },
        {
          "output_type": "execute_result",
          "data": {
            "text/plain": [
              "<IPython.core.display.HTML object>"
            ],
            "text/html": [
              "<iframe width=\"350\" height=\"430\" allow=\"microphone;\" src=\"https://console.dialogflow.com/api-client/demo/embedded/a2a67de8-c7ca-467e-8965-79a2c3a15b80\"></iframe>"
            ]
          },
          "metadata": {},
          "execution_count": 5
        }
      ],
      "source": [
        "# <iframe height=\"430\" width=\"350\" src=\"https://bot.dialogflow.com/a2a67de8-c7ca-467e-8965-79a2c3a15b80\"></iframe>\n",
        "display.HTML('<iframe width=\"350\" height=\"430\" allow=\"microphone;\" src=\"https://console.dialogflow.com/api-client/demo/embedded/a2a67de8-c7ca-467e-8965-79a2c3a15b80\"></iframe>' )"
      ]
    },
    {
      "cell_type": "code",
      "source": [
        "!pip install google-cloud-dialogflow"
      ],
      "metadata": {
        "id": "c88gwSoLNIic",
        "outputId": "cefd3cd2-0d0d-4161-b904-063d76ccede8",
        "colab": {
          "base_uri": "https://localhost:8080/",
          "height": 522
        }
      },
      "execution_count": 8,
      "outputs": [
        {
          "output_type": "stream",
          "name": "stdout",
          "text": [
            "Looking in indexes: https://pypi.org/simple, https://us-python.pkg.dev/colab-wheels/public/simple/\n",
            "Collecting google-cloud-dialogflow\n",
            "  Downloading google_cloud_dialogflow-2.20.0-py2.py3-none-any.whl (1.4 MB)\n",
            "\u001b[?25l     \u001b[90m━━━━━━━━━━━━━━━━━━━━━━━━━━━━━━━━━━━━━━━━\u001b[0m \u001b[32m0.0/1.4 MB\u001b[0m \u001b[31m?\u001b[0m eta \u001b[36m-:--:--\u001b[0m\r\u001b[2K     \u001b[90m━━━━━━━━━━━━━━━━━━━━━━━━━━━━━━━━━━━━━━━━\u001b[0m \u001b[32m1.4/1.4 MB\u001b[0m \u001b[31m53.7 MB/s\u001b[0m eta \u001b[36m0:00:00\u001b[0m\n",
            "\u001b[?25hRequirement already satisfied: proto-plus<2.0.0dev,>=1.22.0 in /usr/local/lib/python3.8/dist-packages (from google-cloud-dialogflow) (1.22.2)\n",
            "Requirement already satisfied: google-api-core[grpc]!=2.0.*,!=2.1.*,!=2.10.*,!=2.2.*,!=2.3.*,!=2.4.*,!=2.5.*,!=2.6.*,!=2.7.*,!=2.8.*,!=2.9.*,<3.0.0dev,>=1.34.0 in /usr/local/lib/python3.8/dist-packages (from google-cloud-dialogflow) (1.34.0)\n",
            "Requirement already satisfied: protobuf!=3.20.0,!=3.20.1,!=4.21.0,!=4.21.1,!=4.21.2,!=4.21.3,!=4.21.4,!=4.21.5,<5.0.0dev,>=3.19.5 in /usr/local/lib/python3.8/dist-packages (from google-cloud-dialogflow) (3.19.6)\n",
            "Requirement already satisfied: requests<3.0.0dev,>=2.18.0 in /usr/local/lib/python3.8/dist-packages (from google-api-core[grpc]!=2.0.*,!=2.1.*,!=2.10.*,!=2.2.*,!=2.3.*,!=2.4.*,!=2.5.*,!=2.6.*,!=2.7.*,!=2.8.*,!=2.9.*,<3.0.0dev,>=1.34.0->google-cloud-dialogflow) (2.25.1)\n",
            "Requirement already satisfied: google-auth<3.0dev,>=1.25.0 in /usr/local/lib/python3.8/dist-packages (from google-api-core[grpc]!=2.0.*,!=2.1.*,!=2.10.*,!=2.2.*,!=2.3.*,!=2.4.*,!=2.5.*,!=2.6.*,!=2.7.*,!=2.8.*,!=2.9.*,<3.0.0dev,>=1.34.0->google-cloud-dialogflow) (2.16.1)\n",
            "Requirement already satisfied: googleapis-common-protos<2.0dev,>=1.56.2 in /usr/local/lib/python3.8/dist-packages (from google-api-core[grpc]!=2.0.*,!=2.1.*,!=2.10.*,!=2.2.*,!=2.3.*,!=2.4.*,!=2.5.*,!=2.6.*,!=2.7.*,!=2.8.*,!=2.9.*,<3.0.0dev,>=1.34.0->google-cloud-dialogflow) (1.58.0)\n",
            "Requirement already satisfied: grpcio-status<2.0dev,>=1.33.2 in /usr/local/lib/python3.8/dist-packages (from google-api-core[grpc]!=2.0.*,!=2.1.*,!=2.10.*,!=2.2.*,!=2.3.*,!=2.4.*,!=2.5.*,!=2.6.*,!=2.7.*,!=2.8.*,!=2.9.*,<3.0.0dev,>=1.34.0->google-cloud-dialogflow) (1.48.2)\n",
            "Requirement already satisfied: grpcio<2.0dev,>=1.33.2 in /usr/local/lib/python3.8/dist-packages (from google-api-core[grpc]!=2.0.*,!=2.1.*,!=2.10.*,!=2.2.*,!=2.3.*,!=2.4.*,!=2.5.*,!=2.6.*,!=2.7.*,!=2.8.*,!=2.9.*,<3.0.0dev,>=1.34.0->google-cloud-dialogflow) (1.51.3)\n",
            "Requirement already satisfied: cachetools<6.0,>=2.0.0 in /usr/local/lib/python3.8/dist-packages (from google-auth<3.0dev,>=1.25.0->google-api-core[grpc]!=2.0.*,!=2.1.*,!=2.10.*,!=2.2.*,!=2.3.*,!=2.4.*,!=2.5.*,!=2.6.*,!=2.7.*,!=2.8.*,!=2.9.*,<3.0.0dev,>=1.34.0->google-cloud-dialogflow) (5.3.0)\n",
            "Requirement already satisfied: rsa<5,>=3.1.4 in /usr/local/lib/python3.8/dist-packages (from google-auth<3.0dev,>=1.25.0->google-api-core[grpc]!=2.0.*,!=2.1.*,!=2.10.*,!=2.2.*,!=2.3.*,!=2.4.*,!=2.5.*,!=2.6.*,!=2.7.*,!=2.8.*,!=2.9.*,<3.0.0dev,>=1.34.0->google-cloud-dialogflow) (4.9)\n",
            "Requirement already satisfied: pyasn1-modules>=0.2.1 in /usr/local/lib/python3.8/dist-packages (from google-auth<3.0dev,>=1.25.0->google-api-core[grpc]!=2.0.*,!=2.1.*,!=2.10.*,!=2.2.*,!=2.3.*,!=2.4.*,!=2.5.*,!=2.6.*,!=2.7.*,!=2.8.*,!=2.9.*,<3.0.0dev,>=1.34.0->google-cloud-dialogflow) (0.2.8)\n",
            "Requirement already satisfied: six>=1.9.0 in /usr/local/lib/python3.8/dist-packages (from google-auth<3.0dev,>=1.25.0->google-api-core[grpc]!=2.0.*,!=2.1.*,!=2.10.*,!=2.2.*,!=2.3.*,!=2.4.*,!=2.5.*,!=2.6.*,!=2.7.*,!=2.8.*,!=2.9.*,<3.0.0dev,>=1.34.0->google-cloud-dialogflow) (1.15.0)\n",
            "Requirement already satisfied: chardet<5,>=3.0.2 in /usr/local/lib/python3.8/dist-packages (from requests<3.0.0dev,>=2.18.0->google-api-core[grpc]!=2.0.*,!=2.1.*,!=2.10.*,!=2.2.*,!=2.3.*,!=2.4.*,!=2.5.*,!=2.6.*,!=2.7.*,!=2.8.*,!=2.9.*,<3.0.0dev,>=1.34.0->google-cloud-dialogflow) (4.0.0)\n",
            "Requirement already satisfied: urllib3<1.27,>=1.21.1 in /usr/local/lib/python3.8/dist-packages (from requests<3.0.0dev,>=2.18.0->google-api-core[grpc]!=2.0.*,!=2.1.*,!=2.10.*,!=2.2.*,!=2.3.*,!=2.4.*,!=2.5.*,!=2.6.*,!=2.7.*,!=2.8.*,!=2.9.*,<3.0.0dev,>=1.34.0->google-cloud-dialogflow) (1.26.14)\n",
            "Requirement already satisfied: certifi>=2017.4.17 in /usr/local/lib/python3.8/dist-packages (from requests<3.0.0dev,>=2.18.0->google-api-core[grpc]!=2.0.*,!=2.1.*,!=2.10.*,!=2.2.*,!=2.3.*,!=2.4.*,!=2.5.*,!=2.6.*,!=2.7.*,!=2.8.*,!=2.9.*,<3.0.0dev,>=1.34.0->google-cloud-dialogflow) (2022.12.7)\n",
            "Requirement already satisfied: idna<3,>=2.5 in /usr/local/lib/python3.8/dist-packages (from requests<3.0.0dev,>=2.18.0->google-api-core[grpc]!=2.0.*,!=2.1.*,!=2.10.*,!=2.2.*,!=2.3.*,!=2.4.*,!=2.5.*,!=2.6.*,!=2.7.*,!=2.8.*,!=2.9.*,<3.0.0dev,>=1.34.0->google-cloud-dialogflow) (2.10)\n",
            "Requirement already satisfied: pyasn1<0.5.0,>=0.4.6 in /usr/local/lib/python3.8/dist-packages (from pyasn1-modules>=0.2.1->google-auth<3.0dev,>=1.25.0->google-api-core[grpc]!=2.0.*,!=2.1.*,!=2.10.*,!=2.2.*,!=2.3.*,!=2.4.*,!=2.5.*,!=2.6.*,!=2.7.*,!=2.8.*,!=2.9.*,<3.0.0dev,>=1.34.0->google-cloud-dialogflow) (0.4.8)\n",
            "Installing collected packages: google-cloud-dialogflow\n",
            "Successfully installed google-cloud-dialogflow-2.20.0\n"
          ]
        },
        {
          "output_type": "display_data",
          "data": {
            "application/vnd.colab-display-data+json": {
              "pip_warning": {
                "packages": [
                  "google"
                ]
              }
            }
          },
          "metadata": {}
        }
      ]
    },
    {
      "cell_type": "code",
      "source": [
        "!pip install google-api-python-client"
      ],
      "metadata": {
        "id": "KrzSNDFpfXA9",
        "outputId": "8987d017-c3fb-4b24-8e43-8d4b93b4599e",
        "colab": {
          "base_uri": "https://localhost:8080/"
        }
      },
      "execution_count": 13,
      "outputs": [
        {
          "output_type": "stream",
          "name": "stdout",
          "text": [
            "Looking in indexes: https://pypi.org/simple, https://us-python.pkg.dev/colab-wheels/public/simple/\n",
            "Requirement already satisfied: google-api-python-client in /usr/local/lib/python3.8/dist-packages (2.70.0)\n",
            "Requirement already satisfied: google-auth<3.0.0dev,>=1.19.0 in /usr/local/lib/python3.8/dist-packages (from google-api-python-client) (2.16.1)\n",
            "Requirement already satisfied: uritemplate<5,>=3.0.1 in /usr/local/lib/python3.8/dist-packages (from google-api-python-client) (4.1.1)\n",
            "Requirement already satisfied: google-auth-httplib2>=0.1.0 in /usr/local/lib/python3.8/dist-packages (from google-api-python-client) (0.1.0)\n",
            "Requirement already satisfied: google-api-core!=2.0.*,!=2.1.*,!=2.2.*,!=2.3.0,<3.0.0dev,>=1.31.5 in /usr/local/lib/python3.8/dist-packages (from google-api-python-client) (1.34.0)\n",
            "Requirement already satisfied: httplib2<1dev,>=0.15.0 in /usr/local/lib/python3.8/dist-packages (from google-api-python-client) (0.17.4)\n",
            "Requirement already satisfied: googleapis-common-protos<2.0dev,>=1.56.2 in /usr/local/lib/python3.8/dist-packages (from google-api-core!=2.0.*,!=2.1.*,!=2.2.*,!=2.3.0,<3.0.0dev,>=1.31.5->google-api-python-client) (1.58.0)\n",
            "Requirement already satisfied: protobuf!=3.20.0,!=3.20.1,!=4.21.0,!=4.21.1,!=4.21.2,!=4.21.3,!=4.21.4,!=4.21.5,<4.0.0dev,>=3.19.5 in /usr/local/lib/python3.8/dist-packages (from google-api-core!=2.0.*,!=2.1.*,!=2.2.*,!=2.3.0,<3.0.0dev,>=1.31.5->google-api-python-client) (3.19.6)\n",
            "Requirement already satisfied: requests<3.0.0dev,>=2.18.0 in /usr/local/lib/python3.8/dist-packages (from google-api-core!=2.0.*,!=2.1.*,!=2.2.*,!=2.3.0,<3.0.0dev,>=1.31.5->google-api-python-client) (2.25.1)\n",
            "Requirement already satisfied: six>=1.9.0 in /usr/local/lib/python3.8/dist-packages (from google-auth<3.0.0dev,>=1.19.0->google-api-python-client) (1.15.0)\n",
            "Requirement already satisfied: pyasn1-modules>=0.2.1 in /usr/local/lib/python3.8/dist-packages (from google-auth<3.0.0dev,>=1.19.0->google-api-python-client) (0.2.8)\n",
            "Requirement already satisfied: rsa<5,>=3.1.4 in /usr/local/lib/python3.8/dist-packages (from google-auth<3.0.0dev,>=1.19.0->google-api-python-client) (4.9)\n",
            "Requirement already satisfied: cachetools<6.0,>=2.0.0 in /usr/local/lib/python3.8/dist-packages (from google-auth<3.0.0dev,>=1.19.0->google-api-python-client) (5.3.0)\n",
            "Requirement already satisfied: pyasn1<0.5.0,>=0.4.6 in /usr/local/lib/python3.8/dist-packages (from pyasn1-modules>=0.2.1->google-auth<3.0.0dev,>=1.19.0->google-api-python-client) (0.4.8)\n",
            "Requirement already satisfied: urllib3<1.27,>=1.21.1 in /usr/local/lib/python3.8/dist-packages (from requests<3.0.0dev,>=2.18.0->google-api-core!=2.0.*,!=2.1.*,!=2.2.*,!=2.3.0,<3.0.0dev,>=1.31.5->google-api-python-client) (1.26.14)\n",
            "Requirement already satisfied: idna<3,>=2.5 in /usr/local/lib/python3.8/dist-packages (from requests<3.0.0dev,>=2.18.0->google-api-core!=2.0.*,!=2.1.*,!=2.2.*,!=2.3.0,<3.0.0dev,>=1.31.5->google-api-python-client) (2.10)\n",
            "Requirement already satisfied: certifi>=2017.4.17 in /usr/local/lib/python3.8/dist-packages (from requests<3.0.0dev,>=2.18.0->google-api-core!=2.0.*,!=2.1.*,!=2.2.*,!=2.3.0,<3.0.0dev,>=1.31.5->google-api-python-client) (2022.12.7)\n",
            "Requirement already satisfied: chardet<5,>=3.0.2 in /usr/local/lib/python3.8/dist-packages (from requests<3.0.0dev,>=2.18.0->google-api-core!=2.0.*,!=2.1.*,!=2.2.*,!=2.3.0,<3.0.0dev,>=1.31.5->google-api-python-client) (4.0.0)\n"
          ]
        }
      ]
    },
    {
      "cell_type": "code",
      "source": [
        "# Import necessary libraries\n",
        "import os\n",
        "from google.cloud import dialogflow\n",
        "from google.protobuf.json_format import MessageToDict\n",
        "from google.cloud.dialogflow import DetectIntentResponse\n",
        "\n",
        "# Set the environment variable for authentication\n",
        "os.environ[\"GOOGLE_APPLICATION_CREDENTIALS\"] = \"/content/d-3601-exrp-53f67a9b495c.json\"\n",
        "\n",
        "# Set up the Dialogflow client\n",
        "project_id = \"d-3601-exrp\"\n",
        "session_id = \"y123\"\n",
        "language_code = \"en\"\n",
        "session_client = dialogflow.SessionsClient()\n",
        "session_path = session_client.session_path(project_id, session_id)\n",
        "\n",
        "# Define a function for generating the chatbot's response\n",
        "def generate_response(query):\n",
        "  # Add your chatbot's response generation code here\n",
        "  response = \"This is a response to your query: \" + query\n",
        "  return response\n",
        "\n",
        "# Prompt the user to enter their query\n",
        "user_query = input(\"Enter your query: \")\n",
        "\n",
        "# Define the user's query\n",
        "text_input = dialogflow.TextInput(text=user_query, language_code=language_code)\n",
        "query_input = dialogflow.QueryInput(text=text_input)\n",
        "\n",
        "# Send the user's query to Dialogflow and retrieve the response\n",
        "response = session_client.detect_intent(session=session_path, query_input=query_input)\n",
        "print(response)\n",
        "# assume that response_proto is a protobuf message of type DetectIntentResponse\n",
        "response = DetectIntentResponse()\n",
        "\n",
        "response = session_client.detect_intent(session=session_path, query_input=query_input)\n",
        "\n",
        "# Extract the relevant fields from the response and store them in a dictionary\n",
        "# response_dict = {\n",
        "#     'response_id': response.response_id,\n",
        "#     'query_text': response.query_result.query_text,\n",
        "#     'fulfillment_text': response.query_result.fulfillment_text,\n",
        "#     'intent': response.query_result.intent.display_name,\n",
        "#     'intent_confidence': response.query_result.intent_detection_confidence,\n",
        "#     'parameters': {\n",
        "#         'carat': response.query_result.parameters.fields['carat'].number_value,\n",
        "#         'ct_min': response.query_result.parameters.fields['ct_min'].string_value,\n",
        "#         'ct_max': response.query_result.parameters.fields['ct_max'].string_value,\n",
        "#         'diamond_clarity': response.query_result.parameters.fields['diamond_clarity'].list_value.values[0].string_value,\n",
        "#         'diamond_color': response.query_result.parameters.fields['diamond_color'].list_value.values[0].string_value,\n",
        "#         'diamond_cut': response.query_result.parameters.fields['diamond_cut'].string_value,\n",
        "#         'diamond_shape': response.query_result.parameters.fields['diamond_shape'].list_value.values[0].string_value,\n",
        "#         'diamond_polish': response.query_result.parameters.fields['diamond_polish'].string_value,\n",
        "#         'diamond_symmetry': response.query_result.parameters.fields['diamond_symmetry'].string_value,\n",
        "#         'number-integer': response.query_result.parameters.fields['number-integer'].string_value\n",
        "#     }\n",
        "# }\n",
        "\n",
        "# Print the dictionary to verify the conversion\n",
        "print(response_dict)\n",
        "\n",
        "\n",
        "# response_dict = {\n",
        "#     'response_id': response.response_id,\n",
        "#     'query_result' : response.query_result,\n",
        "#     'query_text': response.query_result.query_text,\n",
        "#     'intent': response.query_result.intent.display_name,\n",
        "#     'confidence': response.query_result.intent_detection_confidence,\n",
        "#     'fulfillment_text': response.query_result.fulfillment_text\n",
        "# }\n",
        "\n",
        "# # Print the dictionary to verify the conversion\n",
        "# print(response_dict)\n",
        "# print(response.diagnostic_info)\n",
        "\n",
        "# response.ParseFromString(response_proto.SerializeToString())\n",
        "\n",
        "# now call MessageToDict on the response object\n",
        "# response_dict = MessageToDict(response)\n",
        "# print(response.)\n",
        "# response_dict = MessageToDict(response)\n",
        "# Extract the user's query from the response\n",
        "# query = MessageToJson(response.query_result.query_text)\n",
        "\n",
        "# # Generate the chatbot's response using the extracted query\n",
        "# bot_response = generate_response(query)\n",
        "\n",
        "# # Print the chatbot's response\n",
        "# print(bot_response)\n"
      ],
      "metadata": {
        "id": "U6WhJ23pMG1U",
        "outputId": "0ff21cb7-48c5-43df-eb7c-4d5e4a64635d",
        "colab": {
          "base_uri": "https://localhost:8080/"
        }
      },
      "execution_count": 20,
      "outputs": [
        {
          "output_type": "stream",
          "name": "stdout",
          "text": [
            "Enter your query: Can you show me a CU diamond, weighing 0.5 with VVS1 clarity, D color, and VG cut?\n",
            "response_id: \"4c85691e-5999-402c-9e97-4bba27e59549-18dedd3b\"\n",
            "query_result {\n",
            "  query_text: \"Can you show me a CU diamond, weighing 0.5 with VVS1 clarity, D color, and VG cut?\"\n",
            "  parameters {\n",
            "    fields {\n",
            "      key: \"carat\"\n",
            "      value {\n",
            "        number_value: 0.5\n",
            "      }\n",
            "    }\n",
            "    fields {\n",
            "      key: \"ct_max\"\n",
            "      value {\n",
            "        string_value: \"10.5\"\n",
            "      }\n",
            "    }\n",
            "    fields {\n",
            "      key: \"ct_min\"\n",
            "      value {\n",
            "        string_value: \"-1\"\n",
            "      }\n",
            "    }\n",
            "    fields {\n",
            "      key: \"diamond_clarity\"\n",
            "      value {\n",
            "        list_value {\n",
            "          values {\n",
            "            string_value: \"VVS1\"\n",
            "          }\n",
            "        }\n",
            "      }\n",
            "    }\n",
            "    fields {\n",
            "      key: \"diamond_color\"\n",
            "      value {\n",
            "        list_value {\n",
            "          values {\n",
            "            string_value: \"D\"\n",
            "          }\n",
            "        }\n",
            "      }\n",
            "    }\n",
            "    fields {\n",
            "      key: \"diamond_cut\"\n",
            "      value {\n",
            "        string_value: \"VG\"\n",
            "      }\n",
            "    }\n",
            "    fields {\n",
            "      key: \"diamond_polish\"\n",
            "      value {\n",
            "        string_value: \"\"\n",
            "      }\n",
            "    }\n",
            "    fields {\n",
            "      key: \"diamond_shape\"\n",
            "      value {\n",
            "        list_value {\n",
            "          values {\n",
            "            string_value: \"CU\"\n",
            "          }\n",
            "        }\n",
            "      }\n",
            "    }\n",
            "    fields {\n",
            "      key: \"diamond_symmetry\"\n",
            "      value {\n",
            "        string_value: \"\"\n",
            "      }\n",
            "    }\n",
            "    fields {\n",
            "      key: \"number-integer\"\n",
            "      value {\n",
            "        string_value: \"\"\n",
            "      }\n",
            "    }\n",
            "  }\n",
            "  all_required_params_present: true\n",
            "  fulfillment_text: \"Sure! CU shaped diamonds with D colour, VG cut and VVS1 clarity, of 0.5 carat.\"\n",
            "  fulfillment_messages {\n",
            "    text {\n",
            "      text: \"Sure! CU shaped diamonds with D colour, VG cut and VVS1 clarity, of 0.5 carat.\"\n",
            "    }\n",
            "  }\n",
            "  intent {\n",
            "    name: \"projects/d-3601-exrp/agent/intents/23942633-8b41-4336-9b74-c5a51bdc6b59\"\n",
            "    display_name: \"diamond-identifier\"\n",
            "  }\n",
            "  intent_detection_confidence: 0.7745579481124878\n",
            "  language_code: \"en\"\n",
            "}\n",
            "\n",
            "{'response_id': '', 'query_result': , 'query_text': '', 'intent': '', 'confidence': 0.0, 'fulfillment_text': ''}\n"
          ]
        }
      ]
    },
    {
      "cell_type": "code",
      "source": [
        "dicti = response\n",
        "print(type(dicti))"
      ],
      "metadata": {
        "id": "2q0AKnALNrZU",
        "outputId": "b14825d7-e1c8-4b86-f9a6-7ecb25768f38",
        "colab": {
          "base_uri": "https://localhost:8080/"
        }
      },
      "execution_count": 29,
      "outputs": [
        {
          "output_type": "stream",
          "name": "stdout",
          "text": [
            "<class 'google.cloud.dialogflow_v2.types.session.DetectIntentResponse'>\n"
          ]
        }
      ]
    },
    {
      "cell_type": "code",
      "source": [
        "import google.protobuf  as pf\n",
        "\n",
        "pf.json_format.MessageToJson(response)"
      ],
      "metadata": {
        "id": "c9C0-yL0jiIg",
        "outputId": "baf8c0a8-c40f-4418-837c-075c27d488ea",
        "colab": {
          "base_uri": "https://localhost:8080/",
          "height": 727
        }
      },
      "execution_count": 34,
      "outputs": [
        {
          "output_type": "error",
          "ename": "AttributeError",
          "evalue": "ignored",
          "traceback": [
            "\u001b[0;31m---------------------------------------------------------------------------\u001b[0m",
            "\u001b[0;31mAttributeError\u001b[0m                            Traceback (most recent call last)",
            "\u001b[0;32m<ipython-input-34-3d8bd9a5f5dc>\u001b[0m in \u001b[0;36m<module>\u001b[0;34m\u001b[0m\n\u001b[1;32m      1\u001b[0m \u001b[0;32mimport\u001b[0m \u001b[0mgoogle\u001b[0m\u001b[0;34m.\u001b[0m\u001b[0mprotobuf\u001b[0m  \u001b[0;32mas\u001b[0m \u001b[0mpf\u001b[0m\u001b[0;34m\u001b[0m\u001b[0;34m\u001b[0m\u001b[0m\n\u001b[1;32m      2\u001b[0m \u001b[0;34m\u001b[0m\u001b[0m\n\u001b[0;32m----> 3\u001b[0;31m \u001b[0mpf\u001b[0m\u001b[0;34m.\u001b[0m\u001b[0mjson_format\u001b[0m\u001b[0;34m.\u001b[0m\u001b[0mMessageToJson\u001b[0m\u001b[0;34m(\u001b[0m\u001b[0mresponse\u001b[0m\u001b[0;34m)\u001b[0m\u001b[0;34m\u001b[0m\u001b[0;34m\u001b[0m\u001b[0m\n\u001b[0m",
            "\u001b[0;32m/usr/local/lib/python3.8/dist-packages/google/protobuf/json_format.py\u001b[0m in \u001b[0;36mMessageToJson\u001b[0;34m(message, including_default_value_fields, preserving_proto_field_name, indent, sort_keys, use_integers_for_enums, descriptor_pool, float_precision)\u001b[0m\n\u001b[1;32m    125\u001b[0m       \u001b[0mdescriptor_pool\u001b[0m\u001b[0;34m,\u001b[0m\u001b[0;34m\u001b[0m\u001b[0;34m\u001b[0m\u001b[0m\n\u001b[1;32m    126\u001b[0m       float_precision=float_precision)\n\u001b[0;32m--> 127\u001b[0;31m   \u001b[0;32mreturn\u001b[0m \u001b[0mprinter\u001b[0m\u001b[0;34m.\u001b[0m\u001b[0mToJsonString\u001b[0m\u001b[0;34m(\u001b[0m\u001b[0mmessage\u001b[0m\u001b[0;34m,\u001b[0m \u001b[0mindent\u001b[0m\u001b[0;34m,\u001b[0m \u001b[0msort_keys\u001b[0m\u001b[0;34m)\u001b[0m\u001b[0;34m\u001b[0m\u001b[0;34m\u001b[0m\u001b[0m\n\u001b[0m\u001b[1;32m    128\u001b[0m \u001b[0;34m\u001b[0m\u001b[0m\n\u001b[1;32m    129\u001b[0m \u001b[0;34m\u001b[0m\u001b[0m\n",
            "\u001b[0;32m/usr/local/lib/python3.8/dist-packages/google/protobuf/json_format.py\u001b[0m in \u001b[0;36mToJsonString\u001b[0;34m(self, message, indent, sort_keys)\u001b[0m\n\u001b[1;32m    192\u001b[0m \u001b[0;34m\u001b[0m\u001b[0m\n\u001b[1;32m    193\u001b[0m   \u001b[0;32mdef\u001b[0m \u001b[0mToJsonString\u001b[0m\u001b[0;34m(\u001b[0m\u001b[0mself\u001b[0m\u001b[0;34m,\u001b[0m \u001b[0mmessage\u001b[0m\u001b[0;34m,\u001b[0m \u001b[0mindent\u001b[0m\u001b[0;34m,\u001b[0m \u001b[0msort_keys\u001b[0m\u001b[0;34m)\u001b[0m\u001b[0;34m:\u001b[0m\u001b[0;34m\u001b[0m\u001b[0;34m\u001b[0m\u001b[0m\n\u001b[0;32m--> 194\u001b[0;31m     \u001b[0mjs\u001b[0m \u001b[0;34m=\u001b[0m \u001b[0mself\u001b[0m\u001b[0;34m.\u001b[0m\u001b[0m_MessageToJsonObject\u001b[0m\u001b[0;34m(\u001b[0m\u001b[0mmessage\u001b[0m\u001b[0;34m)\u001b[0m\u001b[0;34m\u001b[0m\u001b[0;34m\u001b[0m\u001b[0m\n\u001b[0m\u001b[1;32m    195\u001b[0m     \u001b[0;32mreturn\u001b[0m \u001b[0mjson\u001b[0m\u001b[0;34m.\u001b[0m\u001b[0mdumps\u001b[0m\u001b[0;34m(\u001b[0m\u001b[0mjs\u001b[0m\u001b[0;34m,\u001b[0m \u001b[0mindent\u001b[0m\u001b[0;34m=\u001b[0m\u001b[0mindent\u001b[0m\u001b[0;34m,\u001b[0m \u001b[0msort_keys\u001b[0m\u001b[0;34m=\u001b[0m\u001b[0msort_keys\u001b[0m\u001b[0;34m)\u001b[0m\u001b[0;34m\u001b[0m\u001b[0;34m\u001b[0m\u001b[0m\n\u001b[1;32m    196\u001b[0m \u001b[0;34m\u001b[0m\u001b[0m\n",
            "\u001b[0;32m/usr/local/lib/python3.8/dist-packages/google/protobuf/json_format.py\u001b[0m in \u001b[0;36m_MessageToJsonObject\u001b[0;34m(self, message)\u001b[0m\n\u001b[1;32m    197\u001b[0m   \u001b[0;32mdef\u001b[0m \u001b[0m_MessageToJsonObject\u001b[0m\u001b[0;34m(\u001b[0m\u001b[0mself\u001b[0m\u001b[0;34m,\u001b[0m \u001b[0mmessage\u001b[0m\u001b[0;34m)\u001b[0m\u001b[0;34m:\u001b[0m\u001b[0;34m\u001b[0m\u001b[0;34m\u001b[0m\u001b[0m\n\u001b[1;32m    198\u001b[0m     \u001b[0;34m\"\"\"Converts message to an object according to Proto3 JSON Specification.\"\"\"\u001b[0m\u001b[0;34m\u001b[0m\u001b[0;34m\u001b[0m\u001b[0m\n\u001b[0;32m--> 199\u001b[0;31m     \u001b[0mmessage_descriptor\u001b[0m \u001b[0;34m=\u001b[0m \u001b[0mmessage\u001b[0m\u001b[0;34m.\u001b[0m\u001b[0mDESCRIPTOR\u001b[0m\u001b[0;34m\u001b[0m\u001b[0;34m\u001b[0m\u001b[0m\n\u001b[0m\u001b[1;32m    200\u001b[0m     \u001b[0mfull_name\u001b[0m \u001b[0;34m=\u001b[0m \u001b[0mmessage_descriptor\u001b[0m\u001b[0;34m.\u001b[0m\u001b[0mfull_name\u001b[0m\u001b[0;34m\u001b[0m\u001b[0;34m\u001b[0m\u001b[0m\n\u001b[1;32m    201\u001b[0m     \u001b[0;32mif\u001b[0m \u001b[0m_IsWrapperMessage\u001b[0m\u001b[0;34m(\u001b[0m\u001b[0mmessage_descriptor\u001b[0m\u001b[0;34m)\u001b[0m\u001b[0;34m:\u001b[0m\u001b[0;34m\u001b[0m\u001b[0;34m\u001b[0m\u001b[0m\n",
            "\u001b[0;32m/usr/local/lib/python3.8/dist-packages/proto/message.py\u001b[0m in \u001b[0;36m__getattr__\u001b[0;34m(self, key)\u001b[0m\n\u001b[1;32m    745\u001b[0m         \u001b[0;34m(\u001b[0m\u001b[0mkey\u001b[0m\u001b[0;34m,\u001b[0m \u001b[0mpb_type\u001b[0m\u001b[0;34m)\u001b[0m \u001b[0;34m=\u001b[0m \u001b[0mself\u001b[0m\u001b[0;34m.\u001b[0m\u001b[0m_get_pb_type_from_key\u001b[0m\u001b[0;34m(\u001b[0m\u001b[0mkey\u001b[0m\u001b[0;34m)\u001b[0m\u001b[0;34m\u001b[0m\u001b[0;34m\u001b[0m\u001b[0m\n\u001b[1;32m    746\u001b[0m         \u001b[0;32mif\u001b[0m \u001b[0mpb_type\u001b[0m \u001b[0;32mis\u001b[0m \u001b[0;32mNone\u001b[0m\u001b[0;34m:\u001b[0m\u001b[0;34m\u001b[0m\u001b[0;34m\u001b[0m\u001b[0m\n\u001b[0;32m--> 747\u001b[0;31m             raise AttributeError(\n\u001b[0m\u001b[1;32m    748\u001b[0m                 \u001b[0;34m\"Unknown field for {}: {}\"\u001b[0m\u001b[0;34m.\u001b[0m\u001b[0mformat\u001b[0m\u001b[0;34m(\u001b[0m\u001b[0mself\u001b[0m\u001b[0;34m.\u001b[0m\u001b[0m__class__\u001b[0m\u001b[0;34m.\u001b[0m\u001b[0m__name__\u001b[0m\u001b[0;34m,\u001b[0m \u001b[0mkey\u001b[0m\u001b[0;34m)\u001b[0m\u001b[0;34m\u001b[0m\u001b[0;34m\u001b[0m\u001b[0m\n\u001b[1;32m    749\u001b[0m             )\n",
            "\u001b[0;31mAttributeError\u001b[0m: Unknown field for DetectIntentResponse: DESCRIPTOR"
          ]
        }
      ]
    },
    {
      "cell_type": "code",
      "source": [
        "json_response = MessageToJson(response._pb)\n",
        "json_response"
      ],
      "metadata": {
        "id": "dtSrx_iqkJLt",
        "outputId": "6fe9bd37-9326-4145-d581-2cb67c6b382f",
        "colab": {
          "base_uri": "https://localhost:8080/",
          "height": 140
        }
      },
      "execution_count": 43,
      "outputs": [
        {
          "output_type": "execute_result",
          "data": {
            "text/plain": [
              "'{\\n  \"responseId\": \"f9a6771f-3bb4-4cbc-ab2f-ebfaba1d0c3b-18dedd3b\",\\n  \"queryResult\": {\\n    \"queryText\": \"Can you show me a CU diamond, weighing 0.5 with VVS1 clarity, D color, and VG cut?\",\\n    \"parameters\": {\\n      \"number-integer\": \"\",\\n      \"ct_min\": \"-1\",\\n      \"diamond_shape\": [\\n        \"CU\"\\n      ],\\n      \"ct_max\": \"10.5\",\\n      \"carat\": 0.5,\\n      \"diamond_cut\": \"VG\",\\n      \"diamond_clarity\": [\\n        \"VVS1\"\\n      ],\\n      \"diamond_polish\": \"\",\\n      \"diamond_color\": [\\n        \"D\"\\n      ],\\n      \"diamond_symmetry\": \"\"\\n    },\\n    \"allRequiredParamsPresent\": true,\\n    \"fulfillmentText\": \"Sure! CU shaped diamonds with D colour, VG cut and VVS1 clarity, of 0.5 carat.\",\\n    \"fulfillmentMessages\": [\\n      {\\n        \"text\": {\\n          \"text\": [\\n            \"Sure! CU shaped diamonds with D colour, VG cut and VVS1 clarity, of 0.5 carat.\"\\n          ]\\n        }\\n      }\\n    ],\\n    \"intent\": {\\n      \"name\": \"projects/d-3601-exrp/agent/intents/23942633-8b41-4336-9b74-c5a51bdc6b59\",\\n      \"displayName\": \"diamond-identifier\"\\n    },\\n    \"intentDetectionConfidence\": 0.77455795,\\n    \"languageCode\": \"en\"\\n  }\\n}'"
            ],
            "application/vnd.google.colaboratory.intrinsic+json": {
              "type": "string"
            }
          },
          "metadata": {},
          "execution_count": 43
        }
      ]
    },
    {
      "cell_type": "code",
      "source": [
        "print(type(json_response))\n",
        "print(response.query_result.query_text)\n",
        "print(response.query_result.intent.display_name)\n",
        "params = response.query_result.parameters"
      ],
      "metadata": {
        "id": "ghJebtLRkOxy",
        "outputId": "5eecdccb-fb1a-49d5-c9f3-0c41bca263c1",
        "colab": {
          "base_uri": "https://localhost:8080/"
        }
      },
      "execution_count": 48,
      "outputs": [
        {
          "output_type": "stream",
          "name": "stdout",
          "text": [
            "<class 'str'>\n",
            "Can you show me a CU diamond, weighing 0.5 with VVS1 clarity, D color, and VG cut?\n",
            "diamond-identifier\n"
          ]
        }
      ]
    },
    {
      "cell_type": "code",
      "source": [
        "for i in params:\n",
        "  print(f'{i} {params[i]}')"
      ],
      "metadata": {
        "id": "Q9PMM8kmkYrI",
        "outputId": "eae4efae-76eb-4a3c-be5c-6c0c85c39926",
        "colab": {
          "base_uri": "https://localhost:8080/"
        }
      },
      "execution_count": 55,
      "outputs": [
        {
          "output_type": "stream",
          "name": "stdout",
          "text": [
            "number-integer \n",
            "ct_min -1\n",
            "diamond_shape ['CU']\n",
            "ct_max 10.5\n",
            "carat 0.5\n",
            "diamond_cut VG\n",
            "diamond_clarity ['VVS1']\n",
            "diamond_polish \n",
            "diamond_color ['D']\n",
            "diamond_symmetry \n"
          ]
        }
      ]
    }
  ],
  "metadata": {
    "kernelspec": {
      "display_name": "Python 3",
      "language": "python",
      "name": "python3"
    },
    "language_info": {
      "codemirror_mode": {
        "name": "ipython",
        "version": 3
      },
      "file_extension": ".py",
      "mimetype": "text/x-python",
      "name": "python",
      "nbconvert_exporter": "python",
      "pygments_lexer": "ipython3",
      "version": "3.10.5"
    },
    "orig_nbformat": 4,
    "colab": {
      "provenance": []
    }
  },
  "nbformat": 4,
  "nbformat_minor": 0
}
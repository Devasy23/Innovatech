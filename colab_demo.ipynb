{
 "cells": [
  {
   "cell_type": "code",
   "execution_count": 1,
   "metadata": {},
   "outputs": [],
   "source": [
    "from IPython import display\n"
   ]
  },
  {
   "cell_type": "code",
   "execution_count": 5,
   "metadata": {},
   "outputs": [
    {
     "data": {
      "text/html": [
       "\n",
       "        <iframe\n",
       "            width=\"700\"\n",
       "            height=\"600\"\n",
       "            src=\"https://bot.dialogflow.com/a2a67de8-c7ca-467e-8965-79a2c3a15b80\"\n",
       "            frameborder=\"0\"\n",
       "            allowfullscreen\n",
       "            \n",
       "        ></iframe>\n",
       "        "
      ],
      "text/plain": [
       "<IPython.lib.display.IFrame at 0x19ef3023010>"
      ]
     },
     "execution_count": 5,
     "metadata": {},
     "output_type": "execute_result"
    }
   ],
   "source": [
    "display.IFrame(src=\"https://bot.dialogflow.com/a2a67de8-c7ca-467e-8965-79a2c3a15b80\", width=700, height=600)"
   ]
  },
  {
   "cell_type": "code",
   "execution_count": 9,
   "metadata": {},
   "outputs": [
    {
     "ename": "TypeError",
     "evalue": "HTML.__init__() got an unexpected keyword argument 'width'",
     "output_type": "error",
     "traceback": [
      "\u001b[1;31m---------------------------------------------------------------------------\u001b[0m",
      "\u001b[1;31mTypeError\u001b[0m                                 Traceback (most recent call last)",
      "\u001b[1;32mc:\\Users\\Owner\\Documents\\GitHub\\Innovatech\\colab_demo.ipynb Cell 3\u001b[0m in \u001b[0;36m<cell line: 2>\u001b[1;34m()\u001b[0m\n\u001b[0;32m      <a href='vscode-notebook-cell:/c%3A/Users/Owner/Documents/GitHub/Innovatech/colab_demo.ipynb#W2sZmlsZQ%3D%3D?line=0'>1</a>\u001b[0m \u001b[39m# <iframe height=\"430\" width=\"350\" src=\"https://bot.dialogflow.com/a2a67de8-c7ca-467e-8965-79a2c3a15b80\"></iframe>\u001b[39;00m\n\u001b[1;32m----> <a href='vscode-notebook-cell:/c%3A/Users/Owner/Documents/GitHub/Innovatech/colab_demo.ipynb#W2sZmlsZQ%3D%3D?line=1'>2</a>\u001b[0m display\u001b[39m.\u001b[39;49mHTML(\u001b[39m'\u001b[39;49m\u001b[39m<iframe width=\u001b[39;49m\u001b[39m\"\u001b[39;49m\u001b[39m350\u001b[39;49m\u001b[39m\"\u001b[39;49m\u001b[39m height=\u001b[39;49m\u001b[39m\"\u001b[39;49m\u001b[39m430\u001b[39;49m\u001b[39m\"\u001b[39;49m\u001b[39m allow=\u001b[39;49m\u001b[39m\"\u001b[39;49m\u001b[39mmicrophone;\u001b[39;49m\u001b[39m\"\u001b[39;49m\u001b[39m src=\u001b[39;49m\u001b[39m\"\u001b[39;49m\u001b[39mhttps://console.dialogflow.com/api-client/demo/embedded/a2a67de8-c7ca-467e-8965-79a2c3a15b80\u001b[39;49m\u001b[39m\"\u001b[39;49m\u001b[39m></iframe>\u001b[39;49m\u001b[39m'\u001b[39;49m ,  width\u001b[39m=\u001b[39;49m\u001b[39m700\u001b[39;49m, height\u001b[39m=\u001b[39;49m\u001b[39m600\u001b[39;49m)\n",
      "\u001b[1;31mTypeError\u001b[0m: HTML.__init__() got an unexpected keyword argument 'width'"
     ]
    }
   ],
   "source": [
    "# <iframe height=\"430\" width=\"350\" src=\"https://bot.dialogflow.com/a2a67de8-c7ca-467e-8965-79a2c3a15b80\"></iframe>\n",
    "display.HTML('<iframe width=\"350\" height=\"430\" allow=\"microphone;\" src=\"https://console.dialogflow.com/api-client/demo/embedded/a2a67de8-c7ca-467e-8965-79a2c3a15b80\"></iframe>' ,  width=700, height=600)"
   ]
  }
 ],
 "metadata": {
  "kernelspec": {
   "display_name": "Python 3",
   "language": "python",
   "name": "python3"
  },
  "language_info": {
   "codemirror_mode": {
    "name": "ipython",
    "version": 3
   },
   "file_extension": ".py",
   "mimetype": "text/x-python",
   "name": "python",
   "nbconvert_exporter": "python",
   "pygments_lexer": "ipython3",
   "version": "3.10.5"
  },
  "orig_nbformat": 4
 },
 "nbformat": 4,
 "nbformat_minor": 2
}

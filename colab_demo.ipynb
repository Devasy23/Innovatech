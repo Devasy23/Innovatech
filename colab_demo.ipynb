{
  "cells": [
    {
      "cell_type": "code",
      "execution_count": 1,
      "metadata": {
        "id": "r-308lV1J_Re"
      },
      "outputs": [],
      "source": [
        "from IPython import display\n"
      ]
    },
    {
      "cell_type": "code",
      "execution_count": 2,
      "metadata": {
        "id": "Rs5Wx7uWJ_Rh",
        "outputId": "3070fabd-6dab-4ca1-ff12-a0f5186ae0d4",
        "colab": {
          "base_uri": "https://localhost:8080/",
          "height": 622
        }
      },
      "outputs": [
        {
          "output_type": "execute_result",
          "data": {
            "text/plain": [
              "<IPython.lib.display.IFrame at 0x7fd47ccff700>"
            ],
            "text/html": [
              "\n",
              "        <iframe\n",
              "            width=\"700\"\n",
              "            height=\"600\"\n",
              "            src=\"https://bot.dialogflow.com/a2a67de8-c7ca-467e-8965-79a2c3a15b80\"\n",
              "            frameborder=\"0\"\n",
              "            allowfullscreen\n",
              "        ></iframe>\n",
              "        "
            ]
          },
          "metadata": {},
          "execution_count": 2
        }
      ],
      "source": [
        "display.IFrame(src=\"https://bot.dialogflow.com/a2a67de8-c7ca-467e-8965-79a2c3a15b80\", width=700, height=600)"
      ]
    },
    {
      "cell_type": "code",
      "execution_count": 5,
      "metadata": {
        "id": "fohmeR25J_Ri",
        "outputId": "a5bf9795-1ed7-4c59-88d4-3a92f15917d7",
        "colab": {
          "base_uri": "https://localhost:8080/",
          "height": 489
        }
      },
      "outputs": [
        {
          "output_type": "stream",
          "name": "stderr",
          "text": [
            "/usr/local/lib/python3.8/dist-packages/IPython/core/display.py:701: UserWarning: Consider using IPython.display.IFrame instead\n",
            "  warnings.warn(\"Consider using IPython.display.IFrame instead\")\n"
          ]
        },
        {
          "output_type": "execute_result",
          "data": {
            "text/plain": [
              "<IPython.core.display.HTML object>"
            ],
            "text/html": [
              "<iframe width=\"350\" height=\"430\" allow=\"microphone;\" src=\"https://console.dialogflow.com/api-client/demo/embedded/a2a67de8-c7ca-467e-8965-79a2c3a15b80\"></iframe>"
            ]
          },
          "metadata": {},
          "execution_count": 5
        }
      ],
      "source": [
        "# <iframe height=\"430\" width=\"350\" src=\"https://bot.dialogflow.com/a2a67de8-c7ca-467e-8965-79a2c3a15b80\"></iframe>\n",
        "display.HTML('<iframe width=\"350\" height=\"430\" allow=\"microphone;\" src=\"https://console.dialogflow.com/api-client/demo/embedded/a2a67de8-c7ca-467e-8965-79a2c3a15b80\"></iframe>' )"
      ]
    }
  ],
  "metadata": {
    "kernelspec": {
      "display_name": "Python 3",
      "language": "python",
      "name": "python3"
    },
    "language_info": {
      "codemirror_mode": {
        "name": "ipython",
        "version": 3
      },
      "file_extension": ".py",
      "mimetype": "text/x-python",
      "name": "python",
      "nbconvert_exporter": "python",
      "pygments_lexer": "ipython3",
      "version": "3.10.5"
    },
    "orig_nbformat": 4,
    "colab": {
      "provenance": []
    }
  },
  "nbformat": 4,
  "nbformat_minor": 0
}